{
 "cells": [
  {
   "cell_type": "markdown",
   "metadata": {},
   "source": [
    "## Kevin Egedy\n",
    "## Lesson 2. Regression analysis: How Much Is Your Car Worth?"
   ]
  },
  {
   "cell_type": "markdown",
   "metadata": {},
   "source": [
    "<img src=\"https://upload.wikimedia.org/wikipedia/commons/thumb/7/72/Kelley_Blue_Book_Vertical.JPG/152px-Kelley_Blue_Book_Vertical.JPG\" style=\"height:200px;\">\n",
    "  \n",
    "  <p>This exercise will use data collected from <a href=\"https://www.kbb.com/\">Kelly Blue Book</a> for 2005 for used General Motors (GM) cars. The overall goal is to predict the suggested retail price of the car (<a href=\"http://ww2.amstat.org/publications/jse/jse_data_archive.htm\">Kuiper (2008), JSE</a>).</p>\n",
    "\n",
    "<p>The following features are available for this dataset:</p>\n",
    "<ul>\n",
    "<li>Price: Suggested retail price of the used 2005 GM car</li>\n",
    "<li>Mileage: Car mileage</li>\n",
    "<li>Cylinder: Number of cylinders in the engine</li>\n",
    "<li>Doors: Number of doors</li>\n",
    "<li>Cruise: Does it have cruise control</li>\n",
    "<li>Sound: Does it have upgraded sound?</li>\n",
    "<li>Leather: Does it have leather seats?</li>\n",
    "<li>Make columns (indicator variables):\n",
    "    <ul>\n",
    "        <li>Buick</li>\n",
    "        <li>Cadillac</li>\n",
    "        <li>Chevy</li>\n",
    "        <li>Pontiac</li>\n",
    "        <li>Saab</li>\n",
    "        <li>...</li>\n",
    "    </ul>\n",
    "</li>\n",
    "<li>Body Type columns (indicator variables):\n",
    "    <ul>\n",
    "        <li>convertible</li>\n",
    "        <li>coupe</li>\n",
    "        <li>hatchback</li>\n",
    "        <li>sedan</li>\n",
    "        <li>...</li>\n",
    "    </ul>\n",
    "</li>\n",
    "</ul>\n"
   ]
  },
  {
   "cell_type": "code",
   "execution_count": 1,
   "metadata": {},
   "outputs": [
    {
     "data": {
      "text/html": [
       "<div>\n",
       "<style scoped>\n",
       "    .dataframe tbody tr th:only-of-type {\n",
       "        vertical-align: middle;\n",
       "    }\n",
       "\n",
       "    .dataframe tbody tr th {\n",
       "        vertical-align: top;\n",
       "    }\n",
       "\n",
       "    .dataframe thead th {\n",
       "        text-align: right;\n",
       "    }\n",
       "</style>\n",
       "<table border=\"1\" class=\"dataframe\">\n",
       "  <thead>\n",
       "    <tr style=\"text-align: right;\">\n",
       "      <th></th>\n",
       "      <th>Price</th>\n",
       "      <th>Mileage</th>\n",
       "      <th>Make</th>\n",
       "      <th>Model</th>\n",
       "      <th>Trim</th>\n",
       "      <th>Type</th>\n",
       "      <th>Cylinder</th>\n",
       "      <th>Liter</th>\n",
       "      <th>Doors</th>\n",
       "      <th>Cruise</th>\n",
       "      <th>Sound</th>\n",
       "      <th>Leather</th>\n",
       "    </tr>\n",
       "  </thead>\n",
       "  <tbody>\n",
       "    <tr>\n",
       "      <td>0</td>\n",
       "      <td>17314.103129</td>\n",
       "      <td>8221</td>\n",
       "      <td>Buick</td>\n",
       "      <td>Century</td>\n",
       "      <td>Sedan 4D</td>\n",
       "      <td>Sedan</td>\n",
       "      <td>6</td>\n",
       "      <td>3.1</td>\n",
       "      <td>4</td>\n",
       "      <td>1</td>\n",
       "      <td>1</td>\n",
       "      <td>1</td>\n",
       "    </tr>\n",
       "    <tr>\n",
       "      <td>1</td>\n",
       "      <td>17542.036083</td>\n",
       "      <td>9135</td>\n",
       "      <td>Buick</td>\n",
       "      <td>Century</td>\n",
       "      <td>Sedan 4D</td>\n",
       "      <td>Sedan</td>\n",
       "      <td>6</td>\n",
       "      <td>3.1</td>\n",
       "      <td>4</td>\n",
       "      <td>1</td>\n",
       "      <td>1</td>\n",
       "      <td>0</td>\n",
       "    </tr>\n",
       "    <tr>\n",
       "      <td>2</td>\n",
       "      <td>16218.847862</td>\n",
       "      <td>13196</td>\n",
       "      <td>Buick</td>\n",
       "      <td>Century</td>\n",
       "      <td>Sedan 4D</td>\n",
       "      <td>Sedan</td>\n",
       "      <td>6</td>\n",
       "      <td>3.1</td>\n",
       "      <td>4</td>\n",
       "      <td>1</td>\n",
       "      <td>1</td>\n",
       "      <td>0</td>\n",
       "    </tr>\n",
       "    <tr>\n",
       "      <td>3</td>\n",
       "      <td>16336.913140</td>\n",
       "      <td>16342</td>\n",
       "      <td>Buick</td>\n",
       "      <td>Century</td>\n",
       "      <td>Sedan 4D</td>\n",
       "      <td>Sedan</td>\n",
       "      <td>6</td>\n",
       "      <td>3.1</td>\n",
       "      <td>4</td>\n",
       "      <td>1</td>\n",
       "      <td>0</td>\n",
       "      <td>0</td>\n",
       "    </tr>\n",
       "    <tr>\n",
       "      <td>4</td>\n",
       "      <td>16339.170324</td>\n",
       "      <td>19832</td>\n",
       "      <td>Buick</td>\n",
       "      <td>Century</td>\n",
       "      <td>Sedan 4D</td>\n",
       "      <td>Sedan</td>\n",
       "      <td>6</td>\n",
       "      <td>3.1</td>\n",
       "      <td>4</td>\n",
       "      <td>1</td>\n",
       "      <td>0</td>\n",
       "      <td>1</td>\n",
       "    </tr>\n",
       "  </tbody>\n",
       "</table>\n",
       "</div>"
      ],
      "text/plain": [
       "          Price  Mileage   Make    Model      Trim   Type  Cylinder  Liter  \\\n",
       "0  17314.103129     8221  Buick  Century  Sedan 4D  Sedan         6    3.1   \n",
       "1  17542.036083     9135  Buick  Century  Sedan 4D  Sedan         6    3.1   \n",
       "2  16218.847862    13196  Buick  Century  Sedan 4D  Sedan         6    3.1   \n",
       "3  16336.913140    16342  Buick  Century  Sedan 4D  Sedan         6    3.1   \n",
       "4  16339.170324    19832  Buick  Century  Sedan 4D  Sedan         6    3.1   \n",
       "\n",
       "   Doors  Cruise  Sound  Leather  \n",
       "0      4       1      1        1  \n",
       "1      4       1      1        0  \n",
       "2      4       1      1        0  \n",
       "3      4       1      0        0  \n",
       "4      4       1      0        1  "
      ]
     },
     "execution_count": 1,
     "metadata": {},
     "output_type": "execute_result"
    }
   ],
   "source": [
    "import pandas as pd\n",
    "import seaborn as sns; sns.set()\n",
    "from IPython.core.interactiveshell import InteractiveShell\n",
    "InteractiveShell.ast_node_interactivity = \"all\"\n",
    "pd.set_option(\"display.max_rows\", 101)\n",
    "\n",
    "cars = pd.read_csv('../data/cars.csv')\n",
    "cars.head()"
   ]
  },
  {
   "cell_type": "code",
   "execution_count": 2,
   "metadata": {},
   "outputs": [
    {
     "name": "stdout",
     "output_type": "stream",
     "text": [
      "<class 'pandas.core.frame.DataFrame'>\n",
      "RangeIndex: 804 entries, 0 to 803\n",
      "Data columns (total 12 columns):\n",
      "Price       804 non-null float64\n",
      "Mileage     804 non-null int64\n",
      "Make        804 non-null object\n",
      "Model       804 non-null object\n",
      "Trim        804 non-null object\n",
      "Type        804 non-null object\n",
      "Cylinder    804 non-null int64\n",
      "Liter       804 non-null float64\n",
      "Doors       804 non-null int64\n",
      "Cruise      804 non-null int64\n",
      "Sound       804 non-null int64\n",
      "Leather     804 non-null int64\n",
      "dtypes: float64(2), int64(6), object(4)\n",
      "memory usage: 75.5+ KB\n"
     ]
    }
   ],
   "source": [
    "cars.info()"
   ]
  },
  {
   "cell_type": "markdown",
   "metadata": {},
   "source": [
    "<h3>Q.0 What is minimum priced car? The maximum priced? What is the lowest, highest, and average mileage? How many rows of data are there? How many columns? Do any of the columns have null values?</h3>"
   ]
  },
  {
   "cell_type": "code",
   "execution_count": 3,
   "metadata": {},
   "outputs": [
    {
     "data": {
      "text/html": [
       "<div>\n",
       "<style scoped>\n",
       "    .dataframe tbody tr th:only-of-type {\n",
       "        vertical-align: middle;\n",
       "    }\n",
       "\n",
       "    .dataframe tbody tr th {\n",
       "        vertical-align: top;\n",
       "    }\n",
       "\n",
       "    .dataframe thead th {\n",
       "        text-align: right;\n",
       "    }\n",
       "</style>\n",
       "<table border=\"1\" class=\"dataframe\">\n",
       "  <thead>\n",
       "    <tr style=\"text-align: right;\">\n",
       "      <th></th>\n",
       "      <th>Price</th>\n",
       "      <th>Mileage</th>\n",
       "      <th>Cylinder</th>\n",
       "      <th>Liter</th>\n",
       "      <th>Doors</th>\n",
       "      <th>Cruise</th>\n",
       "      <th>Sound</th>\n",
       "      <th>Leather</th>\n",
       "    </tr>\n",
       "  </thead>\n",
       "  <tbody>\n",
       "    <tr>\n",
       "      <td>count</td>\n",
       "      <td>804.000000</td>\n",
       "      <td>804.000000</td>\n",
       "      <td>804.000000</td>\n",
       "      <td>804.000000</td>\n",
       "      <td>804.000000</td>\n",
       "      <td>804.000000</td>\n",
       "      <td>804.000000</td>\n",
       "      <td>804.000000</td>\n",
       "    </tr>\n",
       "    <tr>\n",
       "      <td>mean</td>\n",
       "      <td>21343.143767</td>\n",
       "      <td>19831.934080</td>\n",
       "      <td>5.268657</td>\n",
       "      <td>3.037313</td>\n",
       "      <td>3.527363</td>\n",
       "      <td>0.752488</td>\n",
       "      <td>0.679104</td>\n",
       "      <td>0.723881</td>\n",
       "    </tr>\n",
       "    <tr>\n",
       "      <td>std</td>\n",
       "      <td>9884.852801</td>\n",
       "      <td>8196.319707</td>\n",
       "      <td>1.387531</td>\n",
       "      <td>1.105562</td>\n",
       "      <td>0.850169</td>\n",
       "      <td>0.431836</td>\n",
       "      <td>0.467111</td>\n",
       "      <td>0.447355</td>\n",
       "    </tr>\n",
       "    <tr>\n",
       "      <td>min</td>\n",
       "      <td>8638.930895</td>\n",
       "      <td>266.000000</td>\n",
       "      <td>4.000000</td>\n",
       "      <td>1.600000</td>\n",
       "      <td>2.000000</td>\n",
       "      <td>0.000000</td>\n",
       "      <td>0.000000</td>\n",
       "      <td>0.000000</td>\n",
       "    </tr>\n",
       "    <tr>\n",
       "      <td>25%</td>\n",
       "      <td>14273.073870</td>\n",
       "      <td>14623.500000</td>\n",
       "      <td>4.000000</td>\n",
       "      <td>2.200000</td>\n",
       "      <td>4.000000</td>\n",
       "      <td>1.000000</td>\n",
       "      <td>0.000000</td>\n",
       "      <td>0.000000</td>\n",
       "    </tr>\n",
       "    <tr>\n",
       "      <td>50%</td>\n",
       "      <td>18024.995019</td>\n",
       "      <td>20913.500000</td>\n",
       "      <td>6.000000</td>\n",
       "      <td>2.800000</td>\n",
       "      <td>4.000000</td>\n",
       "      <td>1.000000</td>\n",
       "      <td>1.000000</td>\n",
       "      <td>1.000000</td>\n",
       "    </tr>\n",
       "    <tr>\n",
       "      <td>75%</td>\n",
       "      <td>26717.316636</td>\n",
       "      <td>25213.000000</td>\n",
       "      <td>6.000000</td>\n",
       "      <td>3.800000</td>\n",
       "      <td>4.000000</td>\n",
       "      <td>1.000000</td>\n",
       "      <td>1.000000</td>\n",
       "      <td>1.000000</td>\n",
       "    </tr>\n",
       "    <tr>\n",
       "      <td>max</td>\n",
       "      <td>70755.466717</td>\n",
       "      <td>50387.000000</td>\n",
       "      <td>8.000000</td>\n",
       "      <td>6.000000</td>\n",
       "      <td>4.000000</td>\n",
       "      <td>1.000000</td>\n",
       "      <td>1.000000</td>\n",
       "      <td>1.000000</td>\n",
       "    </tr>\n",
       "  </tbody>\n",
       "</table>\n",
       "</div>"
      ],
      "text/plain": [
       "              Price       Mileage    Cylinder       Liter       Doors  \\\n",
       "count    804.000000    804.000000  804.000000  804.000000  804.000000   \n",
       "mean   21343.143767  19831.934080    5.268657    3.037313    3.527363   \n",
       "std     9884.852801   8196.319707    1.387531    1.105562    0.850169   \n",
       "min     8638.930895    266.000000    4.000000    1.600000    2.000000   \n",
       "25%    14273.073870  14623.500000    4.000000    2.200000    4.000000   \n",
       "50%    18024.995019  20913.500000    6.000000    2.800000    4.000000   \n",
       "75%    26717.316636  25213.000000    6.000000    3.800000    4.000000   \n",
       "max    70755.466717  50387.000000    8.000000    6.000000    4.000000   \n",
       "\n",
       "           Cruise       Sound     Leather  \n",
       "count  804.000000  804.000000  804.000000  \n",
       "mean     0.752488    0.679104    0.723881  \n",
       "std      0.431836    0.467111    0.447355  \n",
       "min      0.000000    0.000000    0.000000  \n",
       "25%      1.000000    0.000000    0.000000  \n",
       "50%      1.000000    1.000000    1.000000  \n",
       "75%      1.000000    1.000000    1.000000  \n",
       "max      1.000000    1.000000    1.000000  "
      ]
     },
     "execution_count": 3,
     "metadata": {},
     "output_type": "execute_result"
    },
    {
     "name": "stdout",
     "output_type": "stream",
     "text": [
      "Minimum priced car is 8638.93\n",
      "Minimum priced car is 70755.47\n",
      "Minimum mileage is 266.00\n",
      "Minimum mileage is 50387.00\n",
      "Average mileage is 19831.93\n",
      "Number of rows is 804\n",
      "Number of columns is 12\n",
      "Columns: ['Price', 'Mileage', 'Make', 'Model', 'Trim', 'Type', 'Cylinder', 'Liter', 'Doors', 'Cruise', 'Sound', 'Leather']\n",
      "Number of null values is 0\n"
     ]
    }
   ],
   "source": [
    "# Put the command (or commands) here to answer the questions above.\n",
    "#TODO\n",
    "cars.describe()\n",
    "print(f\"Minimum priced car is {cars['Price'].min():0.2F}\")\n",
    "print(f\"Minimum priced car is {cars['Price'].max():0.2F}\")\n",
    "print(f\"Minimum mileage is {cars['Mileage'].min():0.2F}\")\n",
    "print(f\"Minimum mileage is {cars['Mileage'].max():0.2F}\")\n",
    "print(f\"Average mileage is {cars['Mileage'].mean():0.2F}\")\n",
    "print(f'Number of rows is {len(cars)}')\n",
    "print(f'Number of columns is {len(cars.columns)}')\n",
    "print(f'Columns: {list(cars.columns)}')\n",
    "print(f'Number of null values is {cars.isnull().sum().sum()}')"
   ]
  },
  {
   "cell_type": "markdown",
   "metadata": {},
   "source": [
    "<h3>Q.1. Plot Price vs. Mileage. From the plot, does it seem like cars with more mileage are worth less?</h3>"
   ]
  },
  {
   "cell_type": "code",
   "execution_count": 4,
   "metadata": {},
   "outputs": [
    {
     "data": {
      "image/png": "[encoded data removed]",
      "text/plain": [
       "<Figure size 576x432 with 1 Axes>"
      ]
     },
     "metadata": {
      "needs_background": "light"
     },
     "output_type": "display_data"
    }
   ],
   "source": [
    "# Put the command (or commands) here that would give answer to the above question.\n",
    "import matplotlib.pyplot as plt\n",
    "%matplotlib inline\n",
    "\n",
    "fig,ax = plt.subplots(1,figsize=(8,6))\n",
    "#X = np.array(cars['Mileage']).reshape(-1, 1) \n",
    "X = cars['Mileage']\n",
    "#y = np.array(cars['Price']).reshape(-1, 1) \n",
    "y = cars['Price']\n",
    "ax.scatter(X,y)\n",
    "\n",
    "fig.suptitle('Prive vs. Mileage Correlation')\n",
    "ax.set_xlabel('Mileage')\n",
    "ax.set_ylabel('Price')\n",
    "plt.show();"
   ]
  },
  {
   "cell_type": "markdown",
   "metadata": {},
   "source": [
    "<p>\n",
    "Answer:\n",
    "    \n",
    "It is not immediately clear that cars with more mileage are worth less. Most of the data samples occur between 10000-30000 miles and 10000-30000 dollars. In general, there is a downward trend in price as miles increase.\n",
    "</p>"
   ]
  },
  {
   "cell_type": "markdown",
   "metadata": {},
   "source": [
    "<h3>Q.2. Develop a simple linear regression model, relating price with mileage only. Show summary statistics for the model.</h3> "
   ]
  },
  {
   "cell_type": "code",
   "execution_count": 5,
   "metadata": {},
   "outputs": [],
   "source": [
    "# https://stackoverflow.com/questions/30650257/ols-using-statsmodel-formula-api-versus-statsmodel-api\n",
    "# for understanding difference between statsmodels.api.OLS and statsmodels.formula.api.ols\n",
    "\n",
    "from sklearn.model_selection import train_test_split\n",
    "X_train, X_test, y_train, y_test = train_test_split(cars['Mileage'], cars['Price'], test_size=0.3)"
   ]
  },
  {
   "cell_type": "code",
   "execution_count": 6,
   "metadata": {},
   "outputs": [
    {
     "name": "stdout",
     "output_type": "stream",
     "text": [
      "SKLEARN SUMMARY\n",
      "Coefficients: -0.15549527551233172\n",
      "Intercept: 24427.30724656828\n",
      "\n",
      "SCIPY STATS SUMMARY\n",
      "Slope: -0.15549527551233167\n",
      "Intercept: 24427.30724656828\n",
      "r_value: -0.13473078125232416\n",
      "p_value: 0.0013671515469304138\n",
      "\n",
      "STATSMODELS SUMMARY\n",
      "                            OLS Regression Results                            \n",
      "==============================================================================\n",
      "Dep. Variable:                  Price   R-squared:                       0.018\n",
      "Model:                            OLS   Adj. R-squared:                  0.016\n",
      "Method:                 Least Squares   F-statistic:                     10.35\n",
      "Date:                Tue, 20 Oct 2020   Prob (F-statistic):            0.00137\n",
      "Time:                        17:10:00   Log-Likelihood:                -5939.9\n",
      "No. Observations:                 562   AIC:                         1.188e+04\n",
      "Df Residuals:                     560   BIC:                         1.189e+04\n",
      "Df Model:                           1                                         \n",
      "Covariance Type:            nonrobust                                         \n",
      "==============================================================================\n",
      "                 coef    std err          t      P>|t|      [0.025      0.975]\n",
      "------------------------------------------------------------------------------\n",
      "const       2.443e+04   1050.903     23.244      0.000    2.24e+04    2.65e+04\n",
      "Mileage       -0.1555      0.048     -3.218      0.001      -0.250      -0.061\n",
      "==============================================================================\n",
      "Omnibus:                      146.181   Durbin-Watson:                   2.016\n",
      "Prob(Omnibus):                  0.000   Jarque-Bera (JB):              319.046\n",
      "Skew:                           1.388   Prob(JB):                     5.25e-70\n",
      "Kurtosis:                       5.434   Cond. No.                     5.74e+04\n",
      "==============================================================================\n",
      "\n",
      "Warnings:\n",
      "[1] Standard Errors assume that the covariance matrix of the errors is correctly specified.\n",
      "[2] The condition number is large, 5.74e+04. This might indicate that there are\n",
      "strong multicollinearity or other numerical problems.\n"
     ]
    },
    {
     "name": "stderr",
     "output_type": "stream",
     "text": [
      "/home/kegedy/anaconda3/lib/python3.7/site-packages/numpy/core/fromnumeric.py:2495: FutureWarning: Method .ptp is deprecated and will be removed in a future version. Use numpy.ptp instead.\n",
      "  return ptp(axis=axis, out=out, **kwargs)\n"
     ]
    }
   ],
   "source": [
    "import numpy as np\n",
    "import pandas\n",
    "from pandas import DataFrame, Series\n",
    "import statsmodels.api as sm\n",
    "import statsmodels.formula.api as smf\n",
    "from sklearn.linear_model import LinearRegression\n",
    "from sklearn.metrics import classification_report, accuracy_score\n",
    "from scipy import stats\n",
    "\n",
    "# TODO: Linear regression model\n",
    "# TODO: Show summary statistics for the model\n",
    "\n",
    "print('SKLEARN SUMMARY')\n",
    "sklearnModel = LinearRegression().fit(\n",
    "    np.array(X_train).reshape(-1, 1),\n",
    "    np.array(y_train).reshape(-1, 1)\n",
    ")\n",
    "print(f'Coefficients: {sklearnModel.coef_[0][0]}')\n",
    "print(f'Intercept: {sklearnModel.intercept_[0]}')\n",
    "\n",
    "print('\\nSCIPY STATS SUMMARY')\n",
    "slope, intercept, r_value, p_value, std_err = stats.linregress(X_train, y_train)\n",
    "print(f'Slope: {slope}')\n",
    "print(f'Intercept: {intercept}')\n",
    "print(f'r_value: {r_value}')\n",
    "print(f'p_value: {p_value}')\n",
    "\n",
    "print('\\nSTATSMODELS SUMMARY')\n",
    "X_train_sm = sm.add_constant(X_train)\n",
    "statsModels = sm.OLS(y_train, X_train_sm).fit()\n",
    "print(statsModels.summary())"
   ]
  },
  {
   "cell_type": "markdown",
   "metadata": {},
   "source": [
    "<h3>Q.3. What happens to price when there is one more mile on the car?</h3>"
   ]
  },
  {
   "cell_type": "code",
   "execution_count": 25,
   "metadata": {},
   "outputs": [
    {
     "data": {
      "text/plain": [
       "'\\nThe price decreases as the miles increase on the car according to the model coefficient/slope (-$0.16).\\n'"
      ]
     },
     "execution_count": 25,
     "metadata": {},
     "output_type": "execute_result"
    }
   ],
   "source": [
    "# Command:\n",
    "\n",
    "# One sentence summary:\n",
    "'''\n",
    "The price decreases as the miles increase on the car according to the model coefficient/slope (-$0.16).\n",
    "''' "
   ]
  },
  {
   "cell_type": "markdown",
   "metadata": {},
   "source": [
    "<h3>Q.4. What is the expected value of a car with 0 miles according to your model?</h3>"
   ]
  },
  {
   "cell_type": "code",
   "execution_count": 8,
   "metadata": {},
   "outputs": [
    {
     "data": {
      "text/plain": [
       "'\\nThe expected value of a car with 0 miles is $26035 according to the model intercept.\\n'"
      ]
     },
     "execution_count": 8,
     "metadata": {},
     "output_type": "execute_result"
    }
   ],
   "source": [
    "# Single command\n",
    "'''\n",
    "The expected value of a car with 0 miles is $26035 according to the model intercept.\n",
    "'''"
   ]
  },
  {
   "cell_type": "markdown",
   "metadata": {},
   "source": [
    "<h3>Q.5. Plot residuals of the model vs. fitted values. Are there any problems that you see with the model?</h3>"
   ]
  },
  {
   "cell_type": "code",
   "execution_count": 9,
   "metadata": {},
   "outputs": [
    {
     "data": {
      "image/png": "[encoded data removed]",
      "text/plain": [
       "<Figure size 576x432 with 1 Axes>"
      ]
     },
     "metadata": {
      "needs_background": "light"
     },
     "output_type": "display_data"
    }
   ],
   "source": [
    "# Plot residuals\n",
    "fig,ax = plt.subplots(1,figsize=(8,6))\n",
    "\n",
    "y_pred = sklearnModel.predict(np.array(X_test).reshape(-1, 1))\n",
    "y_test = np.array(y_test).reshape(-1, 1)\n",
    "residuals = np.array(y_test - y_pred)\n",
    "s = sum(np.abs(residuals))[0]\n",
    "ax.scatter(y_pred,residuals)\n",
    "\n",
    "ax.set_title(f'Residuals vs. Fitted Values; $sum(|residuals|) = {round(s):.2E}$')\n",
    "ax.set_xlabel('Fitted Values')\n",
    "ax.set_ylabel('Residuals')\n",
    "plt.show();"
   ]
  },
  {
   "cell_type": "code",
   "execution_count": 10,
   "metadata": {},
   "outputs": [
    {
     "name": "stdout",
     "output_type": "stream",
     "text": [
      "R^2 Score : 0.01815\n"
     ]
    }
   ],
   "source": [
    "print(f'R^2 Score : {sklearnModel.score(np.array(X_train).reshape(-1, 1), np.array(y_train).reshape(-1, 1)) :0.5F}')"
   ]
  },
  {
   "cell_type": "markdown",
   "metadata": {
    "collapsed": true
   },
   "source": [
    "<p>\n",
    "<b>Explain whether there are any problems (1-2 sentence)</b>\n",
    "\n",
    "The residuals show that the model is not converging around the solution (y=0 line). Prediction errors vary widely at all mile inputs.\n",
    "</p>"
   ]
  },
  {
   "cell_type": "markdown",
   "metadata": {},
   "source": [
    "<h3>Q.6. Develop a model that predicts the Price from Mileage, Cylinder, Doors, Cruise, Sound, Leather data. Is this model more accurate - explain why (1-2 sentence). </h3>"
   ]
  },
  {
   "cell_type": "code",
   "execution_count": 11,
   "metadata": {},
   "outputs": [
    {
     "name": "stdout",
     "output_type": "stream",
     "text": [
      "Coefficients: [-1.56040703e-01  3.09430099e+03 -1.43527453e+03  6.36873119e+03\n",
      " -2.15179116e+03  3.42230396e+03]\n",
      "Intercept: 7527.8863682425745\n",
      "                            OLS Regression Results                            \n",
      "==============================================================================\n",
      "Dep. Variable:                  Price   R-squared:                       0.434\n",
      "Model:                            OLS   Adj. R-squared:                  0.428\n",
      "Method:                 Least Squares   F-statistic:                     70.96\n",
      "Date:                Tue, 20 Oct 2020   Prob (F-statistic):           1.79e-65\n",
      "Time:                        17:10:01   Log-Likelihood:                -5807.8\n",
      "No. Observations:                 562   AIC:                         1.163e+04\n",
      "Df Residuals:                     555   BIC:                         1.166e+04\n",
      "Df Model:                           6                                         \n",
      "Covariance Type:            nonrobust                                         \n",
      "==============================================================================\n",
      "                 coef    std err          t      P>|t|      [0.025      0.975]\n",
      "------------------------------------------------------------------------------\n",
      "const       7527.8864   2147.804      3.505      0.000    3309.067    1.17e+04\n",
      "Mileage       -0.1560      0.038     -4.116      0.000      -0.231      -0.082\n",
      "Cylinder    3094.3010    247.690     12.493      0.000    2607.777    3580.825\n",
      "Doors      -1435.2745    374.830     -3.829      0.000   -2171.533    -699.016\n",
      "Cruise      6368.7312    800.376      7.957      0.000    4796.594    7940.868\n",
      "Sound      -2151.7912    685.617     -3.138      0.002   -3498.512    -805.071\n",
      "Leather     3422.3040    722.923      4.734      0.000    2002.304    4842.304\n",
      "==============================================================================\n",
      "Omnibus:                       96.247   Durbin-Watson:                   2.089\n",
      "Prob(Omnibus):                  0.000   Jarque-Bera (JB):              159.241\n",
      "Skew:                           1.054   Prob(JB):                     2.64e-35\n",
      "Kurtosis:                       4.535   Cond. No.                     1.49e+05\n",
      "==============================================================================\n",
      "\n",
      "Warnings:\n",
      "[1] Standard Errors assume that the covariance matrix of the errors is correctly specified.\n",
      "[2] The condition number is large, 1.49e+05. This might indicate that there are\n",
      "strong multicollinearity or other numerical problems.\n",
      "\n",
      "P VALUES\n",
      "Cylinder    9.826967e-32\n",
      "Cruise      9.957115e-15\n",
      "Leather     2.798151e-06\n",
      "Mileage     4.446433e-05\n",
      "Doors       1.432465e-04\n",
      "const       4.936304e-04\n",
      "Sound       1.788486e-03\n",
      "dtype: float64\n"
     ]
    },
    {
     "name": "stderr",
     "output_type": "stream",
     "text": [
      "/home/kegedy/anaconda3/lib/python3.7/site-packages/numpy/core/fromnumeric.py:2495: FutureWarning: Method .ptp is deprecated and will be removed in a future version. Use numpy.ptp instead.\n",
      "  return ptp(axis=axis, out=out, **kwargs)\n"
     ]
    }
   ],
   "source": [
    "# Commands:\n",
    "from sklearn.preprocessing import StandardScaler\n",
    "scale = StandardScaler()\n",
    "\n",
    "y = cars['Price']\n",
    "X = cars[['Mileage','Cylinder','Doors','Cruise','Sound','Leather']]\n",
    "X_train, X_test, y_train, y_test = train_test_split(X, y, test_size=0.3)\n",
    "#X_train[['Mileage','Cylinder','Doors','Cruise','Sound','Leather']] = scale.fit_transform(X_train)\n",
    "\n",
    "# sklearn\n",
    "sklearnModel = LinearRegression().fit(X_train,y_train)\n",
    "print(f'Coefficients: {sklearnModel.coef_}')\n",
    "print(f'Intercept: {sklearnModel.intercept_}')\n",
    "\n",
    "# statsmodel\n",
    "X_train_sm = sm.add_constant(X_train)\n",
    "statsModels = sm.OLS(y_train, X_train_sm).fit()\n",
    "print(statsModels.summary())\n",
    "print('\\nP VALUES')\n",
    "print(statsModels.pvalues[statsModels.pvalues < 0.05].sort_values())"
   ]
  },
  {
   "cell_type": "code",
   "execution_count": 12,
   "metadata": {},
   "outputs": [
    {
     "data": {
      "image/png": "[encoded data removed]",
      "text/plain": [
       "<Figure size 576x432 with 1 Axes>"
      ]
     },
     "metadata": {
      "needs_background": "light"
     },
     "output_type": "display_data"
    }
   ],
   "source": [
    "# Plot residuals\n",
    "fig,ax = plt.subplots(1,figsize=(8,6))\n",
    "\n",
    "y_pred = sklearnModel.predict(X_test)\n",
    "residuals = np.array(y_test - y_pred)\n",
    "s = sum(abs(residuals))\n",
    "ax.scatter(y_pred,residuals)\n",
    "\n",
    "ax.set_title(f'Residuals vs. Fitted Values; $sum(|residuals|) = {round(s):.2E}$')\n",
    "ax.set_xlabel('Fitted Values')\n",
    "ax.set_ylabel('Residuals')\n",
    "plt.show();"
   ]
  },
  {
   "cell_type": "code",
   "execution_count": 13,
   "metadata": {},
   "outputs": [
    {
     "name": "stdout",
     "output_type": "stream",
     "text": [
      "Score : 0.43410\n"
     ]
    }
   ],
   "source": [
    "print(f'Score : {sklearnModel.score(X_train, y_train) :0.5F}')"
   ]
  },
  {
   "cell_type": "markdown",
   "metadata": {},
   "source": [
    "<p>\n",
    "<b>Comments:</b>\n",
    "\n",
    "Looking at the coefficient of determination $R^{2}$, it can be seen that the model improves dramaticallly. Previous value improves from 0.021 to 0.443. \n",
    "</p>\n",
    "    "
   ]
  },
  {
   "cell_type": "markdown",
   "metadata": {},
   "source": [
    "<h3>Q.7. Are any of the features in the above model highly colinear to the point where they impact the model quality?</h3>"
   ]
  },
  {
   "cell_type": "code",
   "execution_count": 14,
   "metadata": {},
   "outputs": [
    {
     "data": {
      "image/png": "[encoded data removed]",
      "text/plain": [
       "<Figure size 1080x360 with 1 Axes>"
      ]
     },
     "metadata": {
      "needs_background": "light"
     },
     "output_type": "display_data"
    }
   ],
   "source": [
    "# Command(s):\n",
    "fig,ax = plt.subplots(1, figsize=(15, 5))\n",
    "ax = sns.lineplot(list(range(residuals.shape[0])),residuals)\n",
    "plt.xlabel('Observation')\n",
    "plt.ylabel('Residual')\n",
    "plt.title('Correlation of error terms', fontweight='bold')\n",
    "plt.show();"
   ]
  },
  {
   "cell_type": "code",
   "execution_count": 15,
   "metadata": {},
   "outputs": [
    {
     "data": {
      "image/png": "[encoded data removed]",
      "text/plain": [
       "<Figure size 864x648 with 2 Axes>"
      ]
     },
     "metadata": {
      "needs_background": "light"
     },
     "output_type": "display_data"
    }
   ],
   "source": [
    "f, ax = plt.subplots(figsize=(12, 9))\n",
    "\n",
    "corr_matrix = X_train.corr().abs()\n",
    "sns.heatmap(corr_matrix, vmax=1, square=True)\n",
    "plt.xticks(rotation=90)\n",
    "plt.yticks(rotation=0)\n",
    "plt.show();"
   ]
  },
  {
   "cell_type": "markdown",
   "metadata": {
    "collapsed": true
   },
   "source": [
    "<p>\n",
    "<b>Comments:</b>\n",
    "\n",
    "There is a slight increase in error as the observations increase. This suggests there is some collinearity, since it reduces the accuracy of the estimates of the regression coefficients. Looking at the correlation matrix there is some collinearity between cruise and cylinder.\n",
    "</p>"
   ]
  },
  {
   "cell_type": "markdown",
   "metadata": {},
   "source": [
    "<h3>Q.8. What is the expected price for the Chevy sedan described in variable 'chevy', shown below?</h3>"
   ]
  },
  {
   "cell_type": "code",
   "execution_count": 16,
   "metadata": {},
   "outputs": [
    {
     "name": "stdout",
     "output_type": "stream",
     "text": [
      "Expected price for Chevy sedan is $19992.56\n"
     ]
    }
   ],
   "source": [
    "x = {'Mileage':30000, 'Cylinder':4, 'Doors':2, 'Cruise':1, 'Sound':1, 'Leather':1}\n",
    "chevy = pd.DataFrame.from_dict(data=x,orient='index').T\n",
    "\n",
    "# Commands that estimate the price of 'chevy' using the model with 6 predictors\n",
    "y_pred = sklearnModel.predict(chevy)\n",
    "print(f'Expected price for Chevy sedan is ${round(y_pred[0],2)}')"
   ]
  },
  {
   "cell_type": "markdown",
   "metadata": {},
   "source": [
    "<h3>Q.9. What is the expected price for the Chevy mentioned above if you include all features in the prediction? Can you comment on any problems you encounter when doing this prediction?</h3>"
   ]
  },
  {
   "cell_type": "code",
   "execution_count": 17,
   "metadata": {},
   "outputs": [
    {
     "data": {
      "text/html": [
       "<div>\n",
       "<style scoped>\n",
       "    .dataframe tbody tr th:only-of-type {\n",
       "        vertical-align: middle;\n",
       "    }\n",
       "\n",
       "    .dataframe tbody tr th {\n",
       "        vertical-align: top;\n",
       "    }\n",
       "\n",
       "    .dataframe thead th {\n",
       "        text-align: right;\n",
       "    }\n",
       "</style>\n",
       "<table border=\"1\" class=\"dataframe\">\n",
       "  <thead>\n",
       "    <tr style=\"text-align: right;\">\n",
       "      <th></th>\n",
       "      <th>Mileage</th>\n",
       "      <th>Make</th>\n",
       "      <th>Model</th>\n",
       "      <th>Trim</th>\n",
       "      <th>Type</th>\n",
       "      <th>Cylinder</th>\n",
       "      <th>Liter</th>\n",
       "      <th>Doors</th>\n",
       "      <th>Cruise</th>\n",
       "      <th>Sound</th>\n",
       "      <th>Leather</th>\n",
       "      <th>Make_enc</th>\n",
       "      <th>Model_enc</th>\n",
       "      <th>Trim_enc</th>\n",
       "      <th>Type_enc</th>\n",
       "    </tr>\n",
       "  </thead>\n",
       "  <tbody>\n",
       "    <tr>\n",
       "      <td>0</td>\n",
       "      <td>8221</td>\n",
       "      <td>Buick</td>\n",
       "      <td>Century</td>\n",
       "      <td>Sedan 4D</td>\n",
       "      <td>Sedan</td>\n",
       "      <td>6</td>\n",
       "      <td>3.1</td>\n",
       "      <td>4</td>\n",
       "      <td>1</td>\n",
       "      <td>1</td>\n",
       "      <td>1</td>\n",
       "      <td>0</td>\n",
       "      <td>10</td>\n",
       "      <td>44</td>\n",
       "      <td>3</td>\n",
       "    </tr>\n",
       "    <tr>\n",
       "      <td>1</td>\n",
       "      <td>9135</td>\n",
       "      <td>Buick</td>\n",
       "      <td>Century</td>\n",
       "      <td>Sedan 4D</td>\n",
       "      <td>Sedan</td>\n",
       "      <td>6</td>\n",
       "      <td>3.1</td>\n",
       "      <td>4</td>\n",
       "      <td>1</td>\n",
       "      <td>1</td>\n",
       "      <td>0</td>\n",
       "      <td>0</td>\n",
       "      <td>10</td>\n",
       "      <td>44</td>\n",
       "      <td>3</td>\n",
       "    </tr>\n",
       "    <tr>\n",
       "      <td>2</td>\n",
       "      <td>13196</td>\n",
       "      <td>Buick</td>\n",
       "      <td>Century</td>\n",
       "      <td>Sedan 4D</td>\n",
       "      <td>Sedan</td>\n",
       "      <td>6</td>\n",
       "      <td>3.1</td>\n",
       "      <td>4</td>\n",
       "      <td>1</td>\n",
       "      <td>1</td>\n",
       "      <td>0</td>\n",
       "      <td>0</td>\n",
       "      <td>10</td>\n",
       "      <td>44</td>\n",
       "      <td>3</td>\n",
       "    </tr>\n",
       "    <tr>\n",
       "      <td>3</td>\n",
       "      <td>16342</td>\n",
       "      <td>Buick</td>\n",
       "      <td>Century</td>\n",
       "      <td>Sedan 4D</td>\n",
       "      <td>Sedan</td>\n",
       "      <td>6</td>\n",
       "      <td>3.1</td>\n",
       "      <td>4</td>\n",
       "      <td>1</td>\n",
       "      <td>0</td>\n",
       "      <td>0</td>\n",
       "      <td>0</td>\n",
       "      <td>10</td>\n",
       "      <td>44</td>\n",
       "      <td>3</td>\n",
       "    </tr>\n",
       "    <tr>\n",
       "      <td>4</td>\n",
       "      <td>19832</td>\n",
       "      <td>Buick</td>\n",
       "      <td>Century</td>\n",
       "      <td>Sedan 4D</td>\n",
       "      <td>Sedan</td>\n",
       "      <td>6</td>\n",
       "      <td>3.1</td>\n",
       "      <td>4</td>\n",
       "      <td>1</td>\n",
       "      <td>0</td>\n",
       "      <td>1</td>\n",
       "      <td>0</td>\n",
       "      <td>10</td>\n",
       "      <td>44</td>\n",
       "      <td>3</td>\n",
       "    </tr>\n",
       "  </tbody>\n",
       "</table>\n",
       "</div>"
      ],
      "text/plain": [
       "   Mileage   Make    Model      Trim   Type  Cylinder  Liter  Doors  Cruise  \\\n",
       "0     8221  Buick  Century  Sedan 4D  Sedan         6    3.1      4       1   \n",
       "1     9135  Buick  Century  Sedan 4D  Sedan         6    3.1      4       1   \n",
       "2    13196  Buick  Century  Sedan 4D  Sedan         6    3.1      4       1   \n",
       "3    16342  Buick  Century  Sedan 4D  Sedan         6    3.1      4       1   \n",
       "4    19832  Buick  Century  Sedan 4D  Sedan         6    3.1      4       1   \n",
       "\n",
       "   Sound  Leather  Make_enc  Model_enc  Trim_enc  Type_enc  \n",
       "0      1        1         0         10        44         3  \n",
       "1      1        0         0         10        44         3  \n",
       "2      1        0         0         10        44         3  \n",
       "3      0        0         0         10        44         3  \n",
       "4      0        1         0         10        44         3  "
      ]
     },
     "execution_count": 17,
     "metadata": {},
     "output_type": "execute_result"
    },
    {
     "data": {
      "text/html": [
       "<div>\n",
       "<style scoped>\n",
       "    .dataframe tbody tr th:only-of-type {\n",
       "        vertical-align: middle;\n",
       "    }\n",
       "\n",
       "    .dataframe tbody tr th {\n",
       "        vertical-align: top;\n",
       "    }\n",
       "\n",
       "    .dataframe thead th {\n",
       "        text-align: right;\n",
       "    }\n",
       "</style>\n",
       "<table border=\"1\" class=\"dataframe\">\n",
       "  <thead>\n",
       "    <tr style=\"text-align: right;\">\n",
       "      <th></th>\n",
       "      <th>Mileage</th>\n",
       "      <th>Make</th>\n",
       "      <th>Model</th>\n",
       "      <th>Trim</th>\n",
       "      <th>Type</th>\n",
       "      <th>Cylinder</th>\n",
       "      <th>Liter</th>\n",
       "      <th>Doors</th>\n",
       "      <th>Cruise</th>\n",
       "      <th>Sound</th>\n",
       "      <th>Leather</th>\n",
       "    </tr>\n",
       "  </thead>\n",
       "  <tbody>\n",
       "    <tr>\n",
       "      <td>616</td>\n",
       "      <td>21461</td>\n",
       "      <td>3</td>\n",
       "      <td>30</td>\n",
       "      <td>17</td>\n",
       "      <td>4</td>\n",
       "      <td>4</td>\n",
       "      <td>1.8</td>\n",
       "      <td>4</td>\n",
       "      <td>0</td>\n",
       "      <td>0</td>\n",
       "      <td>0</td>\n",
       "    </tr>\n",
       "    <tr>\n",
       "      <td>126</td>\n",
       "      <td>20910</td>\n",
       "      <td>1</td>\n",
       "      <td>14</td>\n",
       "      <td>44</td>\n",
       "      <td>3</td>\n",
       "      <td>8</td>\n",
       "      <td>4.6</td>\n",
       "      <td>4</td>\n",
       "      <td>1</td>\n",
       "      <td>0</td>\n",
       "      <td>1</td>\n",
       "    </tr>\n",
       "    <tr>\n",
       "      <td>646</td>\n",
       "      <td>26345</td>\n",
       "      <td>4</td>\n",
       "      <td>1</td>\n",
       "      <td>34</td>\n",
       "      <td>3</td>\n",
       "      <td>4</td>\n",
       "      <td>2.0</td>\n",
       "      <td>4</td>\n",
       "      <td>1</td>\n",
       "      <td>1</td>\n",
       "      <td>1</td>\n",
       "    </tr>\n",
       "    <tr>\n",
       "      <td>517</td>\n",
       "      <td>26477</td>\n",
       "      <td>3</td>\n",
       "      <td>15</td>\n",
       "      <td>16</td>\n",
       "      <td>3</td>\n",
       "      <td>6</td>\n",
       "      <td>3.5</td>\n",
       "      <td>4</td>\n",
       "      <td>1</td>\n",
       "      <td>0</td>\n",
       "      <td>1</td>\n",
       "    </tr>\n",
       "    <tr>\n",
       "      <td>338</td>\n",
       "      <td>26204</td>\n",
       "      <td>2</td>\n",
       "      <td>12</td>\n",
       "      <td>44</td>\n",
       "      <td>3</td>\n",
       "      <td>4</td>\n",
       "      <td>2.2</td>\n",
       "      <td>4</td>\n",
       "      <td>0</td>\n",
       "      <td>1</td>\n",
       "      <td>1</td>\n",
       "    </tr>\n",
       "  </tbody>\n",
       "</table>\n",
       "</div>"
      ],
      "text/plain": [
       "     Mileage  Make  Model  Trim  Type  Cylinder Liter  Doors  Cruise  Sound  \\\n",
       "616    21461     3     30    17     4         4   1.8      4       0      0   \n",
       "126    20910     1     14    44     3         8   4.6      4       1      0   \n",
       "646    26345     4      1    34     3         4   2.0      4       1      1   \n",
       "517    26477     3     15    16     3         6   3.5      4       1      0   \n",
       "338    26204     2     12    44     3         4   2.2      4       0      1   \n",
       "\n",
       "     Leather  \n",
       "616        0  \n",
       "126        1  \n",
       "646        1  \n",
       "517        1  \n",
       "338        1  "
      ]
     },
     "execution_count": 17,
     "metadata": {},
     "output_type": "execute_result"
    },
    {
     "data": {
      "text/plain": [
       "['Make', 'Model', 'Trim', 'Type', 'Liter']"
      ]
     },
     "execution_count": 17,
     "metadata": {},
     "output_type": "execute_result"
    },
    {
     "data": {
      "text/html": [
       "<div>\n",
       "<style scoped>\n",
       "    .dataframe tbody tr th:only-of-type {\n",
       "        vertical-align: middle;\n",
       "    }\n",
       "\n",
       "    .dataframe tbody tr th {\n",
       "        vertical-align: top;\n",
       "    }\n",
       "\n",
       "    .dataframe thead th {\n",
       "        text-align: right;\n",
       "    }\n",
       "</style>\n",
       "<table border=\"1\" class=\"dataframe\">\n",
       "  <thead>\n",
       "    <tr style=\"text-align: right;\">\n",
       "      <th></th>\n",
       "      <th>Make</th>\n",
       "      <th>Model</th>\n",
       "      <th>Trim</th>\n",
       "      <th>Type</th>\n",
       "      <th>Liter</th>\n",
       "    </tr>\n",
       "  </thead>\n",
       "  <tbody>\n",
       "    <tr>\n",
       "      <td>count</td>\n",
       "      <td>320</td>\n",
       "      <td>320</td>\n",
       "      <td>320</td>\n",
       "      <td>320</td>\n",
       "      <td>320.0</td>\n",
       "    </tr>\n",
       "    <tr>\n",
       "      <td>unique</td>\n",
       "      <td>1</td>\n",
       "      <td>8</td>\n",
       "      <td>18</td>\n",
       "      <td>4</td>\n",
       "      <td>5.0</td>\n",
       "    </tr>\n",
       "    <tr>\n",
       "      <td>top</td>\n",
       "      <td>Chevrolet</td>\n",
       "      <td>AVEO</td>\n",
       "      <td>Sedan 4D</td>\n",
       "      <td>Sedan</td>\n",
       "      <td>2.2</td>\n",
       "    </tr>\n",
       "    <tr>\n",
       "      <td>freq</td>\n",
       "      <td>320</td>\n",
       "      <td>60</td>\n",
       "      <td>50</td>\n",
       "      <td>160</td>\n",
       "      <td>120.0</td>\n",
       "    </tr>\n",
       "  </tbody>\n",
       "</table>\n",
       "</div>"
      ],
      "text/plain": [
       "             Make Model      Trim   Type  Liter\n",
       "count         320   320       320    320  320.0\n",
       "unique          1     8        18      4    5.0\n",
       "top     Chevrolet  AVEO  Sedan 4D  Sedan    2.2\n",
       "freq          320    60        50    160  120.0"
      ]
     },
     "execution_count": 17,
     "metadata": {},
     "output_type": "execute_result"
    },
    {
     "data": {
      "text/html": [
       "<div>\n",
       "<style scoped>\n",
       "    .dataframe tbody tr th:only-of-type {\n",
       "        vertical-align: middle;\n",
       "    }\n",
       "\n",
       "    .dataframe tbody tr th {\n",
       "        vertical-align: top;\n",
       "    }\n",
       "\n",
       "    .dataframe thead th {\n",
       "        text-align: right;\n",
       "    }\n",
       "</style>\n",
       "<table border=\"1\" class=\"dataframe\">\n",
       "  <thead>\n",
       "    <tr style=\"text-align: right;\">\n",
       "      <th></th>\n",
       "      <th>Mileage</th>\n",
       "      <th>Make</th>\n",
       "      <th>Model</th>\n",
       "      <th>Trim</th>\n",
       "      <th>Type</th>\n",
       "      <th>Cylinder</th>\n",
       "      <th>Liter</th>\n",
       "      <th>Doors</th>\n",
       "      <th>Cruise</th>\n",
       "      <th>Sound</th>\n",
       "      <th>Leather</th>\n",
       "    </tr>\n",
       "  </thead>\n",
       "  <tbody>\n",
       "    <tr>\n",
       "      <td>0</td>\n",
       "      <td>30000</td>\n",
       "      <td>2.0</td>\n",
       "      <td>10.0</td>\n",
       "      <td>0.0</td>\n",
       "      <td>0.0</td>\n",
       "      <td>4</td>\n",
       "      <td>2.2</td>\n",
       "      <td>2</td>\n",
       "      <td>1</td>\n",
       "      <td>1</td>\n",
       "      <td>1</td>\n",
       "    </tr>\n",
       "  </tbody>\n",
       "</table>\n",
       "</div>"
      ],
      "text/plain": [
       "   Mileage  Make  Model  Trim  Type  Cylinder  Liter  Doors  Cruise  Sound  \\\n",
       "0    30000   2.0   10.0   0.0   0.0         4    2.2      2       1      1   \n",
       "\n",
       "   Leather  \n",
       "0        1  "
      ]
     },
     "execution_count": 17,
     "metadata": {},
     "output_type": "execute_result"
    },
    {
     "name": "stdout",
     "output_type": "stream",
     "text": [
      "Expected price for Chevy (all features) is $20425.82\n"
     ]
    }
   ],
   "source": [
    "# Commands\n",
    "from sklearn.preprocessing import LabelEncoder\n",
    "labelencoder = LabelEncoder()\n",
    "\n",
    "# Prep\n",
    "m = {}\n",
    "y = cars['Price']\n",
    "X = cars.drop(['Price'],axis=1)\n",
    "X_prep = X.copy()\n",
    "num_cols = X._get_numeric_data().columns\n",
    "cat_cols = [col for col in X.columns if col not in num_cols]\n",
    "for col in cat_cols:\n",
    "    X[col] = X[col].astype('category')\n",
    "    X_prep[col] = X_prep[col].astype('category')\n",
    "    X[f'{col}_enc'] = labelencoder.fit_transform(X[col])\n",
    "    X_prep[col] = labelencoder.fit_transform(X_prep[col])\n",
    "    m[col] = list(X[col].unique())\n",
    "    \n",
    "# Update Liter to categorical\n",
    "X_prep['Liter'] = X_prep['Liter'].astype('category')\n",
    "    \n",
    "# Split\n",
    "X_train, X_test, y_train, y_test = train_test_split(X_prep, y, test_size=0.3)\n",
    "X.head()\n",
    "X_train.head()\n",
    "\n",
    "# Missing Features\n",
    "missed = [x for x in X_prep.columns if x not in chevy.columns]\n",
    "missed\n",
    "\n",
    "# Explore data for Make == 'Chevrolet'\n",
    "sub = X.loc[X['Make']=='Chevrolet',missed]\n",
    "sub['Liter'] = sub['Liter'].astype('category')\n",
    "summary = sub.describe(include='category')\n",
    "summary\n",
    "\n",
    "# Find Top Model and Trim\n",
    "model = summary.loc['top','Model']\n",
    "trim = summary.loc['top','Trim']\n",
    "typ = summary.loc['top','Type']\n",
    "liter = summary.loc['top','Liter']\n",
    "make_enc = m['Make'].index('Chevrolet')\n",
    "model_enc = m['Model'].index(model)\n",
    "trim_enc = m['Trim'].index(trim)\n",
    "type_enc = m['Type'].index(typ)\n",
    "liter_enc = liter\n",
    "\n",
    "# Append missing columns to Chevy\n",
    "x = {\n",
    "    'Make':make_enc, \n",
    "    'Model':model_enc, \n",
    "    'Trim':trim_enc, \n",
    "    'Type':type_enc, \n",
    "    'Liter':liter_enc\n",
    "}\n",
    "missedDF = pd.DataFrame.from_dict(data=x,orient='index').T\n",
    "new_chevy = pd.concat([chevy, missedDF],axis=1)\n",
    "new_chevy = new_chevy[X_prep.columns] # rearrange cols\n",
    "new_chevy\n",
    "\n",
    "# sklearn\n",
    "sklearnModel = LinearRegression().fit(X_train,y_train)\n",
    "y_pred = sklearnModel.predict(new_chevy)\n",
    "print(f'Expected price for Chevy (all features) is ${round(y_pred[0],2)}')"
   ]
  },
  {
   "cell_type": "code",
   "execution_count": 23,
   "metadata": {},
   "outputs": [
    {
     "data": {
      "text/html": [
       "<div>\n",
       "<style scoped>\n",
       "    .dataframe tbody tr th:only-of-type {\n",
       "        vertical-align: middle;\n",
       "    }\n",
       "\n",
       "    .dataframe tbody tr th {\n",
       "        vertical-align: top;\n",
       "    }\n",
       "\n",
       "    .dataframe thead th {\n",
       "        text-align: right;\n",
       "    }\n",
       "</style>\n",
       "<table border=\"1\" class=\"dataframe\">\n",
       "  <thead>\n",
       "    <tr style=\"text-align: right;\">\n",
       "      <th></th>\n",
       "      <th>Model</th>\n",
       "      <th>Trim</th>\n",
       "      <th>count</th>\n",
       "    </tr>\n",
       "  </thead>\n",
       "  <tbody>\n",
       "    <tr>\n",
       "      <td>0</td>\n",
       "      <td>AVEO</td>\n",
       "      <td>LS Hatchback 4D</td>\n",
       "      <td>10</td>\n",
       "    </tr>\n",
       "    <tr>\n",
       "      <td>1</td>\n",
       "      <td>AVEO</td>\n",
       "      <td>LS Sedan 4D</td>\n",
       "      <td>10</td>\n",
       "    </tr>\n",
       "    <tr>\n",
       "      <td>2</td>\n",
       "      <td>AVEO</td>\n",
       "      <td>LT Hatchback 4D</td>\n",
       "      <td>10</td>\n",
       "    </tr>\n",
       "    <tr>\n",
       "      <td>3</td>\n",
       "      <td>AVEO</td>\n",
       "      <td>LT Sedan 4D</td>\n",
       "      <td>10</td>\n",
       "    </tr>\n",
       "    <tr>\n",
       "      <td>4</td>\n",
       "      <td>AVEO</td>\n",
       "      <td>SVM Hatchback 4D</td>\n",
       "      <td>10</td>\n",
       "    </tr>\n",
       "    <tr>\n",
       "      <td>5</td>\n",
       "      <td>AVEO</td>\n",
       "      <td>SVM Sedan 4D</td>\n",
       "      <td>10</td>\n",
       "    </tr>\n",
       "    <tr>\n",
       "      <td>6</td>\n",
       "      <td>Cavalier</td>\n",
       "      <td>Coupe 2D</td>\n",
       "      <td>10</td>\n",
       "    </tr>\n",
       "    <tr>\n",
       "      <td>7</td>\n",
       "      <td>Cavalier</td>\n",
       "      <td>LS Coupe 2D</td>\n",
       "      <td>10</td>\n",
       "    </tr>\n",
       "    <tr>\n",
       "      <td>8</td>\n",
       "      <td>Cavalier</td>\n",
       "      <td>LS Sedan 4D</td>\n",
       "      <td>10</td>\n",
       "    </tr>\n",
       "    <tr>\n",
       "      <td>9</td>\n",
       "      <td>Cavalier</td>\n",
       "      <td>LS Sport Coupe 2D</td>\n",
       "      <td>10</td>\n",
       "    </tr>\n",
       "  </tbody>\n",
       "</table>\n",
       "</div>"
      ],
      "text/plain": [
       "      Model               Trim  count\n",
       "0      AVEO    LS Hatchback 4D     10\n",
       "1      AVEO        LS Sedan 4D     10\n",
       "2      AVEO    LT Hatchback 4D     10\n",
       "3      AVEO        LT Sedan 4D     10\n",
       "4      AVEO   SVM Hatchback 4D     10\n",
       "5      AVEO       SVM Sedan 4D     10\n",
       "6  Cavalier           Coupe 2D     10\n",
       "7  Cavalier        LS Coupe 2D     10\n",
       "8  Cavalier        LS Sedan 4D     10\n",
       "9  Cavalier  LS Sport Coupe 2D     10"
      ]
     },
     "execution_count": 23,
     "metadata": {},
     "output_type": "execute_result"
    },
    {
     "data": {
      "text/plain": [
       "(32, 3)"
      ]
     },
     "execution_count": 23,
     "metadata": {},
     "output_type": "execute_result"
    }
   ],
   "source": [
    "# Chevy Combinations\n",
    "sub = X[X['Make_enc']==make_enc]\n",
    "c = sub.groupby(['Model', 'Trim']).size().reset_index().rename(columns={0:'count'}).sort_values(['Model', 'Trim'])\n",
    "c.head(n=10)\n",
    "c.shape"
   ]
  },
  {
   "cell_type": "code",
   "execution_count": 19,
   "metadata": {},
   "outputs": [
    {
     "data": {
      "text/html": [
       "<div>\n",
       "<style scoped>\n",
       "    .dataframe tbody tr th:only-of-type {\n",
       "        vertical-align: middle;\n",
       "    }\n",
       "\n",
       "    .dataframe tbody tr th {\n",
       "        vertical-align: top;\n",
       "    }\n",
       "\n",
       "    .dataframe thead th {\n",
       "        text-align: right;\n",
       "    }\n",
       "</style>\n",
       "<table border=\"1\" class=\"dataframe\">\n",
       "  <thead>\n",
       "    <tr style=\"text-align: right;\">\n",
       "      <th></th>\n",
       "      <th>chevy_preds</th>\n",
       "    </tr>\n",
       "  </thead>\n",
       "  <tbody>\n",
       "    <tr>\n",
       "      <td>count</td>\n",
       "      <td>32.000000</td>\n",
       "    </tr>\n",
       "    <tr>\n",
       "      <td>mean</td>\n",
       "      <td>15284.561924</td>\n",
       "    </tr>\n",
       "    <tr>\n",
       "      <td>std</td>\n",
       "      <td>2331.811944</td>\n",
       "    </tr>\n",
       "    <tr>\n",
       "      <td>min</td>\n",
       "      <td>11531.564487</td>\n",
       "    </tr>\n",
       "    <tr>\n",
       "      <td>25%</td>\n",
       "      <td>13445.806487</td>\n",
       "    </tr>\n",
       "    <tr>\n",
       "      <td>50%</td>\n",
       "      <td>14847.049079</td>\n",
       "    </tr>\n",
       "    <tr>\n",
       "      <td>75%</td>\n",
       "      <td>17527.785382</td>\n",
       "    </tr>\n",
       "    <tr>\n",
       "      <td>max</td>\n",
       "      <td>19053.524561</td>\n",
       "    </tr>\n",
       "  </tbody>\n",
       "</table>\n",
       "</div>"
      ],
      "text/plain": [
       "        chevy_preds\n",
       "count     32.000000\n",
       "mean   15284.561924\n",
       "std     2331.811944\n",
       "min    11531.564487\n",
       "25%    13445.806487\n",
       "50%    14847.049079\n",
       "75%    17527.785382\n",
       "max    19053.524561"
      ]
     },
     "execution_count": 19,
     "metadata": {},
     "output_type": "execute_result"
    }
   ],
   "source": [
    "# Predictions for all Chevy Models, Trims, Types, Liters\n",
    "x = {'Mileage':30000, 'Cylinder':4, 'Doors':2, 'Cruise':1, 'Sound':1, 'Leather':1}\n",
    "chevy = pd.DataFrame.from_dict(data=x,orient='index').T\n",
    "\n",
    "chevy_preds = []\n",
    "sub = X[X['Make_enc']==make_enc]\n",
    "for name,group in sub.groupby(['Model', 'Trim', 'Liter']):\n",
    "    group = group.reset_index(drop=True)\n",
    "    x = {\n",
    "        'Make':group.loc[0,'Make_enc'], \n",
    "        'Model':group.loc[0,'Model_enc'], \n",
    "        'Trim':group.loc[0,'Trim_enc'], \n",
    "        'Type':group.loc[0,'Type_enc'], \n",
    "        'Liter':group.loc[0,'Liter']\n",
    "    }\n",
    "    missedDF = pd.DataFrame.from_dict(data=x,orient='index').T\n",
    "    new_chevy = pd.concat([chevy, missedDF],axis=1)\n",
    "    new_chevy = new_chevy[X_prep.columns] # rearrange cols\n",
    "    price = sklearnModel.predict(new_chevy)\n",
    "    chevy_preds.append(price)\n",
    "    #print(\n",
    "    #    group.loc[0,'Model'],\n",
    "    #    group.loc[0,'Trim'],\n",
    "    #    group.loc[0,'Liter'],\n",
    "    #    round(price[0],2)\n",
    "    #)\n",
    "    \n",
    "chevyDF = pd.DataFrame(chevy_preds,columns=['chevy_preds'])\n",
    "chevyDF.describe()"
   ]
  },
  {
   "cell_type": "code",
   "execution_count": 20,
   "metadata": {},
   "outputs": [
    {
     "name": "stdout",
     "output_type": "stream",
     "text": [
      "                            OLS Regression Results                            \n",
      "==============================================================================\n",
      "Dep. Variable:                  Price   R-squared:                       0.499\n",
      "Model:                            OLS   Adj. R-squared:                  0.489\n",
      "Method:                 Least Squares   F-statistic:                     49.76\n",
      "Date:                Tue, 20 Oct 2020   Prob (F-statistic):           2.69e-75\n",
      "Time:                        17:10:01   Log-Likelihood:                -5766.7\n",
      "No. Observations:                 562   AIC:                         1.156e+04\n",
      "Df Residuals:                     550   BIC:                         1.161e+04\n",
      "Df Model:                          11                                         \n",
      "Covariance Type:            nonrobust                                         \n",
      "==============================================================================\n",
      "                 coef    std err          t      P>|t|      [0.025      0.975]\n",
      "------------------------------------------------------------------------------\n",
      "const       3980.2430   2828.997      1.407      0.160   -1576.717    9537.203\n",
      "Mileage       -0.1649      0.036     -4.542      0.000      -0.236      -0.094\n",
      "Make         761.0436    266.662      2.854      0.004     237.244    1284.844\n",
      "Model       -113.6901     41.004     -2.773      0.006    -194.233     -33.147\n",
      "Trim        -101.8920     23.059     -4.419      0.000    -147.187     -56.597\n",
      "Type        -365.1755    716.117     -0.510      0.610   -1771.834    1041.483\n",
      "Cylinder    4934.2596    820.167      6.016      0.000    3323.217    6545.303\n",
      "Liter      -1326.0182   1003.593     -1.321      0.187   -3297.362     645.326\n",
      "Doors       -670.9273    926.945     -0.724      0.469   -2491.712    1149.858\n",
      "Cruise      4766.3717    784.010      6.079      0.000    3226.352    6306.392\n",
      "Sound      -1706.8720    680.148     -2.510      0.012   -3042.877    -370.867\n",
      "Leather     2468.8240    690.857      3.574      0.000    1111.783    3825.865\n",
      "==============================================================================\n",
      "Omnibus:                      157.764   Durbin-Watson:                   2.090\n",
      "Prob(Omnibus):                  0.000   Jarque-Bera (JB):              508.291\n",
      "Skew:                           1.310   Prob(JB):                    4.23e-111\n",
      "Kurtosis:                       6.852   Cond. No.                     2.13e+05\n",
      "==============================================================================\n",
      "\n",
      "Warnings:\n",
      "[1] Standard Errors assume that the covariance matrix of the errors is correctly specified.\n",
      "[2] The condition number is large, 2.13e+05. This might indicate that there are\n",
      "strong multicollinearity or other numerical problems.\n"
     ]
    },
    {
     "name": "stderr",
     "output_type": "stream",
     "text": [
      "/home/kegedy/anaconda3/lib/python3.7/site-packages/numpy/core/fromnumeric.py:2495: FutureWarning: Method .ptp is deprecated and will be removed in a future version. Use numpy.ptp instead.\n",
      "  return ptp(axis=axis, out=out, **kwargs)\n"
     ]
    }
   ],
   "source": [
    "# statsmodel Summary\n",
    "X_train_sm = sm.add_constant(X_train)\n",
    "statsModels = sm.OLS(y_train, X_train_sm.astype(float)).fit()\n",
    "print(statsModels.summary())"
   ]
  },
  {
   "cell_type": "code",
   "execution_count": 21,
   "metadata": {},
   "outputs": [],
   "source": [
    "# Comments on problems\n",
    "# 1. Convert categorical labels into integer representation\n",
    "# 2. Supply values for missing labels since chevy only includes Mileage,Cylinder,Doors,Cruise,Sound,Leather\n",
    "#       Research different approaches for providing missing data\n",
    "# 3. Understand that some labels might be numerical but should be treated as categorical such as 'Liter'\n",
    "# 4. Model R^2 improved so there exists necessary features that need to be included in the model\n",
    "# 5. I noticed that the top Chevy input I provided doesn't exist in the data\n",
    "#      Even though the input I created isn't a real car - it still provides insight.\n",
    "#      The input was a combination of all the top features from Chevy vehicles."
   ]
  },
  {
   "cell_type": "markdown",
   "metadata": {},
   "source": [
    "<h3>Q.10. Create a new text cell in your Notebook: Complete a 50-100 word summary \n",
    "    (or short description of your thinking in applying this week's learning to the solution) \n",
    "     of your experience in this assignment. Include:\n",
    "<br>                                                                       \n",
    "What was your incoming experience with this model, if any?\n",
    "what steps you took, what obstacles you encountered.\n",
    "how you link this exercise to real-world, machine learning problem-solving. (What steps were missing? What else do you need to learn?)\n",
    "This summary allows your instructor to know how you are doing and allot points for your effort in thinking and planning, and making connections to real-world work.\n",
    "</h3>"
   ]
  },
  {
   "cell_type": "markdown",
   "metadata": {
    "collapsed": true
   },
   "source": [
    "<p>\n",
    "<b>enter your response here</b>\n",
    "\n",
    "I enjoyed learning how to read model scoring summaries. I gained a greater understanding of P variables and its importance in model dependence (P < 0.05). I also learned that if a variable has a confidence interval that includes 0, that this variable is likely to be insignificant. Lastly, I learned that plotting residuals against the number of observations is a great way to find collinearity. Using the scoring summaries, I'm able to find collinear variables and remove them to improve model performance.\n",
    "</p>"
   ]
  },
  {
   "cell_type": "code",
   "execution_count": null,
   "metadata": {},
   "outputs": [],
   "source": []
  }
 ],
 "metadata": {
  "kernelspec": {
   "display_name": "Python 3",
   "language": "python",
   "name": "python3"
  },
  "language_info": {
   "codemirror_mode": {
    "name": "ipython",
    "version": 3
   },
   "file_extension": ".py",
   "mimetype": "text/x-python",
   "name": "python",
   "nbconvert_exporter": "python",
   "pygments_lexer": "ipython3",
   "version": "3.7.4"
  }
 },
 "nbformat": 4,
 "nbformat_minor": 2
}
