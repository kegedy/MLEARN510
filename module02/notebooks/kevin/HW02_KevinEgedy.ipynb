{
 "cells": [
  {
   "cell_type": "markdown",
   "metadata": {},
   "source": [
    "## Kevin Egedy\n",
    "## Lesson 2. Regression analysis: How Much Is Your Car Worth?"
   ]
  },
  {
   "cell_type": "markdown",
   "metadata": {},
   "source": [
    "<img src=\"https://upload.wikimedia.org/wikipedia/commons/thumb/7/72/Kelley_Blue_Book_Vertical.JPG/152px-Kelley_Blue_Book_Vertical.JPG\" style=\"height:200px;\">\n",
    "  \n",
    "  <p>This exercise will use data collected from <a href=\"https://www.kbb.com/\">Kelly Blue Book</a> for 2005 for used General Motors (GM) cars. The overall goal is to predict the suggested retail price of the car (<a href=\"http://ww2.amstat.org/publications/jse/jse_data_archive.htm\">Kuiper (2008), JSE</a>).</p>\n",
    "\n",
    "<p>The following features are available for this dataset:</p>\n",
    "<ul>\n",
    "<li>Price: Suggested retail price of the used 2005 GM car</li>\n",
    "<li>Mileage: Car mileage</li>\n",
    "<li>Cylinder: Number of cylinders in the engine</li>\n",
    "<li>Doors: Number of doors</li>\n",
    "<li>Cruise: Does it have cruise control</li>\n",
    "<li>Sound: Does it have upgraded sound?</li>\n",
    "<li>Leather: Does it have leather seats?</li>\n",
    "<li>Make columns (indicator variables):\n",
    "    <ul>\n",
    "        <li>Buick</li>\n",
    "        <li>Cadillac</li>\n",
    "        <li>Chevy</li>\n",
    "        <li>Pontiac</li>\n",
    "        <li>Saab</li>\n",
    "        <li>...</li>\n",
    "    </ul>\n",
    "</li>\n",
    "<li>Body Type columns (indicator variables):\n",
    "    <ul>\n",
    "        <li>convertible</li>\n",
    "        <li>coupe</li>\n",
    "        <li>hatchback</li>\n",
    "        <li>sedan</li>\n",
    "        <li>...</li>\n",
    "    </ul>\n",
    "</li>\n",
    "</ul>\n"
   ]
  },
  {
   "cell_type": "code",
   "execution_count": 1,
   "metadata": {},
   "outputs": [
    {
     "data": {
      "text/html": [
       "<div>\n",
       "<style scoped>\n",
       "    .dataframe tbody tr th:only-of-type {\n",
       "        vertical-align: middle;\n",
       "    }\n",
       "\n",
       "    .dataframe tbody tr th {\n",
       "        vertical-align: top;\n",
       "    }\n",
       "\n",
       "    .dataframe thead th {\n",
       "        text-align: right;\n",
       "    }\n",
       "</style>\n",
       "<table border=\"1\" class=\"dataframe\">\n",
       "  <thead>\n",
       "    <tr style=\"text-align: right;\">\n",
       "      <th></th>\n",
       "      <th>Price</th>\n",
       "      <th>Mileage</th>\n",
       "      <th>Make</th>\n",
       "      <th>Model</th>\n",
       "      <th>Trim</th>\n",
       "      <th>Type</th>\n",
       "      <th>Cylinder</th>\n",
       "      <th>Liter</th>\n",
       "      <th>Doors</th>\n",
       "      <th>Cruise</th>\n",
       "      <th>Sound</th>\n",
       "      <th>Leather</th>\n",
       "    </tr>\n",
       "  </thead>\n",
       "  <tbody>\n",
       "    <tr>\n",
       "      <th>0</th>\n",
       "      <td>17314.103129</td>\n",
       "      <td>8221</td>\n",
       "      <td>Buick</td>\n",
       "      <td>Century</td>\n",
       "      <td>Sedan 4D</td>\n",
       "      <td>Sedan</td>\n",
       "      <td>6</td>\n",
       "      <td>3.1</td>\n",
       "      <td>4</td>\n",
       "      <td>1</td>\n",
       "      <td>1</td>\n",
       "      <td>1</td>\n",
       "    </tr>\n",
       "    <tr>\n",
       "      <th>1</th>\n",
       "      <td>17542.036083</td>\n",
       "      <td>9135</td>\n",
       "      <td>Buick</td>\n",
       "      <td>Century</td>\n",
       "      <td>Sedan 4D</td>\n",
       "      <td>Sedan</td>\n",
       "      <td>6</td>\n",
       "      <td>3.1</td>\n",
       "      <td>4</td>\n",
       "      <td>1</td>\n",
       "      <td>1</td>\n",
       "      <td>0</td>\n",
       "    </tr>\n",
       "    <tr>\n",
       "      <th>2</th>\n",
       "      <td>16218.847862</td>\n",
       "      <td>13196</td>\n",
       "      <td>Buick</td>\n",
       "      <td>Century</td>\n",
       "      <td>Sedan 4D</td>\n",
       "      <td>Sedan</td>\n",
       "      <td>6</td>\n",
       "      <td>3.1</td>\n",
       "      <td>4</td>\n",
       "      <td>1</td>\n",
       "      <td>1</td>\n",
       "      <td>0</td>\n",
       "    </tr>\n",
       "    <tr>\n",
       "      <th>3</th>\n",
       "      <td>16336.913140</td>\n",
       "      <td>16342</td>\n",
       "      <td>Buick</td>\n",
       "      <td>Century</td>\n",
       "      <td>Sedan 4D</td>\n",
       "      <td>Sedan</td>\n",
       "      <td>6</td>\n",
       "      <td>3.1</td>\n",
       "      <td>4</td>\n",
       "      <td>1</td>\n",
       "      <td>0</td>\n",
       "      <td>0</td>\n",
       "    </tr>\n",
       "    <tr>\n",
       "      <th>4</th>\n",
       "      <td>16339.170324</td>\n",
       "      <td>19832</td>\n",
       "      <td>Buick</td>\n",
       "      <td>Century</td>\n",
       "      <td>Sedan 4D</td>\n",
       "      <td>Sedan</td>\n",
       "      <td>6</td>\n",
       "      <td>3.1</td>\n",
       "      <td>4</td>\n",
       "      <td>1</td>\n",
       "      <td>0</td>\n",
       "      <td>1</td>\n",
       "    </tr>\n",
       "  </tbody>\n",
       "</table>\n",
       "</div>"
      ],
      "text/plain": [
       "          Price  Mileage   Make    Model      Trim   Type  Cylinder  Liter  \\\n",
       "0  17314.103129     8221  Buick  Century  Sedan 4D  Sedan         6    3.1   \n",
       "1  17542.036083     9135  Buick  Century  Sedan 4D  Sedan         6    3.1   \n",
       "2  16218.847862    13196  Buick  Century  Sedan 4D  Sedan         6    3.1   \n",
       "3  16336.913140    16342  Buick  Century  Sedan 4D  Sedan         6    3.1   \n",
       "4  16339.170324    19832  Buick  Century  Sedan 4D  Sedan         6    3.1   \n",
       "\n",
       "   Doors  Cruise  Sound  Leather  \n",
       "0      4       1      1        1  \n",
       "1      4       1      1        0  \n",
       "2      4       1      1        0  \n",
       "3      4       1      0        0  \n",
       "4      4       1      0        1  "
      ]
     },
     "execution_count": 1,
     "metadata": {},
     "output_type": "execute_result"
    }
   ],
   "source": [
    "import pandas as pd\n",
    "import seaborn as sns; sns.set()\n",
    "from IPython.core.interactiveshell import InteractiveShell\n",
    "InteractiveShell.ast_node_interactivity = \"all\"\n",
    "pd.set_option(\"display.max_rows\", 101)\n",
    "\n",
    "cars = pd.read_csv('../data/cars.csv')\n",
    "cars.head()"
   ]
  },
  {
   "cell_type": "code",
   "execution_count": 2,
   "metadata": {},
   "outputs": [
    {
     "name": "stdout",
     "output_type": "stream",
     "text": [
      "<class 'pandas.core.frame.DataFrame'>\n",
      "RangeIndex: 804 entries, 0 to 803\n",
      "Data columns (total 12 columns):\n",
      " #   Column    Non-Null Count  Dtype  \n",
      "---  ------    --------------  -----  \n",
      " 0   Price     804 non-null    float64\n",
      " 1   Mileage   804 non-null    int64  \n",
      " 2   Make      804 non-null    object \n",
      " 3   Model     804 non-null    object \n",
      " 4   Trim      804 non-null    object \n",
      " 5   Type      804 non-null    object \n",
      " 6   Cylinder  804 non-null    int64  \n",
      " 7   Liter     804 non-null    float64\n",
      " 8   Doors     804 non-null    int64  \n",
      " 9   Cruise    804 non-null    int64  \n",
      " 10  Sound     804 non-null    int64  \n",
      " 11  Leather   804 non-null    int64  \n",
      "dtypes: float64(2), int64(6), object(4)\n",
      "memory usage: 75.5+ KB\n"
     ]
    }
   ],
   "source": [
    "cars.info()"
   ]
  },
  {
   "cell_type": "markdown",
   "metadata": {},
   "source": [
    "<h3>Q.0 What is minimum priced car? The maximum priced? What is the lowest, highest, and average mileage? How many rows of data are there? How many columns? Do any of the columns have null values?</h3>"
   ]
  },
  {
   "cell_type": "code",
   "execution_count": 3,
   "metadata": {},
   "outputs": [
    {
     "data": {
      "text/html": [
       "<div>\n",
       "<style scoped>\n",
       "    .dataframe tbody tr th:only-of-type {\n",
       "        vertical-align: middle;\n",
       "    }\n",
       "\n",
       "    .dataframe tbody tr th {\n",
       "        vertical-align: top;\n",
       "    }\n",
       "\n",
       "    .dataframe thead th {\n",
       "        text-align: right;\n",
       "    }\n",
       "</style>\n",
       "<table border=\"1\" class=\"dataframe\">\n",
       "  <thead>\n",
       "    <tr style=\"text-align: right;\">\n",
       "      <th></th>\n",
       "      <th>Price</th>\n",
       "      <th>Mileage</th>\n",
       "      <th>Cylinder</th>\n",
       "      <th>Liter</th>\n",
       "      <th>Doors</th>\n",
       "      <th>Cruise</th>\n",
       "      <th>Sound</th>\n",
       "      <th>Leather</th>\n",
       "    </tr>\n",
       "  </thead>\n",
       "  <tbody>\n",
       "    <tr>\n",
       "      <th>count</th>\n",
       "      <td>804.000000</td>\n",
       "      <td>804.000000</td>\n",
       "      <td>804.000000</td>\n",
       "      <td>804.000000</td>\n",
       "      <td>804.000000</td>\n",
       "      <td>804.000000</td>\n",
       "      <td>804.000000</td>\n",
       "      <td>804.000000</td>\n",
       "    </tr>\n",
       "    <tr>\n",
       "      <th>mean</th>\n",
       "      <td>21343.143767</td>\n",
       "      <td>19831.934080</td>\n",
       "      <td>5.268657</td>\n",
       "      <td>3.037313</td>\n",
       "      <td>3.527363</td>\n",
       "      <td>0.752488</td>\n",
       "      <td>0.679104</td>\n",
       "      <td>0.723881</td>\n",
       "    </tr>\n",
       "    <tr>\n",
       "      <th>std</th>\n",
       "      <td>9884.852801</td>\n",
       "      <td>8196.319707</td>\n",
       "      <td>1.387531</td>\n",
       "      <td>1.105562</td>\n",
       "      <td>0.850169</td>\n",
       "      <td>0.431836</td>\n",
       "      <td>0.467111</td>\n",
       "      <td>0.447355</td>\n",
       "    </tr>\n",
       "    <tr>\n",
       "      <th>min</th>\n",
       "      <td>8638.930895</td>\n",
       "      <td>266.000000</td>\n",
       "      <td>4.000000</td>\n",
       "      <td>1.600000</td>\n",
       "      <td>2.000000</td>\n",
       "      <td>0.000000</td>\n",
       "      <td>0.000000</td>\n",
       "      <td>0.000000</td>\n",
       "    </tr>\n",
       "    <tr>\n",
       "      <th>25%</th>\n",
       "      <td>14273.073870</td>\n",
       "      <td>14623.500000</td>\n",
       "      <td>4.000000</td>\n",
       "      <td>2.200000</td>\n",
       "      <td>4.000000</td>\n",
       "      <td>1.000000</td>\n",
       "      <td>0.000000</td>\n",
       "      <td>0.000000</td>\n",
       "    </tr>\n",
       "    <tr>\n",
       "      <th>50%</th>\n",
       "      <td>18024.995019</td>\n",
       "      <td>20913.500000</td>\n",
       "      <td>6.000000</td>\n",
       "      <td>2.800000</td>\n",
       "      <td>4.000000</td>\n",
       "      <td>1.000000</td>\n",
       "      <td>1.000000</td>\n",
       "      <td>1.000000</td>\n",
       "    </tr>\n",
       "    <tr>\n",
       "      <th>75%</th>\n",
       "      <td>26717.316636</td>\n",
       "      <td>25213.000000</td>\n",
       "      <td>6.000000</td>\n",
       "      <td>3.800000</td>\n",
       "      <td>4.000000</td>\n",
       "      <td>1.000000</td>\n",
       "      <td>1.000000</td>\n",
       "      <td>1.000000</td>\n",
       "    </tr>\n",
       "    <tr>\n",
       "      <th>max</th>\n",
       "      <td>70755.466717</td>\n",
       "      <td>50387.000000</td>\n",
       "      <td>8.000000</td>\n",
       "      <td>6.000000</td>\n",
       "      <td>4.000000</td>\n",
       "      <td>1.000000</td>\n",
       "      <td>1.000000</td>\n",
       "      <td>1.000000</td>\n",
       "    </tr>\n",
       "  </tbody>\n",
       "</table>\n",
       "</div>"
      ],
      "text/plain": [
       "              Price       Mileage    Cylinder       Liter       Doors  \\\n",
       "count    804.000000    804.000000  804.000000  804.000000  804.000000   \n",
       "mean   21343.143767  19831.934080    5.268657    3.037313    3.527363   \n",
       "std     9884.852801   8196.319707    1.387531    1.105562    0.850169   \n",
       "min     8638.930895    266.000000    4.000000    1.600000    2.000000   \n",
       "25%    14273.073870  14623.500000    4.000000    2.200000    4.000000   \n",
       "50%    18024.995019  20913.500000    6.000000    2.800000    4.000000   \n",
       "75%    26717.316636  25213.000000    6.000000    3.800000    4.000000   \n",
       "max    70755.466717  50387.000000    8.000000    6.000000    4.000000   \n",
       "\n",
       "           Cruise       Sound     Leather  \n",
       "count  804.000000  804.000000  804.000000  \n",
       "mean     0.752488    0.679104    0.723881  \n",
       "std      0.431836    0.467111    0.447355  \n",
       "min      0.000000    0.000000    0.000000  \n",
       "25%      1.000000    0.000000    0.000000  \n",
       "50%      1.000000    1.000000    1.000000  \n",
       "75%      1.000000    1.000000    1.000000  \n",
       "max      1.000000    1.000000    1.000000  "
      ]
     },
     "execution_count": 3,
     "metadata": {},
     "output_type": "execute_result"
    },
    {
     "name": "stdout",
     "output_type": "stream",
     "text": [
      "Minimum priced car is 8638.93\n",
      "Minimum priced car is 70755.47\n",
      "Minimum mileage is 266.00\n",
      "Minimum mileage is 50387.00\n",
      "Average mileage is 19831.93\n",
      "Number of rows is 804\n",
      "Number of columns is 12\n",
      "Columns: ['Price', 'Mileage', 'Make', 'Model', 'Trim', 'Type', 'Cylinder', 'Liter', 'Doors', 'Cruise', 'Sound', 'Leather']\n",
      "Number of null values is 0\n"
     ]
    }
   ],
   "source": [
    "# Put the command (or commands) here to answer the questions above.\n",
    "#TODO\n",
    "cars.describe()\n",
    "print(f\"Minimum priced car is {cars['Price'].min():0.2F}\")\n",
    "print(f\"Minimum priced car is {cars['Price'].max():0.2F}\")\n",
    "print(f\"Minimum mileage is {cars['Mileage'].min():0.2F}\")\n",
    "print(f\"Minimum mileage is {cars['Mileage'].max():0.2F}\")\n",
    "print(f\"Average mileage is {cars['Mileage'].mean():0.2F}\")\n",
    "print(f'Number of rows is {len(cars)}')\n",
    "print(f'Number of columns is {len(cars.columns)}')\n",
    "print(f'Columns: {list(cars.columns)}')\n",
    "print(f'Number of null values is {cars.isnull().sum().sum()}')"
   ]
  },
  {
   "cell_type": "markdown",
   "metadata": {},
   "source": [
    "<h3>Q.1. Plot Price vs. Mileage. From the plot, does it seem like cars with more mileage are worth less?</h3>"
   ]
  },
  {
   "cell_type": "code",
   "execution_count": 4,
   "metadata": {},
   "outputs": [
    {
     "data": {
      "image/png": "[encoded data removed]",
      "text/plain": [
       "<Figure size 576x432 with 1 Axes>"
      ]
     },
     "metadata": {
      "needs_background": "light"
     },
     "output_type": "display_data"
    }
   ],
   "source": [
    "# Put the command (or commands) here that would give answer to the above question.\n",
    "import matplotlib.pyplot as plt\n",
    "%matplotlib inline\n",
    "\n",
    "fig,ax = plt.subplots(1,figsize=(8,6))\n",
    "#X = np.array(cars['Mileage']).reshape(-1, 1) \n",
    "X = cars['Mileage']\n",
    "#y = np.array(cars['Price']).reshape(-1, 1) \n",
    "y = cars['Price']\n",
    "ax.scatter(X,y)\n",
    "\n",
    "fig.suptitle('Prive vs. Mileage Correlation')\n",
    "ax.set_xlabel('Mileage')\n",
    "ax.set_ylabel('Price')\n",
    "plt.show();"
   ]
  },
  {
   "cell_type": "markdown",
   "metadata": {},
   "source": [
    "<p>\n",
    "Answer:\n",
    "    \n",
    "It is not immediately clear that cars with more mileage are worth less. Most of the data samples occur between 10000-30000 miles and 10000-30000 dollars. In general, there is a downward trend in price as miles increase.\n",
    "</p>"
   ]
  },
  {
   "cell_type": "markdown",
   "metadata": {},
   "source": [
    "<h3>Q.2. Develop a simple linear regression model, relating price with mileage only. Show summary statistics for the model.</h3> "
   ]
  },
  {
   "cell_type": "code",
   "execution_count": 5,
   "metadata": {},
   "outputs": [],
   "source": [
    "# https://stackoverflow.com/questions/30650257/ols-using-statsmodel-formula-api-versus-statsmodel-api\n",
    "# for understanding difference between statsmodels.api.OLS and statsmodels.formula.api.ols\n",
    "\n",
    "from sklearn.model_selection import train_test_split\n",
    "X_train, X_test, y_train, y_test = train_test_split(cars['Mileage'], cars['Price'], test_size=0.3)"
   ]
  },
  {
   "cell_type": "code",
   "execution_count": 6,
   "metadata": {},
   "outputs": [
    {
     "name": "stdout",
     "output_type": "stream",
     "text": [
      "SKLEARN SUMMARY\n",
      "Coefficients: -0.16771888134692697\n",
      "Intercept: 24424.175545024395\n",
      "\n",
      "SCIPY STATS SUMMARY\n",
      "Slope: -0.16771888134692692\n",
      "Intercept: 24424.175545024395\n",
      "r_value: -0.14167890009237138\n",
      "p_value: 0.0007564876128678962\n",
      "\n",
      "STATSMODELS SUMMARY\n",
      "                            OLS Regression Results                            \n",
      "==============================================================================\n",
      "Dep. Variable:                  Price   R-squared:                       0.020\n",
      "Model:                            OLS   Adj. R-squared:                  0.018\n",
      "Method:                 Least Squares   F-statistic:                     11.47\n",
      "Date:                Tue, 10 Nov 2020   Prob (F-statistic):           0.000756\n",
      "Time:                        13:38:48   Log-Likelihood:                -5955.1\n",
      "No. Observations:                 562   AIC:                         1.191e+04\n",
      "Df Residuals:                     560   BIC:                         1.192e+04\n",
      "Df Model:                           1                                         \n",
      "Covariance Type:            nonrobust                                         \n",
      "==============================================================================\n",
      "                 coef    std err          t      P>|t|      [0.025      0.975]\n",
      "------------------------------------------------------------------------------\n",
      "const       2.442e+04   1066.036     22.911      0.000    2.23e+04    2.65e+04\n",
      "Mileage       -0.1677      0.050     -3.387      0.001      -0.265      -0.070\n",
      "==============================================================================\n",
      "Omnibus:                      167.986   Durbin-Watson:                   1.883\n",
      "Prob(Omnibus):                  0.000   Jarque-Bera (JB):              417.592\n",
      "Skew:                           1.526   Prob(JB):                     2.09e-91\n",
      "Kurtosis:                       5.918   Cond. No.                     5.61e+04\n",
      "==============================================================================\n",
      "\n",
      "Notes:\n",
      "[1] Standard Errors assume that the covariance matrix of the errors is correctly specified.\n",
      "[2] The condition number is large, 5.61e+04. This might indicate that there are\n",
      "strong multicollinearity or other numerical problems.\n"
     ]
    }
   ],
   "source": [
    "import numpy as np\n",
    "import pandas\n",
    "from pandas import DataFrame, Series\n",
    "import statsmodels.api as sm\n",
    "import statsmodels.formula.api as smf\n",
    "from sklearn.linear_model import LinearRegression\n",
    "from sklearn.metrics import classification_report, accuracy_score\n",
    "from scipy import stats\n",
    "\n",
    "# TODO: Linear regression model\n",
    "# TODO: Show summary statistics for the model\n",
    "\n",
    "print('SKLEARN SUMMARY')\n",
    "sklearnModel = LinearRegression().fit(\n",
    "    np.array(X_train).reshape(-1, 1),\n",
    "    np.array(y_train).reshape(-1, 1)\n",
    ")\n",
    "print(f'Coefficients: {sklearnModel.coef_[0][0]}')\n",
    "print(f'Intercept: {sklearnModel.intercept_[0]}')\n",
    "\n",
    "print('\\nSCIPY STATS SUMMARY')\n",
    "slope, intercept, r_value, p_value, std_err = stats.linregress(X_train, y_train)\n",
    "print(f'Slope: {slope}')\n",
    "print(f'Intercept: {intercept}')\n",
    "print(f'r_value: {r_value}')\n",
    "print(f'p_value: {p_value}')\n",
    "\n",
    "print('\\nSTATSMODELS SUMMARY')\n",
    "X_train_sm = sm.add_constant(X_train)\n",
    "statsModels = sm.OLS(y_train, X_train_sm).fit()\n",
    "print(statsModels.summary())"
   ]
  },
  {
   "cell_type": "markdown",
   "metadata": {},
   "source": [
    "<h3>Q.3. What happens to price when there is one more mile on the car?</h3>"
   ]
  },
  {
   "cell_type": "code",
   "execution_count": 7,
   "metadata": {},
   "outputs": [
    {
     "data": {
      "text/plain": [
       "'\\nThe price decreases as the miles increase on the car according to the model coefficient/slope (-$0.16).\\n'"
      ]
     },
     "execution_count": 7,
     "metadata": {},
     "output_type": "execute_result"
    }
   ],
   "source": [
    "# Command:\n",
    "\n",
    "# One sentence summary:\n",
    "'''\n",
    "The price decreases as the miles increase on the car according to the model coefficient/slope (-$0.16).\n",
    "''' "
   ]
  },
  {
   "cell_type": "markdown",
   "metadata": {},
   "source": [
    "<h3>Q.4. What is the expected value of a car with 0 miles according to your model?</h3>"
   ]
  },
  {
   "cell_type": "code",
   "execution_count": 8,
   "metadata": {},
   "outputs": [
    {
     "data": {
      "text/plain": [
       "'\\nThe expected value of a car with 0 miles is $26035 according to the model intercept.\\n'"
      ]
     },
     "execution_count": 8,
     "metadata": {},
     "output_type": "execute_result"
    }
   ],
   "source": [
    "# Single command\n",
    "'''\n",
    "The expected value of a car with 0 miles is $26035 according to the model intercept.\n",
    "'''"
   ]
  },
  {
   "cell_type": "markdown",
   "metadata": {},
   "source": [
    "<h3>Q.5. Plot residuals of the model vs. fitted values. Are there any problems that you see with the model?</h3>"
   ]
  },
  {
   "cell_type": "code",
   "execution_count": 9,
   "metadata": {},
   "outputs": [
    {
     "data": {
      "image/png": "[encoded data removed]",
      "text/plain": [
       "<Figure size 576x432 with 1 Axes>"
      ]
     },
     "metadata": {
      "needs_background": "light"
     },
     "output_type": "display_data"
    }
   ],
   "source": [
    "# Plot residuals\n",
    "fig,ax = plt.subplots(1,figsize=(8,6))\n",
    "\n",
    "y_pred = sklearnModel.predict(np.array(X_test).reshape(-1, 1))\n",
    "y_test = np.array(y_test).reshape(-1, 1)\n",
    "residuals = np.array(y_test - y_pred)\n",
    "s = sum(np.abs(residuals))[0]\n",
    "ax.scatter(y_pred,residuals)\n",
    "\n",
    "ax.set_title(f'Residuals vs. Fitted Values; $sum(|residuals|) = {round(s):.2E}$')\n",
    "ax.set_xlabel('Fitted Values')\n",
    "ax.set_ylabel('Residuals')\n",
    "plt.show();"
   ]
  },
  {
   "cell_type": "code",
   "execution_count": 10,
   "metadata": {},
   "outputs": [
    {
     "name": "stdout",
     "output_type": "stream",
     "text": [
      "R^2 Score : 0.02007\n"
     ]
    }
   ],
   "source": [
    "print(f'R^2 Score : {sklearnModel.score(np.array(X_train).reshape(-1, 1), np.array(y_train).reshape(-1, 1)) :0.5F}')"
   ]
  },
  {
   "cell_type": "markdown",
   "metadata": {
    "collapsed": true
   },
   "source": [
    "<p>\n",
    "<b>Explain whether there are any problems (1-2 sentence)</b>\n",
    "\n",
    "The residuals show that the model is not converging around the solution (y=0 line). Prediction errors vary widely at all mile inputs.\n",
    "</p>"
   ]
  },
  {
   "cell_type": "markdown",
   "metadata": {},
   "source": [
    "<h3>Q.6. Develop a model that predicts the Price from Mileage, Cylinder, Doors, Cruise, Sound, Leather data. Is this model more accurate - explain why (1-2 sentence). </h3>"
   ]
  },
  {
   "cell_type": "code",
   "execution_count": 11,
   "metadata": {},
   "outputs": [
    {
     "name": "stdout",
     "output_type": "stream",
     "text": [
      "Coefficients: [-1.82162698e-01  3.08355575e+03 -1.35422363e+03  5.87339121e+03\n",
      " -2.52989259e+03  3.34215101e+03]\n",
      "Intercept: 8236.682652046613\n",
      "                            OLS Regression Results                            \n",
      "==============================================================================\n",
      "Dep. Variable:                  Price   R-squared:                       0.456\n",
      "Model:                            OLS   Adj. R-squared:                  0.450\n",
      "Method:                 Least Squares   F-statistic:                     77.57\n",
      "Date:                Tue, 10 Nov 2020   Prob (F-statistic):           3.27e-70\n",
      "Time:                        13:38:48   Log-Likelihood:                -5782.1\n",
      "No. Observations:                 562   AIC:                         1.158e+04\n",
      "Df Residuals:                     555   BIC:                         1.161e+04\n",
      "Df Model:                           6                                         \n",
      "Covariance Type:            nonrobust                                         \n",
      "==============================================================================\n",
      "                 coef    std err          t      P>|t|      [0.025      0.975]\n",
      "------------------------------------------------------------------------------\n",
      "const       8236.6827   2017.434      4.083      0.000    4273.944    1.22e+04\n",
      "Mileage       -0.1822      0.037     -4.952      0.000      -0.254      -0.110\n",
      "Cylinder    3083.5557    237.304     12.994      0.000    2617.431    3549.680\n",
      "Doors      -1354.2236    357.525     -3.788      0.000   -2056.492    -651.955\n",
      "Cruise      5873.3912    758.591      7.742      0.000    4383.330    7363.452\n",
      "Sound      -2529.8926    653.893     -3.869      0.000   -3814.301   -1245.485\n",
      "Leather     3342.1510    696.841      4.796      0.000    1973.383    4710.919\n",
      "==============================================================================\n",
      "Omnibus:                       91.957   Durbin-Watson:                   2.120\n",
      "Prob(Omnibus):                  0.000   Jarque-Bera (JB):              145.135\n",
      "Skew:                           1.041   Prob(JB):                     3.05e-32\n",
      "Kurtosis:                       4.365   Cond. No.                     1.47e+05\n",
      "==============================================================================\n",
      "\n",
      "Notes:\n",
      "[1] Standard Errors assume that the covariance matrix of the errors is correctly specified.\n",
      "[2] The condition number is large, 1.47e+05. This might indicate that there are\n",
      "strong multicollinearity or other numerical problems.\n",
      "\n",
      "P VALUES\n",
      "Cylinder    6.800125e-34\n",
      "Cruise      4.647119e-14\n",
      "Mileage     9.759349e-07\n",
      "Leather     2.080891e-06\n",
      "const       5.105032e-05\n",
      "Sound       1.222701e-04\n",
      "Doors       1.686034e-04\n",
      "dtype: float64\n"
     ]
    }
   ],
   "source": [
    "# Commands:\n",
    "from sklearn.preprocessing import StandardScaler\n",
    "scale = StandardScaler()\n",
    "\n",
    "y = cars['Price']\n",
    "X = cars[['Mileage','Cylinder','Doors','Cruise','Sound','Leather']]\n",
    "X_train, X_test, y_train, y_test = train_test_split(X, y, test_size=0.3)\n",
    "#X_train[['Mileage','Cylinder','Doors','Cruise','Sound','Leather']] = scale.fit_transform(X_train)\n",
    "\n",
    "# sklearn\n",
    "sklearnModel = LinearRegression().fit(X_train,y_train)\n",
    "print(f'Coefficients: {sklearnModel.coef_}')\n",
    "print(f'Intercept: {sklearnModel.intercept_}')\n",
    "\n",
    "# statsmodel\n",
    "X_train_sm = sm.add_constant(X_train)\n",
    "statsModels = sm.OLS(y_train, X_train_sm).fit()\n",
    "print(statsModels.summary())\n",
    "print('\\nP VALUES')\n",
    "print(statsModels.pvalues[statsModels.pvalues < 0.05].sort_values())"
   ]
  },
  {
   "cell_type": "code",
   "execution_count": 12,
   "metadata": {},
   "outputs": [
    {
     "data": {
      "image/png": "[encoded data removed]",
      "text/plain": [
       "<Figure size 576x432 with 1 Axes>"
      ]
     },
     "metadata": {
      "needs_background": "light"
     },
     "output_type": "display_data"
    }
   ],
   "source": [
    "# Plot residuals\n",
    "fig,ax = plt.subplots(1,figsize=(8,6))\n",
    "\n",
    "y_pred = sklearnModel.predict(X_test)\n",
    "residuals = np.array(y_test - y_pred)\n",
    "s = sum(abs(residuals))\n",
    "ax.scatter(y_pred,residuals)\n",
    "\n",
    "ax.set_title(f'Residuals vs. Fitted Values; $sum(|residuals|) = {round(s):.2E}$')\n",
    "ax.set_xlabel('Fitted Values')\n",
    "ax.set_ylabel('Residuals')\n",
    "plt.show();"
   ]
  },
  {
   "cell_type": "code",
   "execution_count": 13,
   "metadata": {},
   "outputs": [
    {
     "name": "stdout",
     "output_type": "stream",
     "text": [
      "Score : 0.45612\n"
     ]
    }
   ],
   "source": [
    "print(f'Score : {sklearnModel.score(X_train, y_train) :0.5F}')"
   ]
  },
  {
   "cell_type": "markdown",
   "metadata": {},
   "source": [
    "<p>\n",
    "<b>Comments:</b>\n",
    "\n",
    "Looking at the coefficient of determination $R^{2}$, it can be seen that the model improves dramaticallly. Previous value improves from 0.021 to 0.443. \n",
    "</p>\n",
    "    "
   ]
  },
  {
   "cell_type": "markdown",
   "metadata": {},
   "source": [
    "<h3>Q.7. Are any of the features in the above model highly colinear to the point where they impact the model quality?</h3>"
   ]
  },
  {
   "cell_type": "code",
   "execution_count": 14,
   "metadata": {},
   "outputs": [
    {
     "name": "stderr",
     "output_type": "stream",
     "text": [
      "/home/kegedy/anaconda3/lib/python3.7/site-packages/seaborn/_decorators.py:43: FutureWarning: Pass the following variables as keyword args: x, y. From version 0.12, the only valid positional argument will be `data`, and passing other arguments without an explicit keyword will result in an error or misinterpretation.\n",
      "  FutureWarning\n"
     ]
    },
    {
     "data": {
      "image/png": "[encoded data removed]",
      "text/plain": [
       "<Figure size 1080x360 with 1 Axes>"
      ]
     },
     "metadata": {
      "needs_background": "light"
     },
     "output_type": "display_data"
    }
   ],
   "source": [
    "# Command(s):\n",
    "fig,ax = plt.subplots(1, figsize=(15, 5))\n",
    "ax = sns.lineplot(list(range(residuals.shape[0])),residuals)\n",
    "plt.xlabel('Observation')\n",
    "plt.ylabel('Residual')\n",
    "plt.title('Correlation of error terms', fontweight='bold')\n",
    "plt.show();"
   ]
  },
  {
   "cell_type": "code",
   "execution_count": 15,
   "metadata": {},
   "outputs": [
    {
     "data": {
      "image/png": "[encoded data removed]",
      "text/plain": [
       "<Figure size 864x648 with 2 Axes>"
      ]
     },
     "metadata": {
      "needs_background": "light"
     },
     "output_type": "display_data"
    }
   ],
   "source": [
    "f, ax = plt.subplots(figsize=(12, 9))\n",
    "\n",
    "corr_matrix = X_train.corr().abs()\n",
    "sns.heatmap(corr_matrix, vmax=1, square=True)\n",
    "plt.xticks(rotation=90)\n",
    "plt.yticks(rotation=0)\n",
    "plt.show();"
   ]
  },
  {
   "cell_type": "markdown",
   "metadata": {
    "collapsed": true
   },
   "source": [
    "<p>\n",
    "<b>Comments:</b>\n",
    "\n",
    "There is a slight increase in error as the observations increase. This suggests there is some collinearity, since it reduces the accuracy of the estimates of the regression coefficients. Looking at the correlation matrix there is some collinearity between cruise and cylinder.\n",
    "</p>"
   ]
  },
  {
   "cell_type": "markdown",
   "metadata": {},
   "source": [
    "<h3>Q.8. What is the expected price for the Chevy sedan described in variable 'chevy', shown below?</h3>"
   ]
  },
  {
   "cell_type": "code",
   "execution_count": 16,
   "metadata": {},
   "outputs": [
    {
     "name": "stdout",
     "output_type": "stream",
     "text": [
      "Expected price for Chevy sedan is $19083.23\n"
     ]
    }
   ],
   "source": [
    "x = {'Mileage':30000, 'Cylinder':4, 'Doors':2, 'Cruise':1, 'Sound':1, 'Leather':1}\n",
    "chevy = pd.DataFrame.from_dict(data=x,orient='index').T\n",
    "\n",
    "# Commands that estimate the price of 'chevy' using the model with 6 predictors\n",
    "y_pred = sklearnModel.predict(chevy)\n",
    "print(f'Expected price for Chevy sedan is ${round(y_pred[0],2)}')"
   ]
  },
  {
   "cell_type": "markdown",
   "metadata": {},
   "source": [
    "<h3>Q.9. What is the expected price for the Chevy mentioned above if you include all features in the prediction? Can you comment on any problems you encounter when doing this prediction?</h3>"
   ]
  },
  {
   "cell_type": "code",
   "execution_count": 22,
   "metadata": {},
   "outputs": [
    {
     "name": "stdout",
     "output_type": "stream",
     "text": [
      "X.head()\n"
     ]
    },
    {
     "data": {
      "text/html": [
       "<div>\n",
       "<style scoped>\n",
       "    .dataframe tbody tr th:only-of-type {\n",
       "        vertical-align: middle;\n",
       "    }\n",
       "\n",
       "    .dataframe tbody tr th {\n",
       "        vertical-align: top;\n",
       "    }\n",
       "\n",
       "    .dataframe thead th {\n",
       "        text-align: right;\n",
       "    }\n",
       "</style>\n",
       "<table border=\"1\" class=\"dataframe\">\n",
       "  <thead>\n",
       "    <tr style=\"text-align: right;\">\n",
       "      <th></th>\n",
       "      <th>Mileage</th>\n",
       "      <th>Make</th>\n",
       "      <th>Model</th>\n",
       "      <th>Trim</th>\n",
       "      <th>Type</th>\n",
       "      <th>Cylinder</th>\n",
       "      <th>Liter</th>\n",
       "      <th>Doors</th>\n",
       "      <th>Cruise</th>\n",
       "      <th>Sound</th>\n",
       "      <th>Leather</th>\n",
       "      <th>Make_enc</th>\n",
       "      <th>Model_enc</th>\n",
       "      <th>Trim_enc</th>\n",
       "      <th>Type_enc</th>\n",
       "    </tr>\n",
       "  </thead>\n",
       "  <tbody>\n",
       "    <tr>\n",
       "      <th>0</th>\n",
       "      <td>8221</td>\n",
       "      <td>Buick</td>\n",
       "      <td>Century</td>\n",
       "      <td>Sedan 4D</td>\n",
       "      <td>Sedan</td>\n",
       "      <td>6</td>\n",
       "      <td>3.1</td>\n",
       "      <td>4</td>\n",
       "      <td>1</td>\n",
       "      <td>1</td>\n",
       "      <td>1</td>\n",
       "      <td>0</td>\n",
       "      <td>10</td>\n",
       "      <td>44</td>\n",
       "      <td>3</td>\n",
       "    </tr>\n",
       "    <tr>\n",
       "      <th>1</th>\n",
       "      <td>9135</td>\n",
       "      <td>Buick</td>\n",
       "      <td>Century</td>\n",
       "      <td>Sedan 4D</td>\n",
       "      <td>Sedan</td>\n",
       "      <td>6</td>\n",
       "      <td>3.1</td>\n",
       "      <td>4</td>\n",
       "      <td>1</td>\n",
       "      <td>1</td>\n",
       "      <td>0</td>\n",
       "      <td>0</td>\n",
       "      <td>10</td>\n",
       "      <td>44</td>\n",
       "      <td>3</td>\n",
       "    </tr>\n",
       "    <tr>\n",
       "      <th>2</th>\n",
       "      <td>13196</td>\n",
       "      <td>Buick</td>\n",
       "      <td>Century</td>\n",
       "      <td>Sedan 4D</td>\n",
       "      <td>Sedan</td>\n",
       "      <td>6</td>\n",
       "      <td>3.1</td>\n",
       "      <td>4</td>\n",
       "      <td>1</td>\n",
       "      <td>1</td>\n",
       "      <td>0</td>\n",
       "      <td>0</td>\n",
       "      <td>10</td>\n",
       "      <td>44</td>\n",
       "      <td>3</td>\n",
       "    </tr>\n",
       "    <tr>\n",
       "      <th>3</th>\n",
       "      <td>16342</td>\n",
       "      <td>Buick</td>\n",
       "      <td>Century</td>\n",
       "      <td>Sedan 4D</td>\n",
       "      <td>Sedan</td>\n",
       "      <td>6</td>\n",
       "      <td>3.1</td>\n",
       "      <td>4</td>\n",
       "      <td>1</td>\n",
       "      <td>0</td>\n",
       "      <td>0</td>\n",
       "      <td>0</td>\n",
       "      <td>10</td>\n",
       "      <td>44</td>\n",
       "      <td>3</td>\n",
       "    </tr>\n",
       "    <tr>\n",
       "      <th>4</th>\n",
       "      <td>19832</td>\n",
       "      <td>Buick</td>\n",
       "      <td>Century</td>\n",
       "      <td>Sedan 4D</td>\n",
       "      <td>Sedan</td>\n",
       "      <td>6</td>\n",
       "      <td>3.1</td>\n",
       "      <td>4</td>\n",
       "      <td>1</td>\n",
       "      <td>0</td>\n",
       "      <td>1</td>\n",
       "      <td>0</td>\n",
       "      <td>10</td>\n",
       "      <td>44</td>\n",
       "      <td>3</td>\n",
       "    </tr>\n",
       "  </tbody>\n",
       "</table>\n",
       "</div>"
      ],
      "text/plain": [
       "   Mileage   Make    Model      Trim   Type  Cylinder  Liter  Doors  Cruise  \\\n",
       "0     8221  Buick  Century  Sedan 4D  Sedan         6    3.1      4       1   \n",
       "1     9135  Buick  Century  Sedan 4D  Sedan         6    3.1      4       1   \n",
       "2    13196  Buick  Century  Sedan 4D  Sedan         6    3.1      4       1   \n",
       "3    16342  Buick  Century  Sedan 4D  Sedan         6    3.1      4       1   \n",
       "4    19832  Buick  Century  Sedan 4D  Sedan         6    3.1      4       1   \n",
       "\n",
       "   Sound  Leather  Make_enc  Model_enc  Trim_enc  Type_enc  \n",
       "0      1        1         0         10        44         3  \n",
       "1      1        0         0         10        44         3  \n",
       "2      1        0         0         10        44         3  \n",
       "3      0        0         0         10        44         3  \n",
       "4      0        1         0         10        44         3  "
      ]
     },
     "execution_count": 22,
     "metadata": {},
     "output_type": "execute_result"
    },
    {
     "name": "stdout",
     "output_type": "stream",
     "text": [
      "X_train.head()\n"
     ]
    },
    {
     "data": {
      "text/html": [
       "<div>\n",
       "<style scoped>\n",
       "    .dataframe tbody tr th:only-of-type {\n",
       "        vertical-align: middle;\n",
       "    }\n",
       "\n",
       "    .dataframe tbody tr th {\n",
       "        vertical-align: top;\n",
       "    }\n",
       "\n",
       "    .dataframe thead th {\n",
       "        text-align: right;\n",
       "    }\n",
       "</style>\n",
       "<table border=\"1\" class=\"dataframe\">\n",
       "  <thead>\n",
       "    <tr style=\"text-align: right;\">\n",
       "      <th></th>\n",
       "      <th>Mileage</th>\n",
       "      <th>Make</th>\n",
       "      <th>Model</th>\n",
       "      <th>Trim</th>\n",
       "      <th>Type</th>\n",
       "      <th>Cylinder</th>\n",
       "      <th>Liter</th>\n",
       "      <th>Doors</th>\n",
       "      <th>Cruise</th>\n",
       "      <th>Sound</th>\n",
       "      <th>Leather</th>\n",
       "    </tr>\n",
       "  </thead>\n",
       "  <tbody>\n",
       "    <tr>\n",
       "      <th>75</th>\n",
       "      <td>17480</td>\n",
       "      <td>0</td>\n",
       "      <td>26</td>\n",
       "      <td>45</td>\n",
       "      <td>3</td>\n",
       "      <td>6</td>\n",
       "      <td>3.8</td>\n",
       "      <td>4</td>\n",
       "      <td>1</td>\n",
       "      <td>1</td>\n",
       "      <td>0</td>\n",
       "    </tr>\n",
       "    <tr>\n",
       "      <th>240</th>\n",
       "      <td>2464</td>\n",
       "      <td>2</td>\n",
       "      <td>9</td>\n",
       "      <td>25</td>\n",
       "      <td>3</td>\n",
       "      <td>4</td>\n",
       "      <td>2.2</td>\n",
       "      <td>4</td>\n",
       "      <td>0</td>\n",
       "      <td>1</td>\n",
       "      <td>1</td>\n",
       "    </tr>\n",
       "    <tr>\n",
       "      <th>410</th>\n",
       "      <td>6608</td>\n",
       "      <td>2</td>\n",
       "      <td>24</td>\n",
       "      <td>30</td>\n",
       "      <td>2</td>\n",
       "      <td>6</td>\n",
       "      <td>3.5</td>\n",
       "      <td>4</td>\n",
       "      <td>1</td>\n",
       "      <td>1</td>\n",
       "      <td>1</td>\n",
       "    </tr>\n",
       "    <tr>\n",
       "      <th>418</th>\n",
       "      <td>24905</td>\n",
       "      <td>2</td>\n",
       "      <td>24</td>\n",
       "      <td>30</td>\n",
       "      <td>2</td>\n",
       "      <td>6</td>\n",
       "      <td>3.5</td>\n",
       "      <td>4</td>\n",
       "      <td>1</td>\n",
       "      <td>1</td>\n",
       "      <td>1</td>\n",
       "    </tr>\n",
       "    <tr>\n",
       "      <th>617</th>\n",
       "      <td>27438</td>\n",
       "      <td>3</td>\n",
       "      <td>30</td>\n",
       "      <td>17</td>\n",
       "      <td>4</td>\n",
       "      <td>4</td>\n",
       "      <td>1.8</td>\n",
       "      <td>4</td>\n",
       "      <td>0</td>\n",
       "      <td>0</td>\n",
       "      <td>1</td>\n",
       "    </tr>\n",
       "  </tbody>\n",
       "</table>\n",
       "</div>"
      ],
      "text/plain": [
       "     Mileage  Make  Model  Trim  Type  Cylinder Liter  Doors  Cruise  Sound  \\\n",
       "75     17480     0     26    45     3         6   3.8      4       1      1   \n",
       "240     2464     2      9    25     3         4   2.2      4       0      1   \n",
       "410     6608     2     24    30     2         6   3.5      4       1      1   \n",
       "418    24905     2     24    30     2         6   3.5      4       1      1   \n",
       "617    27438     3     30    17     4         4   1.8      4       0      0   \n",
       "\n",
       "     Leather  \n",
       "75         0  \n",
       "240        1  \n",
       "410        1  \n",
       "418        1  \n",
       "617        1  "
      ]
     },
     "execution_count": 22,
     "metadata": {},
     "output_type": "execute_result"
    },
    {
     "name": "stdout",
     "output_type": "stream",
     "text": [
      "missed\n"
     ]
    },
    {
     "data": {
      "text/plain": [
       "['Make', 'Model', 'Trim', 'Type', 'Liter']"
      ]
     },
     "execution_count": 22,
     "metadata": {},
     "output_type": "execute_result"
    },
    {
     "name": "stdout",
     "output_type": "stream",
     "text": [
      "summary\n"
     ]
    },
    {
     "data": {
      "text/html": [
       "<div>\n",
       "<style scoped>\n",
       "    .dataframe tbody tr th:only-of-type {\n",
       "        vertical-align: middle;\n",
       "    }\n",
       "\n",
       "    .dataframe tbody tr th {\n",
       "        vertical-align: top;\n",
       "    }\n",
       "\n",
       "    .dataframe thead th {\n",
       "        text-align: right;\n",
       "    }\n",
       "</style>\n",
       "<table border=\"1\" class=\"dataframe\">\n",
       "  <thead>\n",
       "    <tr style=\"text-align: right;\">\n",
       "      <th></th>\n",
       "      <th>Make</th>\n",
       "      <th>Model</th>\n",
       "      <th>Trim</th>\n",
       "      <th>Type</th>\n",
       "      <th>Liter</th>\n",
       "    </tr>\n",
       "  </thead>\n",
       "  <tbody>\n",
       "    <tr>\n",
       "      <th>count</th>\n",
       "      <td>320</td>\n",
       "      <td>320</td>\n",
       "      <td>320</td>\n",
       "      <td>320</td>\n",
       "      <td>320.0</td>\n",
       "    </tr>\n",
       "    <tr>\n",
       "      <th>unique</th>\n",
       "      <td>1</td>\n",
       "      <td>8</td>\n",
       "      <td>18</td>\n",
       "      <td>4</td>\n",
       "      <td>5.0</td>\n",
       "    </tr>\n",
       "    <tr>\n",
       "      <th>top</th>\n",
       "      <td>Chevrolet</td>\n",
       "      <td>AVEO</td>\n",
       "      <td>Sedan 4D</td>\n",
       "      <td>Sedan</td>\n",
       "      <td>2.2</td>\n",
       "    </tr>\n",
       "    <tr>\n",
       "      <th>freq</th>\n",
       "      <td>320</td>\n",
       "      <td>60</td>\n",
       "      <td>50</td>\n",
       "      <td>160</td>\n",
       "      <td>120.0</td>\n",
       "    </tr>\n",
       "  </tbody>\n",
       "</table>\n",
       "</div>"
      ],
      "text/plain": [
       "             Make Model      Trim   Type  Liter\n",
       "count         320   320       320    320  320.0\n",
       "unique          1     8        18      4    5.0\n",
       "top     Chevrolet  AVEO  Sedan 4D  Sedan    2.2\n",
       "freq          320    60        50    160  120.0"
      ]
     },
     "execution_count": 22,
     "metadata": {},
     "output_type": "execute_result"
    },
    {
     "name": "stdout",
     "output_type": "stream",
     "text": [
      "m\n"
     ]
    },
    {
     "data": {
      "text/plain": [
       "{'Make': ['Buick', 'Cadillac', 'Chevrolet', 'Pontiac', 'SAAB', 'Saturn'],\n",
       " 'Model': ['Century',\n",
       "  'Lacrosse',\n",
       "  'Lesabre',\n",
       "  'Park Avenue',\n",
       "  'CST-V',\n",
       "  'CTS',\n",
       "  'Deville',\n",
       "  'STS-V6',\n",
       "  'STS-V8',\n",
       "  'XLR-V8',\n",
       "  'AVEO',\n",
       "  'Cavalier',\n",
       "  'Classic',\n",
       "  'Cobalt',\n",
       "  'Corvette',\n",
       "  'Impala',\n",
       "  'Malibu',\n",
       "  'Monte Carlo',\n",
       "  'Bonneville',\n",
       "  'G6',\n",
       "  'Grand Am',\n",
       "  'Grand Prix',\n",
       "  'GTO',\n",
       "  'Sunfire',\n",
       "  'Vibe',\n",
       "  '9_3',\n",
       "  '9_3 HO',\n",
       "  '9_5',\n",
       "  '9_5 HO',\n",
       "  '9-2X AWD',\n",
       "  'Ion',\n",
       "  'L Series'],\n",
       " 'Trim': ['Sedan 4D',\n",
       "  'CX Sedan 4D',\n",
       "  'CXL Sedan 4D',\n",
       "  'CXS Sedan 4D',\n",
       "  'Custom Sedan 4D',\n",
       "  'Limited Sedan 4D',\n",
       "  'Special Ed Ultra 4D',\n",
       "  'DHS Sedan 4D',\n",
       "  'DTS Sedan 4D',\n",
       "  'Hardtop Conv 2D',\n",
       "  'LS Hatchback 4D',\n",
       "  'LS Sedan 4D',\n",
       "  'LT Hatchback 4D',\n",
       "  'LT Sedan 4D',\n",
       "  'SVM Hatchback 4D',\n",
       "  'SVM Sedan 4D',\n",
       "  'Coupe 2D',\n",
       "  'LS Coupe 2D',\n",
       "  'LS Sport Coupe 2D',\n",
       "  'LS Sport Sedan 4D',\n",
       "  'Conv 2D',\n",
       "  'SS Sedan 4D',\n",
       "  'LS MAXX Hback 4D',\n",
       "  'LT MAXX Hback 4D',\n",
       "  'MAXX Hback 4D',\n",
       "  'LT Coupe 2D',\n",
       "  'SS Coupe 2D',\n",
       "  'GXP Sedan 4D',\n",
       "  'SE Sedan 4D',\n",
       "  'SLE Sedan 4D',\n",
       "  'GT Sedan 4D',\n",
       "  'GT Coupe 2D',\n",
       "  'GTP Sedan 4D',\n",
       "  'AWD Sportwagon 4D',\n",
       "  'GT Sportwagon',\n",
       "  'Sportwagon 4D',\n",
       "  'Linear Conv 2D',\n",
       "  'Linear Sedan 4D',\n",
       "  'Aero Conv 2D',\n",
       "  'Aero Sedan 4D',\n",
       "  'Arc Conv 2D',\n",
       "  'Arc Sedan 4D',\n",
       "  'Arc Wagon 4D',\n",
       "  'Linear Wagon 4D',\n",
       "  'Aero Wagon 4D',\n",
       "  'Quad Coupe 2D',\n",
       "  'L300 Sedan 4D'],\n",
       " 'Type': ['Sedan', 'Convertible', 'Hatchback', 'Coupe', 'Wagon']}"
      ]
     },
     "execution_count": 22,
     "metadata": {},
     "output_type": "execute_result"
    },
    {
     "name": "stdout",
     "output_type": "stream",
     "text": [
      "new_chevy\n"
     ]
    },
    {
     "data": {
      "text/html": [
       "<div>\n",
       "<style scoped>\n",
       "    .dataframe tbody tr th:only-of-type {\n",
       "        vertical-align: middle;\n",
       "    }\n",
       "\n",
       "    .dataframe tbody tr th {\n",
       "        vertical-align: top;\n",
       "    }\n",
       "\n",
       "    .dataframe thead th {\n",
       "        text-align: right;\n",
       "    }\n",
       "</style>\n",
       "<table border=\"1\" class=\"dataframe\">\n",
       "  <thead>\n",
       "    <tr style=\"text-align: right;\">\n",
       "      <th></th>\n",
       "      <th>Mileage</th>\n",
       "      <th>Make</th>\n",
       "      <th>Model</th>\n",
       "      <th>Trim</th>\n",
       "      <th>Type</th>\n",
       "      <th>Cylinder</th>\n",
       "      <th>Liter</th>\n",
       "      <th>Doors</th>\n",
       "      <th>Cruise</th>\n",
       "      <th>Sound</th>\n",
       "      <th>Leather</th>\n",
       "    </tr>\n",
       "  </thead>\n",
       "  <tbody>\n",
       "    <tr>\n",
       "      <th>0</th>\n",
       "      <td>30000</td>\n",
       "      <td>2.0</td>\n",
       "      <td>10.0</td>\n",
       "      <td>0.0</td>\n",
       "      <td>0.0</td>\n",
       "      <td>4</td>\n",
       "      <td>2.2</td>\n",
       "      <td>2</td>\n",
       "      <td>1</td>\n",
       "      <td>1</td>\n",
       "      <td>1</td>\n",
       "    </tr>\n",
       "  </tbody>\n",
       "</table>\n",
       "</div>"
      ],
      "text/plain": [
       "   Mileage  Make  Model  Trim  Type  Cylinder  Liter  Doors  Cruise  Sound  \\\n",
       "0    30000   2.0   10.0   0.0   0.0         4    2.2      2       1      1   \n",
       "\n",
       "   Leather  \n",
       "0        1  "
      ]
     },
     "execution_count": 22,
     "metadata": {},
     "output_type": "execute_result"
    },
    {
     "name": "stdout",
     "output_type": "stream",
     "text": [
      "Expected price for Chevy (all features) is $20821.16\n"
     ]
    }
   ],
   "source": [
    "# Commands\n",
    "from sklearn.preprocessing import LabelEncoder\n",
    "labelencoder = LabelEncoder()\n",
    "\n",
    "# Prep\n",
    "m = {}\n",
    "y = cars['Price']\n",
    "X = cars.drop(['Price'],axis=1)\n",
    "X_prep = X.copy()\n",
    "num_cols = X._get_numeric_data().columns\n",
    "cat_cols = [col for col in X.columns if col not in num_cols]\n",
    "for col in cat_cols:\n",
    "    X[col] = X[col].astype('category')\n",
    "    X_prep[col] = X_prep[col].astype('category')\n",
    "    X[f'{col}_enc'] = labelencoder.fit_transform(X[col])\n",
    "    X_prep[col] = labelencoder.fit_transform(X_prep[col])\n",
    "    m[col] = list(X[col].unique())\n",
    "    \n",
    "# Update Liter to categorical\n",
    "X_prep['Liter'] = X_prep['Liter'].astype('category')\n",
    "    \n",
    "# Split\n",
    "X_train, X_test, y_train, y_test = train_test_split(X_prep, y, test_size=0.3)\n",
    "print('X.head()'); X.head()\n",
    "print('X_train.head()'); X_train.head()\n",
    "\n",
    "# Missing Features\n",
    "missed = [x for x in X_prep.columns if x not in chevy.columns]\n",
    "print('missed'); missed\n",
    "\n",
    "# Explore data for Make == 'Chevrolet'\n",
    "sub = X.loc[X['Make']=='Chevrolet',missed]\n",
    "sub['Liter'] = sub['Liter'].astype('category')\n",
    "summary = sub.describe(include='category')\n",
    "print('summary'); summary\n",
    "print('m'); m\n",
    "\n",
    "# Find Top Model and Trim\n",
    "model = summary.loc['top','Model']\n",
    "trim = summary.loc['top','Trim']\n",
    "typ = summary.loc['top','Type']\n",
    "liter = summary.loc['top','Liter']\n",
    "make_enc = m['Make'].index('Chevrolet')\n",
    "model_enc = m['Model'].index(model)\n",
    "trim_enc = m['Trim'].index(trim)\n",
    "type_enc = m['Type'].index(typ)\n",
    "liter_enc = liter\n",
    "\n",
    "# Append missing columns to Chevy\n",
    "x = {\n",
    "    'Make':make_enc, \n",
    "    'Model':model_enc, \n",
    "    'Trim':trim_enc, \n",
    "    'Type':type_enc, \n",
    "    'Liter':liter_enc\n",
    "}\n",
    "missedDF = pd.DataFrame.from_dict(data=x,orient='index').T\n",
    "new_chevy = pd.concat([chevy, missedDF],axis=1)\n",
    "new_chevy = new_chevy[X_prep.columns] # rearrange cols\n",
    "print('new_chevy'); new_chevy\n",
    "\n",
    "# sklearn\n",
    "sklearnModel = LinearRegression().fit(X_train,y_train)\n",
    "y_pred = sklearnModel.predict(new_chevy)\n",
    "print(f'Expected price for Chevy (all features) is ${round(y_pred[0],2)}')"
   ]
  },
  {
   "cell_type": "code",
   "execution_count": 18,
   "metadata": {},
   "outputs": [
    {
     "data": {
      "text/html": [
       "<div>\n",
       "<style scoped>\n",
       "    .dataframe tbody tr th:only-of-type {\n",
       "        vertical-align: middle;\n",
       "    }\n",
       "\n",
       "    .dataframe tbody tr th {\n",
       "        vertical-align: top;\n",
       "    }\n",
       "\n",
       "    .dataframe thead th {\n",
       "        text-align: right;\n",
       "    }\n",
       "</style>\n",
       "<table border=\"1\" class=\"dataframe\">\n",
       "  <thead>\n",
       "    <tr style=\"text-align: right;\">\n",
       "      <th></th>\n",
       "      <th>Model</th>\n",
       "      <th>Trim</th>\n",
       "      <th>count</th>\n",
       "    </tr>\n",
       "  </thead>\n",
       "  <tbody>\n",
       "    <tr>\n",
       "      <th>0</th>\n",
       "      <td>9-2X AWD</td>\n",
       "      <td>AWD Sportwagon 4D</td>\n",
       "      <td>0</td>\n",
       "    </tr>\n",
       "    <tr>\n",
       "      <th>1</th>\n",
       "      <td>9-2X AWD</td>\n",
       "      <td>Aero Conv 2D</td>\n",
       "      <td>0</td>\n",
       "    </tr>\n",
       "    <tr>\n",
       "      <th>2</th>\n",
       "      <td>9-2X AWD</td>\n",
       "      <td>Aero Sedan 4D</td>\n",
       "      <td>0</td>\n",
       "    </tr>\n",
       "    <tr>\n",
       "      <th>3</th>\n",
       "      <td>9-2X AWD</td>\n",
       "      <td>Aero Wagon 4D</td>\n",
       "      <td>0</td>\n",
       "    </tr>\n",
       "    <tr>\n",
       "      <th>4</th>\n",
       "      <td>9-2X AWD</td>\n",
       "      <td>Arc Conv 2D</td>\n",
       "      <td>0</td>\n",
       "    </tr>\n",
       "    <tr>\n",
       "      <th>5</th>\n",
       "      <td>9-2X AWD</td>\n",
       "      <td>Arc Sedan 4D</td>\n",
       "      <td>0</td>\n",
       "    </tr>\n",
       "    <tr>\n",
       "      <th>6</th>\n",
       "      <td>9-2X AWD</td>\n",
       "      <td>Arc Wagon 4D</td>\n",
       "      <td>0</td>\n",
       "    </tr>\n",
       "    <tr>\n",
       "      <th>7</th>\n",
       "      <td>9-2X AWD</td>\n",
       "      <td>CX Sedan 4D</td>\n",
       "      <td>0</td>\n",
       "    </tr>\n",
       "    <tr>\n",
       "      <th>8</th>\n",
       "      <td>9-2X AWD</td>\n",
       "      <td>CXL Sedan 4D</td>\n",
       "      <td>0</td>\n",
       "    </tr>\n",
       "    <tr>\n",
       "      <th>9</th>\n",
       "      <td>9-2X AWD</td>\n",
       "      <td>CXS Sedan 4D</td>\n",
       "      <td>0</td>\n",
       "    </tr>\n",
       "  </tbody>\n",
       "</table>\n",
       "</div>"
      ],
      "text/plain": [
       "      Model               Trim  count\n",
       "0  9-2X AWD  AWD Sportwagon 4D      0\n",
       "1  9-2X AWD       Aero Conv 2D      0\n",
       "2  9-2X AWD      Aero Sedan 4D      0\n",
       "3  9-2X AWD      Aero Wagon 4D      0\n",
       "4  9-2X AWD        Arc Conv 2D      0\n",
       "5  9-2X AWD       Arc Sedan 4D      0\n",
       "6  9-2X AWD       Arc Wagon 4D      0\n",
       "7  9-2X AWD        CX Sedan 4D      0\n",
       "8  9-2X AWD       CXL Sedan 4D      0\n",
       "9  9-2X AWD       CXS Sedan 4D      0"
      ]
     },
     "execution_count": 18,
     "metadata": {},
     "output_type": "execute_result"
    },
    {
     "data": {
      "text/plain": [
       "(1504, 3)"
      ]
     },
     "execution_count": 18,
     "metadata": {},
     "output_type": "execute_result"
    }
   ],
   "source": [
    "# Chevy Combinations\n",
    "sub = X[X['Make_enc']==make_enc]\n",
    "c = sub.groupby(['Model', 'Trim']).size().reset_index().rename(columns={0:'count'}).sort_values(['Model', 'Trim'])\n",
    "c.head(n=10)\n",
    "c.shape"
   ]
  },
  {
   "cell_type": "code",
   "execution_count": 19,
   "metadata": {},
   "outputs": [
    {
     "data": {
      "text/html": [
       "<div>\n",
       "<style scoped>\n",
       "    .dataframe tbody tr th:only-of-type {\n",
       "        vertical-align: middle;\n",
       "    }\n",
       "\n",
       "    .dataframe tbody tr th {\n",
       "        vertical-align: top;\n",
       "    }\n",
       "\n",
       "    .dataframe thead th {\n",
       "        text-align: right;\n",
       "    }\n",
       "</style>\n",
       "<table border=\"1\" class=\"dataframe\">\n",
       "  <thead>\n",
       "    <tr style=\"text-align: right;\">\n",
       "      <th></th>\n",
       "      <th>chevy_preds</th>\n",
       "    </tr>\n",
       "  </thead>\n",
       "  <tbody>\n",
       "    <tr>\n",
       "      <th>count</th>\n",
       "      <td>32.000000</td>\n",
       "    </tr>\n",
       "    <tr>\n",
       "      <th>mean</th>\n",
       "      <td>15851.284535</td>\n",
       "    </tr>\n",
       "    <tr>\n",
       "      <th>std</th>\n",
       "      <td>2791.559280</td>\n",
       "    </tr>\n",
       "    <tr>\n",
       "      <th>min</th>\n",
       "      <td>11242.459601</td>\n",
       "    </tr>\n",
       "    <tr>\n",
       "      <th>25%</th>\n",
       "      <td>12998.127626</td>\n",
       "    </tr>\n",
       "    <tr>\n",
       "      <th>50%</th>\n",
       "      <td>16367.208220</td>\n",
       "    </tr>\n",
       "    <tr>\n",
       "      <th>75%</th>\n",
       "      <td>18199.750623</td>\n",
       "    </tr>\n",
       "    <tr>\n",
       "      <th>max</th>\n",
       "      <td>19872.413369</td>\n",
       "    </tr>\n",
       "  </tbody>\n",
       "</table>\n",
       "</div>"
      ],
      "text/plain": [
       "        chevy_preds\n",
       "count     32.000000\n",
       "mean   15851.284535\n",
       "std     2791.559280\n",
       "min    11242.459601\n",
       "25%    12998.127626\n",
       "50%    16367.208220\n",
       "75%    18199.750623\n",
       "max    19872.413369"
      ]
     },
     "execution_count": 19,
     "metadata": {},
     "output_type": "execute_result"
    }
   ],
   "source": [
    "# Predictions for all Chevy Models, Trims, Types, Liters\n",
    "x = {'Mileage':30000, 'Cylinder':4, 'Doors':2, 'Cruise':1, 'Sound':1, 'Leather':1}\n",
    "chevy = pd.DataFrame.from_dict(data=x,orient='index').T\n",
    "\n",
    "chevy_preds = []\n",
    "sub = X[X['Make_enc']==make_enc]\n",
    "for name,group in sub.groupby(['Model', 'Trim', 'Liter']):\n",
    "    group = group.reset_index(drop=True)\n",
    "    x = {\n",
    "        'Make':group.loc[0,'Make_enc'], \n",
    "        'Model':group.loc[0,'Model_enc'], \n",
    "        'Trim':group.loc[0,'Trim_enc'], \n",
    "        'Type':group.loc[0,'Type_enc'], \n",
    "        'Liter':group.loc[0,'Liter']\n",
    "    }\n",
    "    missedDF = pd.DataFrame.from_dict(data=x,orient='index').T\n",
    "    new_chevy = pd.concat([chevy, missedDF],axis=1)\n",
    "    new_chevy = new_chevy[X_prep.columns] # rearrange cols\n",
    "    price = sklearnModel.predict(new_chevy)\n",
    "    chevy_preds.append(price)\n",
    "    #print(\n",
    "    #    group.loc[0,'Model'],\n",
    "    #    group.loc[0,'Trim'],\n",
    "    #    group.loc[0,'Liter'],\n",
    "    #    round(price[0],2)\n",
    "    #)\n",
    "    \n",
    "chevyDF = pd.DataFrame(chevy_preds,columns=['chevy_preds'])\n",
    "chevyDF.describe()"
   ]
  },
  {
   "cell_type": "code",
   "execution_count": 20,
   "metadata": {},
   "outputs": [
    {
     "name": "stdout",
     "output_type": "stream",
     "text": [
      "                            OLS Regression Results                            \n",
      "==============================================================================\n",
      "Dep. Variable:                  Price   R-squared:                       0.513\n",
      "Model:                            OLS   Adj. R-squared:                  0.503\n",
      "Method:                 Least Squares   F-statistic:                     52.65\n",
      "Date:                Tue, 10 Nov 2020   Prob (F-statistic):           1.19e-78\n",
      "Time:                        13:38:49   Log-Likelihood:                -5761.2\n",
      "No. Observations:                 562   AIC:                         1.155e+04\n",
      "Df Residuals:                     550   BIC:                         1.160e+04\n",
      "Df Model:                          11                                         \n",
      "Covariance Type:            nonrobust                                         \n",
      "==============================================================================\n",
      "                 coef    std err          t      P>|t|      [0.025      0.975]\n",
      "------------------------------------------------------------------------------\n",
      "const       4560.8765   2930.899      1.556      0.120   -1196.249    1.03e+04\n",
      "Mileage       -0.1905      0.035     -5.440      0.000      -0.259      -0.122\n",
      "Make         930.1276    266.668      3.488      0.001     406.314    1453.941\n",
      "Model       -218.2257     39.620     -5.508      0.000    -296.051    -140.400\n",
      "Trim         -91.2779     21.673     -4.212      0.000    -133.851     -48.705\n",
      "Type         201.8420    715.616      0.282      0.778   -1203.832    1607.516\n",
      "Cylinder    5114.3387    849.584      6.020      0.000    3445.512    6783.165\n",
      "Liter      -1132.9938   1024.630     -1.106      0.269   -3145.660     879.673\n",
      "Doors      -1235.8271    936.768     -1.319      0.188   -3075.907     604.253\n",
      "Cruise      4528.2093    783.522      5.779      0.000    2989.147    6067.272\n",
      "Sound      -1291.9190    658.274     -1.963      0.050   -2584.957       1.119\n",
      "Leather     2525.5599    685.105      3.686      0.000    1179.818    3871.302\n",
      "==============================================================================\n",
      "Omnibus:                      143.876   Durbin-Watson:                   1.919\n",
      "Prob(Omnibus):                  0.000   Jarque-Bera (JB):              462.085\n",
      "Skew:                           1.191   Prob(JB):                    4.57e-101\n",
      "Kurtosis:                       6.749   Cond. No.                     2.21e+05\n",
      "==============================================================================\n",
      "\n",
      "Notes:\n",
      "[1] Standard Errors assume that the covariance matrix of the errors is correctly specified.\n",
      "[2] The condition number is large, 2.21e+05. This might indicate that there are\n",
      "strong multicollinearity or other numerical problems.\n"
     ]
    }
   ],
   "source": [
    "# statsmodel Summary\n",
    "X_train_sm = sm.add_constant(X_train)\n",
    "statsModels = sm.OLS(y_train, X_train_sm.astype(float)).fit()\n",
    "print(statsModels.summary())"
   ]
  },
  {
   "cell_type": "code",
   "execution_count": 21,
   "metadata": {},
   "outputs": [],
   "source": [
    "# Comments on problems\n",
    "# 1. Convert categorical labels into integer representation\n",
    "# 2. Supply values for missing labels since chevy only includes Mileage,Cylinder,Doors,Cruise,Sound,Leather\n",
    "#       Research different approaches for providing missing data\n",
    "# 3. Understand that some labels might be numerical but should be treated as categorical such as 'Liter'\n",
    "# 4. Model R^2 improved so there exists necessary features that need to be included in the model\n",
    "# 5. I noticed that the top Chevy input I provided doesn't exist in the data\n",
    "#      Even though the input I created isn't a real car - it still provides insight.\n",
    "#      The input was a combination of all the top features from Chevy vehicles."
   ]
  },
  {
   "cell_type": "markdown",
   "metadata": {},
   "source": [
    "<h3>Q.10. Create a new text cell in your Notebook: Complete a 50-100 word summary \n",
    "    (or short description of your thinking in applying this week's learning to the solution) \n",
    "     of your experience in this assignment. Include:\n",
    "<br>                                                                       \n",
    "What was your incoming experience with this model, if any?\n",
    "what steps you took, what obstacles you encountered.\n",
    "how you link this exercise to real-world, machine learning problem-solving. (What steps were missing? What else do you need to learn?)\n",
    "This summary allows your instructor to know how you are doing and allot points for your effort in thinking and planning, and making connections to real-world work.\n",
    "</h3>"
   ]
  },
  {
   "cell_type": "markdown",
   "metadata": {
    "collapsed": true
   },
   "source": [
    "<p>\n",
    "<b>enter your response here</b>\n",
    "\n",
    "I enjoyed learning how to read model scoring summaries. I gained a greater understanding of P variables and its importance in model dependence (P < 0.05). I also learned that if a variable has a confidence interval that includes 0, that this variable is likely to be insignificant. Lastly, I learned that plotting residuals against the number of observations is a great way to find collinearity. Using the scoring summaries, I'm able to find collinear variables and remove them to improve model performance.\n",
    "</p>"
   ]
  },
  {
   "cell_type": "code",
   "execution_count": null,
   "metadata": {},
   "outputs": [],
   "source": []
  }
 ],
 "metadata": {
  "kernelspec": {
   "display_name": "Python 3",
   "language": "python",
   "name": "python3"
  },
  "language_info": {
   "codemirror_mode": {
    "name": "ipython",
    "version": 3
   },
   "file_extension": ".py",
   "mimetype": "text/x-python",
   "name": "python",
   "nbconvert_exporter": "python",
   "pygments_lexer": "ipython3",
   "version": "3.7.4"
  }
 },
 "nbformat": 4,
 "nbformat_minor": 2
}
