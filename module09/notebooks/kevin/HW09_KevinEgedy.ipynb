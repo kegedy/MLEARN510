{
 "cells": [
  {
   "cell_type": "markdown",
   "metadata": {
    "collapsed": true
   },
   "source": [
    "# Assignment 9: Bayesian Analysis"
   ]
  },
  {
   "cell_type": "markdown",
   "metadata": {},
   "source": [
    "### Conditional Probability "
   ]
  },
  {
   "cell_type": "markdown",
   "metadata": {},
   "source": [
    "Q.1 Explain in few terms what is Naive Bayes. What is it considered Naive?"
   ]
  },
  {
   "cell_type": "code",
   "execution_count": 1,
   "metadata": {},
   "outputs": [],
   "source": [
    "# Naive Bayes is an assumption that the presence of a particular feature in a class is \n",
    "# unrelated to the presence of any other feature.\n",
    "# It is naive because it assumes that feature is unrelated and independent to other features."
   ]
  },
  {
   "cell_type": "code",
   "execution_count": 2,
   "metadata": {},
   "outputs": [],
   "source": [
    "import pandas as pd\n",
    "from IPython.core.interactiveshell import InteractiveShell\n",
    "InteractiveShell.ast_node_interactivity = \"all\"\n",
    "pd.set_option(\"display.max_rows\", 101)\n",
    "import matplotlib.pyplot as plt\n",
    "import numpy as np\n",
    "import seaborn as sns\n",
    "%matplotlib inline\n",
    "np.random.seed(1)"
   ]
  },
  {
   "cell_type": "code",
   "execution_count": 3,
   "metadata": {},
   "outputs": [
    {
     "name": "stdout",
     "output_type": "stream",
     "text": [
      "<class 'pandas.core.frame.DataFrame'>\n",
      "RangeIndex: 1841 entries, 0 to 1840\n",
      "Data columns (total 6 columns):\n",
      " #   Column                   Non-Null Count  Dtype \n",
      "---  ------                   --------------  ----- \n",
      " 0   Rash                     1841 non-null   object\n",
      " 1   SwollenLymphNode         1841 non-null   object\n",
      " 2   Chills                   1841 non-null   object\n",
      " 3   PolymeraseChainReaction  1841 non-null   object\n",
      " 4   VZVAntibodyTest          1841 non-null   object\n",
      " 5   Blisters                 1841 non-null   object\n",
      "dtypes: object(6)\n",
      "memory usage: 86.4+ KB\n",
      "None\n"
     ]
    },
    {
     "data": {
      "text/html": [
       "<div>\n",
       "<style scoped>\n",
       "    .dataframe tbody tr th:only-of-type {\n",
       "        vertical-align: middle;\n",
       "    }\n",
       "\n",
       "    .dataframe tbody tr th {\n",
       "        vertical-align: top;\n",
       "    }\n",
       "\n",
       "    .dataframe thead th {\n",
       "        text-align: right;\n",
       "    }\n",
       "</style>\n",
       "<table border=\"1\" class=\"dataframe\">\n",
       "  <thead>\n",
       "    <tr style=\"text-align: right;\">\n",
       "      <th></th>\n",
       "      <th>Rash</th>\n",
       "      <th>SwollenLymphNode</th>\n",
       "      <th>Chills</th>\n",
       "      <th>PolymeraseChainReaction</th>\n",
       "      <th>VZVAntibodyTest</th>\n",
       "      <th>Blisters</th>\n",
       "    </tr>\n",
       "  </thead>\n",
       "  <tbody>\n",
       "    <tr>\n",
       "      <th>0</th>\n",
       "      <td>no</td>\n",
       "      <td>no</td>\n",
       "      <td>no</td>\n",
       "      <td>no</td>\n",
       "      <td>pos</td>\n",
       "      <td>no</td>\n",
       "    </tr>\n",
       "    <tr>\n",
       "      <th>1</th>\n",
       "      <td>yes</td>\n",
       "      <td>no</td>\n",
       "      <td>no</td>\n",
       "      <td>no</td>\n",
       "      <td>neg</td>\n",
       "      <td>no</td>\n",
       "    </tr>\n",
       "    <tr>\n",
       "      <th>2</th>\n",
       "      <td>no</td>\n",
       "      <td>no</td>\n",
       "      <td>no</td>\n",
       "      <td>no</td>\n",
       "      <td>neg</td>\n",
       "      <td>no</td>\n",
       "    </tr>\n",
       "    <tr>\n",
       "      <th>3</th>\n",
       "      <td>no</td>\n",
       "      <td>no</td>\n",
       "      <td>no</td>\n",
       "      <td>no</td>\n",
       "      <td>neg</td>\n",
       "      <td>no</td>\n",
       "    </tr>\n",
       "    <tr>\n",
       "      <th>4</th>\n",
       "      <td>no</td>\n",
       "      <td>no</td>\n",
       "      <td>no</td>\n",
       "      <td>no</td>\n",
       "      <td>neg</td>\n",
       "      <td>no</td>\n",
       "    </tr>\n",
       "  </tbody>\n",
       "</table>\n",
       "</div>"
      ],
      "text/plain": [
       "  Rash SwollenLymphNode Chills PolymeraseChainReaction VZVAntibodyTest  \\\n",
       "0   no               no     no                      no             pos   \n",
       "1  yes               no     no                      no             neg   \n",
       "2   no               no     no                      no             neg   \n",
       "3   no               no     no                      no             neg   \n",
       "4   no               no     no                      no             neg   \n",
       "\n",
       "  Blisters  \n",
       "0       no  \n",
       "1       no  \n",
       "2       no  \n",
       "3       no  \n",
       "4       no  "
      ]
     },
     "execution_count": 3,
     "metadata": {},
     "output_type": "execute_result"
    }
   ],
   "source": [
    "import pandas as pd\n",
    "\n",
    "data = pd.read_csv('../data/shingles.csv')\n",
    "print(data.info())\n",
    "data.head()"
   ]
  },
  {
   "cell_type": "markdown",
   "metadata": {},
   "source": [
    "Q.2. Does this data contain any missing values?"
   ]
  },
  {
   "cell_type": "code",
   "execution_count": 4,
   "metadata": {},
   "outputs": [
    {
     "data": {
      "text/plain": [
       "Rash                       0\n",
       "SwollenLymphNode           0\n",
       "Chills                     0\n",
       "PolymeraseChainReaction    0\n",
       "VZVAntibodyTest            0\n",
       "Blisters                   0\n",
       "dtype: int64"
      ]
     },
     "execution_count": 4,
     "metadata": {},
     "output_type": "execute_result"
    }
   ],
   "source": [
    "data.isnull().sum()"
   ]
  },
  {
   "cell_type": "markdown",
   "metadata": {},
   "source": [
    "Preprocess Data"
   ]
  },
  {
   "cell_type": "code",
   "execution_count": 5,
   "metadata": {},
   "outputs": [
    {
     "data": {
      "text/plain": [
       "array(['no', 'yes'], dtype=object)"
      ]
     },
     "execution_count": 5,
     "metadata": {},
     "output_type": "execute_result"
    }
   ],
   "source": [
    "data.Rash.unique()\n",
    "data.loc[data['Rash']=='no','Rash'] = 0\n",
    "data.loc[data['Rash']!=0,'Rash'] = 1\n",
    "#data.VZVAntibodyTest.value_counts()"
   ]
  },
  {
   "cell_type": "code",
   "execution_count": 6,
   "metadata": {},
   "outputs": [
    {
     "data": {
      "text/plain": [
       "array(['no', 'yes'], dtype=object)"
      ]
     },
     "execution_count": 6,
     "metadata": {},
     "output_type": "execute_result"
    }
   ],
   "source": [
    "data.SwollenLymphNode.unique()\n",
    "data.loc[data['SwollenLymphNode']=='no','SwollenLymphNode'] = 0\n",
    "data.loc[data['SwollenLymphNode']!=0,'SwollenLymphNode'] = 1\n",
    "#data.VZVAntibodyTest.value_counts()"
   ]
  },
  {
   "cell_type": "code",
   "execution_count": 7,
   "metadata": {},
   "outputs": [
    {
     "data": {
      "text/plain": [
       "array(['no', 'yes'], dtype=object)"
      ]
     },
     "execution_count": 7,
     "metadata": {},
     "output_type": "execute_result"
    }
   ],
   "source": [
    "data.Chills.unique()\n",
    "data.loc[data['Chills']=='no','Chills'] = 0\n",
    "data.loc[data['Chills']!=0,'Chills'] = 1\n",
    "#data.VZVAntibodyTest.value_counts()"
   ]
  },
  {
   "cell_type": "code",
   "execution_count": 8,
   "metadata": {},
   "outputs": [
    {
     "data": {
      "text/plain": [
       "array(['no', 'yes'], dtype=object)"
      ]
     },
     "execution_count": 8,
     "metadata": {},
     "output_type": "execute_result"
    }
   ],
   "source": [
    "data.PolymeraseChainReaction.unique()\n",
    "data.loc[data['PolymeraseChainReaction']=='no','PolymeraseChainReaction'] = 0\n",
    "data.loc[data['PolymeraseChainReaction']!=0,'PolymeraseChainReaction'] = 1\n",
    "#data.VZVAntibodyTest.value_counts()"
   ]
  },
  {
   "cell_type": "code",
   "execution_count": 9,
   "metadata": {},
   "outputs": [
    {
     "data": {
      "text/plain": [
       "array(['pos', 'neg', 'yes'], dtype=object)"
      ]
     },
     "execution_count": 9,
     "metadata": {},
     "output_type": "execute_result"
    }
   ],
   "source": [
    "data.VZVAntibodyTest.unique()\n",
    "data.loc[data['VZVAntibodyTest']=='neg','VZVAntibodyTest'] = 0\n",
    "data.loc[data['VZVAntibodyTest']!=0,'VZVAntibodyTest'] = 1\n",
    "#data.VZVAntibodyTest.value_counts()"
   ]
  },
  {
   "cell_type": "code",
   "execution_count": 10,
   "metadata": {},
   "outputs": [
    {
     "data": {
      "text/plain": [
       "array(['no', 'yes', 'neg', 'pos', 'po'], dtype=object)"
      ]
     },
     "execution_count": 10,
     "metadata": {},
     "output_type": "execute_result"
    }
   ],
   "source": [
    "data.Blisters.unique()\n",
    "data.loc[(data['Blisters']=='neg') | (data['Blisters']=='no'),'Blisters'] = 0\n",
    "data.loc[data['Blisters']!=0,'Blisters'] = 1\n",
    "#data.VZVAntibodyTest.value_counts()"
   ]
  },
  {
   "cell_type": "code",
   "execution_count": 11,
   "metadata": {},
   "outputs": [
    {
     "data": {
      "text/html": [
       "<div>\n",
       "<style scoped>\n",
       "    .dataframe tbody tr th:only-of-type {\n",
       "        vertical-align: middle;\n",
       "    }\n",
       "\n",
       "    .dataframe tbody tr th {\n",
       "        vertical-align: top;\n",
       "    }\n",
       "\n",
       "    .dataframe thead th {\n",
       "        text-align: right;\n",
       "    }\n",
       "</style>\n",
       "<table border=\"1\" class=\"dataframe\">\n",
       "  <thead>\n",
       "    <tr style=\"text-align: right;\">\n",
       "      <th></th>\n",
       "      <th>Rash</th>\n",
       "      <th>SwollenLymphNode</th>\n",
       "      <th>Chills</th>\n",
       "      <th>PolymeraseChainReaction</th>\n",
       "      <th>VZVAntibodyTest</th>\n",
       "      <th>Blisters</th>\n",
       "    </tr>\n",
       "  </thead>\n",
       "  <tbody>\n",
       "    <tr>\n",
       "      <th>count</th>\n",
       "      <td>1841</td>\n",
       "      <td>1841</td>\n",
       "      <td>1841</td>\n",
       "      <td>1841</td>\n",
       "      <td>1841</td>\n",
       "      <td>1841</td>\n",
       "    </tr>\n",
       "    <tr>\n",
       "      <th>unique</th>\n",
       "      <td>2</td>\n",
       "      <td>2</td>\n",
       "      <td>2</td>\n",
       "      <td>2</td>\n",
       "      <td>2</td>\n",
       "      <td>2</td>\n",
       "    </tr>\n",
       "    <tr>\n",
       "      <th>top</th>\n",
       "      <td>0</td>\n",
       "      <td>0</td>\n",
       "      <td>0</td>\n",
       "      <td>0</td>\n",
       "      <td>0</td>\n",
       "      <td>0</td>\n",
       "    </tr>\n",
       "    <tr>\n",
       "      <th>freq</th>\n",
       "      <td>960</td>\n",
       "      <td>1124</td>\n",
       "      <td>925</td>\n",
       "      <td>1046</td>\n",
       "      <td>1065</td>\n",
       "      <td>1568</td>\n",
       "    </tr>\n",
       "  </tbody>\n",
       "</table>\n",
       "</div>"
      ],
      "text/plain": [
       "        Rash  SwollenLymphNode  Chills  PolymeraseChainReaction  \\\n",
       "count   1841              1841    1841                     1841   \n",
       "unique     2                 2       2                        2   \n",
       "top        0                 0       0                        0   \n",
       "freq     960              1124     925                     1046   \n",
       "\n",
       "        VZVAntibodyTest  Blisters  \n",
       "count              1841      1841  \n",
       "unique                2         2  \n",
       "top                   0         0  \n",
       "freq               1065      1568  "
      ]
     },
     "execution_count": 11,
     "metadata": {},
     "output_type": "execute_result"
    }
   ],
   "source": [
    "data.describe()\n",
    "for col in data.columns:\n",
    "    data[col] = data[col].astype(int)"
   ]
  },
  {
   "cell_type": "code",
   "execution_count": 12,
   "metadata": {},
   "outputs": [
    {
     "data": {
      "text/plain": [
       "<Figure size 432x288 with 0 Axes>"
      ]
     },
     "metadata": {},
     "output_type": "display_data"
    },
    {
     "data": {
      "image/png": "[encoded data removed]",
      "text/plain": [
       "<Figure size 720x720 with 6 Axes>"
      ]
     },
     "metadata": {
      "needs_background": "light"
     },
     "output_type": "display_data"
    }
   ],
   "source": [
    "fig = plt.figure()\n",
    "fig = data.hist(figsize=(10, 10));"
   ]
  },
  {
   "cell_type": "code",
   "execution_count": 13,
   "metadata": {},
   "outputs": [
    {
     "data": {
      "image/png": "[encoded data removed]",
      "text/plain": [
       "<Figure size 576x576 with 2 Axes>"
      ]
     },
     "metadata": {
      "needs_background": "light"
     },
     "output_type": "display_data"
    }
   ],
   "source": [
    "plt.figure(figsize=(8,8))\n",
    "c= data.corr()\n",
    "sns.heatmap(c,annot=True);"
   ]
  },
  {
   "cell_type": "markdown",
   "metadata": {},
   "source": [
    "Q.3. Split the data into 70/30 train test"
   ]
  },
  {
   "cell_type": "code",
   "execution_count": 14,
   "metadata": {},
   "outputs": [],
   "source": [
    "from sklearn.model_selection import train_test_split\n",
    "\n",
    "target = 'Rash'\n",
    "y = data[target]\n",
    "X = data.drop([target],axis=1)\n",
    "X_train, X_test, y_train, y_test = train_test_split(X, y, test_size=0.3)"
   ]
  },
  {
   "cell_type": "markdown",
   "metadata": {},
   "source": [
    "Q.4. Train a Gaussian Naive Bayes model, a Multinomial Naive Bayes and a Bernoulli Naive Bayes on the dataset to predict Rash. Compute the accuracy for each. Explain your results. "
   ]
  },
  {
   "cell_type": "code",
   "execution_count": 15,
   "metadata": {},
   "outputs": [
    {
     "data": {
      "text/plain": [
       "GaussianNB(priors=None, var_smoothing=1e-09)"
      ]
     },
     "execution_count": 15,
     "metadata": {},
     "output_type": "execute_result"
    },
    {
     "data": {
      "text/plain": [
       "MultinomialNB(alpha=1.0, class_prior=None, fit_prior=True)"
      ]
     },
     "execution_count": 15,
     "metadata": {},
     "output_type": "execute_result"
    },
    {
     "data": {
      "text/plain": [
       "BernoulliNB(alpha=1.0, binarize=0.0, class_prior=None, fit_prior=True)"
      ]
     },
     "execution_count": 15,
     "metadata": {},
     "output_type": "execute_result"
    },
    {
     "data": {
      "text/html": [
       "<div>\n",
       "<style scoped>\n",
       "    .dataframe tbody tr th:only-of-type {\n",
       "        vertical-align: middle;\n",
       "    }\n",
       "\n",
       "    .dataframe tbody tr th {\n",
       "        vertical-align: top;\n",
       "    }\n",
       "\n",
       "    .dataframe thead th {\n",
       "        text-align: right;\n",
       "    }\n",
       "</style>\n",
       "<table border=\"1\" class=\"dataframe\">\n",
       "  <thead>\n",
       "    <tr style=\"text-align: right;\">\n",
       "      <th></th>\n",
       "      <th>Accuracy</th>\n",
       "    </tr>\n",
       "  </thead>\n",
       "  <tbody>\n",
       "    <tr>\n",
       "      <th>MultinomialNB</th>\n",
       "      <td>0.5787</td>\n",
       "    </tr>\n",
       "    <tr>\n",
       "      <th>GaussianNB</th>\n",
       "      <td>0.5606</td>\n",
       "    </tr>\n",
       "    <tr>\n",
       "      <th>BernoulliNB</th>\n",
       "      <td>0.5606</td>\n",
       "    </tr>\n",
       "  </tbody>\n",
       "</table>\n",
       "</div>"
      ],
      "text/plain": [
       "               Accuracy\n",
       "MultinomialNB    0.5787\n",
       "GaussianNB       0.5606\n",
       "BernoulliNB      0.5606"
      ]
     },
     "execution_count": 15,
     "metadata": {},
     "output_type": "execute_result"
    }
   ],
   "source": [
    "from sklearn.naive_bayes import GaussianNB\n",
    "from sklearn.naive_bayes import MultinomialNB\n",
    "from sklearn.naive_bayes import BernoulliNB\n",
    "from sklearn.metrics import accuracy_score\n",
    "\n",
    "\n",
    "models = [GaussianNB(),MultinomialNB(),BernoulliNB()]\n",
    "scores = pd.DataFrame(\n",
    "    columns=['Accuracy']\n",
    ")\n",
    "for i,model in enumerate(models):\n",
    "    model.fit(X_train,y_train)\n",
    "    y_pred = model.predict(X_test)\n",
    "    s = accuracy_score(y_test,y_pred)\n",
    "    df = pd.DataFrame(\n",
    "        index=[f'{model.__class__.__name__}'],\n",
    "        columns=['Accuracy'],\n",
    "        data = [round(s,4)]\n",
    "    )\n",
    "    scores = pd.concat([scores,df])\n",
    "\n",
    "scores.sort_values('Accuracy',ascending=False)"
   ]
  },
  {
   "cell_type": "code",
   "execution_count": 16,
   "metadata": {},
   "outputs": [],
   "source": [
    "# MultinomialNB had the best performance. All models performed very similarly. \n",
    "# In all models, the accuracy is not much better than 50-50 chance."
   ]
  },
  {
   "cell_type": "markdown",
   "metadata": {},
   "source": [
    "Q.5. Utilizing Pipeline and GridSearchCV, use 5 different alpha values to train a Bernoulli Naive Bayes and Multinomial Naive Bayes on the dataset. Print out the accuracy for each, and explain your results."
   ]
  },
  {
   "cell_type": "code",
   "execution_count": 17,
   "metadata": {},
   "outputs": [],
   "source": [
    "from sklearn.base import BaseEstimator, TransformerMixin\n",
    "from sklearn.pipeline import make_pipeline\n",
    "from sklearn.pipeline import Pipeline\n",
    "\n",
    "class MrClean(BaseEstimator, TransformerMixin):\n",
    "    def __init__(self): \n",
    "        return None\n",
    "    \n",
    "    def fit(self, X, y=None):\n",
    "        return self  \n",
    "    \n",
    "    def transform(self, X, y=None):\n",
    "        # Rash\n",
    "        X.loc[X['Rash']=='no','Rash'] = 0\n",
    "        X.loc[X['Rash']!=0,'Rash'] = 1\n",
    "        # SwollenLymphNode\n",
    "        X.loc[X['SwollenLymphNode']=='no','SwollenLymphNode'] = 0\n",
    "        X.loc[X['SwollenLymphNode']!=0,'SwollenLymphNode'] = 1\n",
    "        # Chills\n",
    "        X.loc[X['Chills']=='no','Chills'] = 0\n",
    "        X.loc[X['Chills']!=0,'Chills'] = 1\n",
    "        # PolymeraseChainReaction\n",
    "        X.loc[X['PolymeraseChainReaction']=='no','PolymeraseChainReaction'] = 0\n",
    "        X.loc[X['PolymeraseChainReaction']!=0,'PolymeraseChainReaction'] = 1\n",
    "        # VZVAntibodyTest\n",
    "        X.loc[X['VZVAntibodyTest']=='neg','VZVAntibodyTest'] = 0\n",
    "        X.loc[X['VZVAntibodyTest']!=0,'VZVAntibodyTest'] = 1\n",
    "        # Blisters\n",
    "        X.loc[(X['Blisters']=='neg') | (X['Blisters']=='no'),'Blisters'] = 0\n",
    "        X.loc[X['Blisters']!=0,'Blisters'] = 1\n",
    "        for col in X.columns:\n",
    "            X[col] = X[col].astype(int)\n",
    "        return X"
   ]
  },
  {
   "cell_type": "code",
   "execution_count": 18,
   "metadata": {
    "scrolled": false
   },
   "outputs": [
    {
     "data": {
      "text/html": [
       "<div>\n",
       "<style scoped>\n",
       "    .dataframe tbody tr th:only-of-type {\n",
       "        vertical-align: middle;\n",
       "    }\n",
       "\n",
       "    .dataframe tbody tr th {\n",
       "        vertical-align: top;\n",
       "    }\n",
       "\n",
       "    .dataframe thead th {\n",
       "        text-align: right;\n",
       "    }\n",
       "</style>\n",
       "<table border=\"1\" class=\"dataframe\">\n",
       "  <thead>\n",
       "    <tr style=\"text-align: right;\">\n",
       "      <th></th>\n",
       "      <th>Rash</th>\n",
       "      <th>SwollenLymphNode</th>\n",
       "      <th>Chills</th>\n",
       "      <th>PolymeraseChainReaction</th>\n",
       "      <th>VZVAntibodyTest</th>\n",
       "      <th>Blisters</th>\n",
       "    </tr>\n",
       "  </thead>\n",
       "  <tbody>\n",
       "    <tr>\n",
       "      <th>0</th>\n",
       "      <td>0</td>\n",
       "      <td>0</td>\n",
       "      <td>0</td>\n",
       "      <td>0</td>\n",
       "      <td>1</td>\n",
       "      <td>0</td>\n",
       "    </tr>\n",
       "    <tr>\n",
       "      <th>1</th>\n",
       "      <td>1</td>\n",
       "      <td>0</td>\n",
       "      <td>0</td>\n",
       "      <td>0</td>\n",
       "      <td>0</td>\n",
       "      <td>0</td>\n",
       "    </tr>\n",
       "    <tr>\n",
       "      <th>2</th>\n",
       "      <td>0</td>\n",
       "      <td>0</td>\n",
       "      <td>0</td>\n",
       "      <td>0</td>\n",
       "      <td>0</td>\n",
       "      <td>0</td>\n",
       "    </tr>\n",
       "    <tr>\n",
       "      <th>3</th>\n",
       "      <td>0</td>\n",
       "      <td>0</td>\n",
       "      <td>0</td>\n",
       "      <td>0</td>\n",
       "      <td>0</td>\n",
       "      <td>0</td>\n",
       "    </tr>\n",
       "    <tr>\n",
       "      <th>4</th>\n",
       "      <td>0</td>\n",
       "      <td>0</td>\n",
       "      <td>0</td>\n",
       "      <td>0</td>\n",
       "      <td>0</td>\n",
       "      <td>0</td>\n",
       "    </tr>\n",
       "  </tbody>\n",
       "</table>\n",
       "</div>"
      ],
      "text/plain": [
       "   Rash  SwollenLymphNode  Chills  PolymeraseChainReaction  VZVAntibodyTest  \\\n",
       "0     0                 0       0                        0                1   \n",
       "1     1                 0       0                        0                0   \n",
       "2     0                 0       0                        0                0   \n",
       "3     0                 0       0                        0                0   \n",
       "4     0                 0       0                        0                0   \n",
       "\n",
       "   Blisters  \n",
       "0         0  \n",
       "1         0  \n",
       "2         0  \n",
       "3         0  \n",
       "4         0  "
      ]
     },
     "execution_count": 18,
     "metadata": {},
     "output_type": "execute_result"
    },
    {
     "name": "stdout",
     "output_type": "stream",
     "text": [
      "Training Performance\n"
     ]
    },
    {
     "data": {
      "text/plain": [
       "GridSearchCV(cv=KFold(n_splits=10, random_state=None, shuffle=True),\n",
       "             error_score=nan,\n",
       "             estimator=BernoulliNB(alpha=1.0, binarize=0.0, class_prior=None,\n",
       "                                   fit_prior=True),\n",
       "             iid='deprecated', n_jobs=None,\n",
       "             param_grid={'alpha': [0.01, 0.1, 1, 10, 100]},\n",
       "             pre_dispatch='2*n_jobs', refit=True, return_train_score=False,\n",
       "             scoring='accuracy', verbose=0)"
      ]
     },
     "execution_count": 18,
     "metadata": {},
     "output_type": "execute_result"
    },
    {
     "data": {
      "text/html": [
       "<div>\n",
       "<style scoped>\n",
       "    .dataframe tbody tr th:only-of-type {\n",
       "        vertical-align: middle;\n",
       "    }\n",
       "\n",
       "    .dataframe tbody tr th {\n",
       "        vertical-align: top;\n",
       "    }\n",
       "\n",
       "    .dataframe thead th {\n",
       "        text-align: right;\n",
       "    }\n",
       "</style>\n",
       "<table border=\"1\" class=\"dataframe\">\n",
       "  <thead>\n",
       "    <tr style=\"text-align: right;\">\n",
       "      <th></th>\n",
       "      <th>0</th>\n",
       "      <th>1</th>\n",
       "      <th>2</th>\n",
       "      <th>3</th>\n",
       "      <th>4</th>\n",
       "    </tr>\n",
       "  </thead>\n",
       "  <tbody>\n",
       "    <tr>\n",
       "      <th>mean_fit_time</th>\n",
       "      <td>0.00137398</td>\n",
       "      <td>0.00132992</td>\n",
       "      <td>0.00133331</td>\n",
       "      <td>0.00125995</td>\n",
       "      <td>0.00123868</td>\n",
       "    </tr>\n",
       "    <tr>\n",
       "      <th>std_fit_time</th>\n",
       "      <td>0.000128566</td>\n",
       "      <td>5.37166e-05</td>\n",
       "      <td>0.000130204</td>\n",
       "      <td>2.41811e-05</td>\n",
       "      <td>6.46479e-06</td>\n",
       "    </tr>\n",
       "    <tr>\n",
       "      <th>mean_score_time</th>\n",
       "      <td>0.00065105</td>\n",
       "      <td>0.000621533</td>\n",
       "      <td>0.000618649</td>\n",
       "      <td>0.000590372</td>\n",
       "      <td>0.000573564</td>\n",
       "    </tr>\n",
       "    <tr>\n",
       "      <th>std_score_time</th>\n",
       "      <td>0.000100722</td>\n",
       "      <td>3.11476e-05</td>\n",
       "      <td>6.78492e-05</td>\n",
       "      <td>3.48778e-05</td>\n",
       "      <td>4.04054e-06</td>\n",
       "    </tr>\n",
       "    <tr>\n",
       "      <th>param_alpha</th>\n",
       "      <td>0.01</td>\n",
       "      <td>0.1</td>\n",
       "      <td>1</td>\n",
       "      <td>10</td>\n",
       "      <td>100</td>\n",
       "    </tr>\n",
       "    <tr>\n",
       "      <th>params</th>\n",
       "      <td>{'alpha': 0.01}</td>\n",
       "      <td>{'alpha': 0.1}</td>\n",
       "      <td>{'alpha': 1}</td>\n",
       "      <td>{'alpha': 10}</td>\n",
       "      <td>{'alpha': 100}</td>\n",
       "    </tr>\n",
       "    <tr>\n",
       "      <th>split0_test_score</th>\n",
       "      <td>0.496124</td>\n",
       "      <td>0.496124</td>\n",
       "      <td>0.496124</td>\n",
       "      <td>0.496124</td>\n",
       "      <td>0.496124</td>\n",
       "    </tr>\n",
       "    <tr>\n",
       "      <th>split1_test_score</th>\n",
       "      <td>0.542636</td>\n",
       "      <td>0.542636</td>\n",
       "      <td>0.542636</td>\n",
       "      <td>0.542636</td>\n",
       "      <td>0.589147</td>\n",
       "    </tr>\n",
       "    <tr>\n",
       "      <th>split2_test_score</th>\n",
       "      <td>0.550388</td>\n",
       "      <td>0.550388</td>\n",
       "      <td>0.550388</td>\n",
       "      <td>0.550388</td>\n",
       "      <td>0.550388</td>\n",
       "    </tr>\n",
       "    <tr>\n",
       "      <th>split3_test_score</th>\n",
       "      <td>0.542636</td>\n",
       "      <td>0.542636</td>\n",
       "      <td>0.542636</td>\n",
       "      <td>0.542636</td>\n",
       "      <td>0.604651</td>\n",
       "    </tr>\n",
       "    <tr>\n",
       "      <th>split4_test_score</th>\n",
       "      <td>0.488372</td>\n",
       "      <td>0.488372</td>\n",
       "      <td>0.488372</td>\n",
       "      <td>0.488372</td>\n",
       "      <td>0.488372</td>\n",
       "    </tr>\n",
       "    <tr>\n",
       "      <th>split5_test_score</th>\n",
       "      <td>0.542636</td>\n",
       "      <td>0.542636</td>\n",
       "      <td>0.542636</td>\n",
       "      <td>0.542636</td>\n",
       "      <td>0.542636</td>\n",
       "    </tr>\n",
       "    <tr>\n",
       "      <th>split6_test_score</th>\n",
       "      <td>0.55814</td>\n",
       "      <td>0.55814</td>\n",
       "      <td>0.55814</td>\n",
       "      <td>0.581395</td>\n",
       "      <td>0.589147</td>\n",
       "    </tr>\n",
       "    <tr>\n",
       "      <th>split7_test_score</th>\n",
       "      <td>0.581395</td>\n",
       "      <td>0.581395</td>\n",
       "      <td>0.581395</td>\n",
       "      <td>0.581395</td>\n",
       "      <td>0.581395</td>\n",
       "    </tr>\n",
       "    <tr>\n",
       "      <th>split8_test_score</th>\n",
       "      <td>0.601562</td>\n",
       "      <td>0.601562</td>\n",
       "      <td>0.601562</td>\n",
       "      <td>0.601562</td>\n",
       "      <td>0.601562</td>\n",
       "    </tr>\n",
       "    <tr>\n",
       "      <th>split9_test_score</th>\n",
       "      <td>0.507812</td>\n",
       "      <td>0.507812</td>\n",
       "      <td>0.507812</td>\n",
       "      <td>0.507812</td>\n",
       "      <td>0.507812</td>\n",
       "    </tr>\n",
       "    <tr>\n",
       "      <th>mean_test_score</th>\n",
       "      <td>0.54117</td>\n",
       "      <td>0.54117</td>\n",
       "      <td>0.54117</td>\n",
       "      <td>0.543496</td>\n",
       "      <td>0.555124</td>\n",
       "    </tr>\n",
       "    <tr>\n",
       "      <th>std_test_score</th>\n",
       "      <td>0.0340209</td>\n",
       "      <td>0.0340209</td>\n",
       "      <td>0.0340209</td>\n",
       "      <td>0.0358472</td>\n",
       "      <td>0.0423892</td>\n",
       "    </tr>\n",
       "    <tr>\n",
       "      <th>rank_test_score</th>\n",
       "      <td>3</td>\n",
       "      <td>3</td>\n",
       "      <td>3</td>\n",
       "      <td>2</td>\n",
       "      <td>1</td>\n",
       "    </tr>\n",
       "  </tbody>\n",
       "</table>\n",
       "</div>"
      ],
      "text/plain": [
       "                                 0               1             2  \\\n",
       "mean_fit_time           0.00137398      0.00132992    0.00133331   \n",
       "std_fit_time           0.000128566     5.37166e-05   0.000130204   \n",
       "mean_score_time         0.00065105     0.000621533   0.000618649   \n",
       "std_score_time         0.000100722     3.11476e-05   6.78492e-05   \n",
       "param_alpha                   0.01             0.1             1   \n",
       "params             {'alpha': 0.01}  {'alpha': 0.1}  {'alpha': 1}   \n",
       "split0_test_score         0.496124        0.496124      0.496124   \n",
       "split1_test_score         0.542636        0.542636      0.542636   \n",
       "split2_test_score         0.550388        0.550388      0.550388   \n",
       "split3_test_score         0.542636        0.542636      0.542636   \n",
       "split4_test_score         0.488372        0.488372      0.488372   \n",
       "split5_test_score         0.542636        0.542636      0.542636   \n",
       "split6_test_score          0.55814         0.55814       0.55814   \n",
       "split7_test_score         0.581395        0.581395      0.581395   \n",
       "split8_test_score         0.601562        0.601562      0.601562   \n",
       "split9_test_score         0.507812        0.507812      0.507812   \n",
       "mean_test_score            0.54117         0.54117       0.54117   \n",
       "std_test_score           0.0340209       0.0340209     0.0340209   \n",
       "rank_test_score                  3               3             3   \n",
       "\n",
       "                               3               4  \n",
       "mean_fit_time         0.00125995      0.00123868  \n",
       "std_fit_time         2.41811e-05     6.46479e-06  \n",
       "mean_score_time      0.000590372     0.000573564  \n",
       "std_score_time       3.48778e-05     4.04054e-06  \n",
       "param_alpha                   10             100  \n",
       "params             {'alpha': 10}  {'alpha': 100}  \n",
       "split0_test_score       0.496124        0.496124  \n",
       "split1_test_score       0.542636        0.589147  \n",
       "split2_test_score       0.550388        0.550388  \n",
       "split3_test_score       0.542636        0.604651  \n",
       "split4_test_score       0.488372        0.488372  \n",
       "split5_test_score       0.542636        0.542636  \n",
       "split6_test_score       0.581395        0.589147  \n",
       "split7_test_score       0.581395        0.581395  \n",
       "split8_test_score       0.601562        0.601562  \n",
       "split9_test_score       0.507812        0.507812  \n",
       "mean_test_score         0.543496        0.555124  \n",
       "std_test_score         0.0358472       0.0423892  \n",
       "rank_test_score                2               1  "
      ]
     },
     "execution_count": 18,
     "metadata": {},
     "output_type": "execute_result"
    },
    {
     "data": {
      "text/plain": [
       "GridSearchCV(cv=KFold(n_splits=10, random_state=None, shuffle=True),\n",
       "             error_score=nan,\n",
       "             estimator=MultinomialNB(alpha=1.0, class_prior=None,\n",
       "                                     fit_prior=True),\n",
       "             iid='deprecated', n_jobs=None,\n",
       "             param_grid={'alpha': [0.01, 0.1, 1, 10, 100]},\n",
       "             pre_dispatch='2*n_jobs', refit=True, return_train_score=False,\n",
       "             scoring='accuracy', verbose=0)"
      ]
     },
     "execution_count": 18,
     "metadata": {},
     "output_type": "execute_result"
    },
    {
     "data": {
      "text/html": [
       "<div>\n",
       "<style scoped>\n",
       "    .dataframe tbody tr th:only-of-type {\n",
       "        vertical-align: middle;\n",
       "    }\n",
       "\n",
       "    .dataframe tbody tr th {\n",
       "        vertical-align: top;\n",
       "    }\n",
       "\n",
       "    .dataframe thead th {\n",
       "        text-align: right;\n",
       "    }\n",
       "</style>\n",
       "<table border=\"1\" class=\"dataframe\">\n",
       "  <thead>\n",
       "    <tr style=\"text-align: right;\">\n",
       "      <th></th>\n",
       "      <th>0</th>\n",
       "      <th>1</th>\n",
       "      <th>2</th>\n",
       "      <th>3</th>\n",
       "      <th>4</th>\n",
       "    </tr>\n",
       "  </thead>\n",
       "  <tbody>\n",
       "    <tr>\n",
       "      <th>mean_fit_time</th>\n",
       "      <td>0.00115552</td>\n",
       "      <td>0.00118289</td>\n",
       "      <td>0.00112693</td>\n",
       "      <td>0.00114667</td>\n",
       "      <td>0.0011323</td>\n",
       "    </tr>\n",
       "    <tr>\n",
       "      <th>std_fit_time</th>\n",
       "      <td>5.64439e-05</td>\n",
       "      <td>8.04791e-05</td>\n",
       "      <td>1.31074e-05</td>\n",
       "      <td>2.67085e-05</td>\n",
       "      <td>1.92443e-05</td>\n",
       "    </tr>\n",
       "    <tr>\n",
       "      <th>mean_score_time</th>\n",
       "      <td>0.000519061</td>\n",
       "      <td>0.000537753</td>\n",
       "      <td>0.000557995</td>\n",
       "      <td>0.000515747</td>\n",
       "      <td>0.0005126</td>\n",
       "    </tr>\n",
       "    <tr>\n",
       "      <th>std_score_time</th>\n",
       "      <td>2.01128e-05</td>\n",
       "      <td>3.22381e-05</td>\n",
       "      <td>0.000150123</td>\n",
       "      <td>9.44017e-06</td>\n",
       "      <td>6.31787e-06</td>\n",
       "    </tr>\n",
       "    <tr>\n",
       "      <th>param_alpha</th>\n",
       "      <td>0.01</td>\n",
       "      <td>0.1</td>\n",
       "      <td>1</td>\n",
       "      <td>10</td>\n",
       "      <td>100</td>\n",
       "    </tr>\n",
       "    <tr>\n",
       "      <th>params</th>\n",
       "      <td>{'alpha': 0.01}</td>\n",
       "      <td>{'alpha': 0.1}</td>\n",
       "      <td>{'alpha': 1}</td>\n",
       "      <td>{'alpha': 10}</td>\n",
       "      <td>{'alpha': 100}</td>\n",
       "    </tr>\n",
       "    <tr>\n",
       "      <th>split0_test_score</th>\n",
       "      <td>0.550388</td>\n",
       "      <td>0.550388</td>\n",
       "      <td>0.550388</td>\n",
       "      <td>0.550388</td>\n",
       "      <td>0.55814</td>\n",
       "    </tr>\n",
       "    <tr>\n",
       "      <th>split1_test_score</th>\n",
       "      <td>0.565891</td>\n",
       "      <td>0.565891</td>\n",
       "      <td>0.565891</td>\n",
       "      <td>0.565891</td>\n",
       "      <td>0.565891</td>\n",
       "    </tr>\n",
       "    <tr>\n",
       "      <th>split2_test_score</th>\n",
       "      <td>0.604651</td>\n",
       "      <td>0.604651</td>\n",
       "      <td>0.604651</td>\n",
       "      <td>0.604651</td>\n",
       "      <td>0.604651</td>\n",
       "    </tr>\n",
       "    <tr>\n",
       "      <th>split3_test_score</th>\n",
       "      <td>0.589147</td>\n",
       "      <td>0.589147</td>\n",
       "      <td>0.589147</td>\n",
       "      <td>0.589147</td>\n",
       "      <td>0.604651</td>\n",
       "    </tr>\n",
       "    <tr>\n",
       "      <th>split4_test_score</th>\n",
       "      <td>0.596899</td>\n",
       "      <td>0.596899</td>\n",
       "      <td>0.596899</td>\n",
       "      <td>0.596899</td>\n",
       "      <td>0.604651</td>\n",
       "    </tr>\n",
       "    <tr>\n",
       "      <th>split5_test_score</th>\n",
       "      <td>0.511628</td>\n",
       "      <td>0.511628</td>\n",
       "      <td>0.511628</td>\n",
       "      <td>0.511628</td>\n",
       "      <td>0.511628</td>\n",
       "    </tr>\n",
       "    <tr>\n",
       "      <th>split6_test_score</th>\n",
       "      <td>0.534884</td>\n",
       "      <td>0.534884</td>\n",
       "      <td>0.534884</td>\n",
       "      <td>0.534884</td>\n",
       "      <td>0.527132</td>\n",
       "    </tr>\n",
       "    <tr>\n",
       "      <th>split7_test_score</th>\n",
       "      <td>0.55814</td>\n",
       "      <td>0.55814</td>\n",
       "      <td>0.55814</td>\n",
       "      <td>0.55814</td>\n",
       "      <td>0.55814</td>\n",
       "    </tr>\n",
       "    <tr>\n",
       "      <th>split8_test_score</th>\n",
       "      <td>0.5625</td>\n",
       "      <td>0.5625</td>\n",
       "      <td>0.5625</td>\n",
       "      <td>0.5625</td>\n",
       "      <td>0.554688</td>\n",
       "    </tr>\n",
       "    <tr>\n",
       "      <th>split9_test_score</th>\n",
       "      <td>0.453125</td>\n",
       "      <td>0.453125</td>\n",
       "      <td>0.453125</td>\n",
       "      <td>0.453125</td>\n",
       "      <td>0.460938</td>\n",
       "    </tr>\n",
       "    <tr>\n",
       "      <th>mean_test_score</th>\n",
       "      <td>0.552725</td>\n",
       "      <td>0.552725</td>\n",
       "      <td>0.552725</td>\n",
       "      <td>0.552725</td>\n",
       "      <td>0.555051</td>\n",
       "    </tr>\n",
       "    <tr>\n",
       "      <th>std_test_score</th>\n",
       "      <td>0.0426678</td>\n",
       "      <td>0.0426678</td>\n",
       "      <td>0.0426678</td>\n",
       "      <td>0.0426678</td>\n",
       "      <td>0.0436345</td>\n",
       "    </tr>\n",
       "    <tr>\n",
       "      <th>rank_test_score</th>\n",
       "      <td>2</td>\n",
       "      <td>2</td>\n",
       "      <td>2</td>\n",
       "      <td>2</td>\n",
       "      <td>1</td>\n",
       "    </tr>\n",
       "  </tbody>\n",
       "</table>\n",
       "</div>"
      ],
      "text/plain": [
       "                                 0               1             2  \\\n",
       "mean_fit_time           0.00115552      0.00118289    0.00112693   \n",
       "std_fit_time           5.64439e-05     8.04791e-05   1.31074e-05   \n",
       "mean_score_time        0.000519061     0.000537753   0.000557995   \n",
       "std_score_time         2.01128e-05     3.22381e-05   0.000150123   \n",
       "param_alpha                   0.01             0.1             1   \n",
       "params             {'alpha': 0.01}  {'alpha': 0.1}  {'alpha': 1}   \n",
       "split0_test_score         0.550388        0.550388      0.550388   \n",
       "split1_test_score         0.565891        0.565891      0.565891   \n",
       "split2_test_score         0.604651        0.604651      0.604651   \n",
       "split3_test_score         0.589147        0.589147      0.589147   \n",
       "split4_test_score         0.596899        0.596899      0.596899   \n",
       "split5_test_score         0.511628        0.511628      0.511628   \n",
       "split6_test_score         0.534884        0.534884      0.534884   \n",
       "split7_test_score          0.55814         0.55814       0.55814   \n",
       "split8_test_score           0.5625          0.5625        0.5625   \n",
       "split9_test_score         0.453125        0.453125      0.453125   \n",
       "mean_test_score           0.552725        0.552725      0.552725   \n",
       "std_test_score           0.0426678       0.0426678     0.0426678   \n",
       "rank_test_score                  2               2             2   \n",
       "\n",
       "                               3               4  \n",
       "mean_fit_time         0.00114667       0.0011323  \n",
       "std_fit_time         2.67085e-05     1.92443e-05  \n",
       "mean_score_time      0.000515747       0.0005126  \n",
       "std_score_time       9.44017e-06     6.31787e-06  \n",
       "param_alpha                   10             100  \n",
       "params             {'alpha': 10}  {'alpha': 100}  \n",
       "split0_test_score       0.550388         0.55814  \n",
       "split1_test_score       0.565891        0.565891  \n",
       "split2_test_score       0.604651        0.604651  \n",
       "split3_test_score       0.589147        0.604651  \n",
       "split4_test_score       0.596899        0.604651  \n",
       "split5_test_score       0.511628        0.511628  \n",
       "split6_test_score       0.534884        0.527132  \n",
       "split7_test_score        0.55814         0.55814  \n",
       "split8_test_score         0.5625        0.554688  \n",
       "split9_test_score       0.453125        0.460938  \n",
       "mean_test_score         0.552725        0.555051  \n",
       "std_test_score         0.0426678       0.0436345  \n",
       "rank_test_score                2               1  "
      ]
     },
     "execution_count": 18,
     "metadata": {},
     "output_type": "execute_result"
    },
    {
     "name": "stdout",
     "output_type": "stream",
     "text": [
      "\n",
      "Test Performance\n"
     ]
    },
    {
     "data": {
      "text/html": [
       "<div>\n",
       "<style scoped>\n",
       "    .dataframe tbody tr th:only-of-type {\n",
       "        vertical-align: middle;\n",
       "    }\n",
       "\n",
       "    .dataframe tbody tr th {\n",
       "        vertical-align: top;\n",
       "    }\n",
       "\n",
       "    .dataframe thead th {\n",
       "        text-align: right;\n",
       "    }\n",
       "</style>\n",
       "<table border=\"1\" class=\"dataframe\">\n",
       "  <thead>\n",
       "    <tr style=\"text-align: right;\">\n",
       "      <th></th>\n",
       "      <th>Accuracy</th>\n",
       "      <th>Best Alpha</th>\n",
       "    </tr>\n",
       "  </thead>\n",
       "  <tbody>\n",
       "    <tr>\n",
       "      <th>MultinomialNB</th>\n",
       "      <td>0.548084</td>\n",
       "      <td>100.0</td>\n",
       "    </tr>\n",
       "    <tr>\n",
       "      <th>BernoulliNB</th>\n",
       "      <td>0.542532</td>\n",
       "      <td>100.0</td>\n",
       "    </tr>\n",
       "  </tbody>\n",
       "</table>\n",
       "</div>"
      ],
      "text/plain": [
       "               Accuracy  Best Alpha\n",
       "MultinomialNB  0.548084       100.0\n",
       "BernoulliNB    0.542532       100.0"
      ]
     },
     "execution_count": 18,
     "metadata": {},
     "output_type": "execute_result"
    }
   ],
   "source": [
    "from sklearn.model_selection import GridSearchCV, KFold, cross_val_score\n",
    "# predict(X): Call predict on the estimator with the best found parameters.\n",
    "\n",
    "data = pd.read_csv('../data/shingles.csv')\n",
    "pipe = Pipeline([\n",
    "    ('clean',MrClean())\n",
    "])\n",
    "data_tr = pipe.fit_transform(data)\n",
    "data_tr.head()\n",
    "\n",
    "target = 'Rash'\n",
    "y = data_tr[target]\n",
    "X = data_tr.drop([target],axis=1)\n",
    "X_train, X_test, y_train, y_test = train_test_split(X, y, test_size=0.3)\n",
    "\n",
    "scores = pd.DataFrame(\n",
    "    columns=['Accuracy']\n",
    ")\n",
    "\n",
    "print('Training Performance')\n",
    "models = [BernoulliNB(),MultinomialNB()]\n",
    "for i,model in enumerate(models):\n",
    "    kfold = KFold(n_splits=10, shuffle=True)\n",
    "    parameters  = {'alpha' : [0.01,0.1,1,10,100]}\n",
    "    grid_search = GridSearchCV(model,param_grid=parameters,scoring='accuracy',cv=kfold)\n",
    "    grid_search.fit(X_train,y_train)\n",
    "    pd.DataFrame.from_dict(grid_search.cv_results_, orient='index')\n",
    "    #y_pred = grid_search.predict(X_test)\n",
    "    #s = accuracy_score(y_test,y_pred)\n",
    "    results = cross_val_score(grid_search.best_estimator_, X_test, y_test, cv=kfold, scoring='accuracy')\n",
    "    df = pd.DataFrame(\n",
    "        index=[f'{model.__class__.__name__}'],\n",
    "        data = {\n",
    "            'Accuracy': [results.mean()], \n",
    "            'Best Alpha': [grid_search.best_estimator_.alpha],\n",
    "        }\n",
    "    )\n",
    "    scores = pd.concat([scores,df])\n",
    "\n",
    "\n",
    "print('\\nTest Performance')\n",
    "scores.sort_values('Accuracy',ascending=False)"
   ]
  },
  {
   "cell_type": "code",
   "execution_count": 19,
   "metadata": {},
   "outputs": [],
   "source": [
    "# Comments\n",
    "\n",
    "# Even with tuning the alpha hyper-parameter, the performance on the test data \n",
    "# is only slightly better than 50-50 chance. \n",
    "\n",
    "# Runnning this section multiple times shows that the best alpha parameter can change\n",
    "# and does not greatly affect the performance of the model.\n",
    "\n",
    "# The performance is expected because the data is not clearly separated - refer back to histogram plots."
   ]
  },
  {
   "cell_type": "markdown",
   "metadata": {},
   "source": [
    "## Inference in Bayesian networks"
   ]
  },
  {
   "cell_type": "markdown",
   "metadata": {},
   "source": [
    "Q.6. Create a new text cell in your Notebook: Complete a 50-100 word summary \n",
    "    (or short description of your thinking in applying this week's learning to the solution) \n",
    "     of your experience in this assignment. Include:\n",
    "                                                                      \n",
    "What was your incoming experience with this model, if any?\n",
    "what steps you took, what obstacles you encountered.\n",
    "how you link this exercise to real-world, machine learning problem-solving. (What steps were missing? What else do you need to learn?)\n",
    "This summary allows your instructor to know how you are doing and allot points for your effort in thinking and planning, and making connections to real-world work.\n"
   ]
  },
  {
   "cell_type": "code",
   "execution_count": 20,
   "metadata": {},
   "outputs": [],
   "source": [
    "# Enter summary here\n",
    "\n",
    "# I gained the most value in knowing when it is valuable to use Bayesian networks.\n",
    "# I learned that tBayesian networks are great baselines in modeling high dimensionality data and \n",
    "# when class labels are strongly separated."
   ]
  }
 ],
 "metadata": {
  "kernelspec": {
   "display_name": "Python 3",
   "language": "python",
   "name": "python3"
  },
  "language_info": {
   "codemirror_mode": {
    "name": "ipython",
    "version": 3
   },
   "file_extension": ".py",
   "mimetype": "text/x-python",
   "name": "python",
   "nbconvert_exporter": "python",
   "pygments_lexer": "ipython3",
   "version": "3.7.4"
  }
 },
 "nbformat": 4,
 "nbformat_minor": 2
}
