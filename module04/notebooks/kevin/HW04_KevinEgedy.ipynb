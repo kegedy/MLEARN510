{
 "cells": [
  {
   "cell_type": "markdown",
   "metadata": {},
   "source": [
    "<h1>Lesson 4. Model selection: Car mileage</h1>"
   ]
  },
  {
   "cell_type": "markdown",
   "metadata": {},
   "source": [
    "<img src=\"https://upload.wikimedia.org/wikipedia/commons/thumb/7/77/%22real_time_display%22_of_mileage_%28%22mpg%22%29_on_Honda_Insight.png/320px-%22real_time_display%22_of_mileage_%28%22mpg%22%29_on_Honda_Insight.png\" style=\"height:200px;\">\n",
    "  \n",
    "<p>In this exercise you will predict car mileage based on its properties. The data is taken from <a href=\"http://www-bcf.usc.edu/~gareth/ISL/\">ISLR website</a>, but requires few transformations to make it usable for model building. These transformations will include: missing value imputation and normalizing the variables. </p>\n",
    "\n",
    "<p>This dataset contains 397 car entries with following features:</p>\n",
    "<ul>\n",
    "<li>mpg miles per gallon (what we are trying to predict)</li>\n",
    "<li>cylinders Number of cylinders between 4 and 8</li>\n",
    "<li>displacement Engine displacement (cu. inches)</li>\n",
    "<li>horsepower Engine horsepower</li>\n",
    "<li>weight Vehicle weight (lbs.)</li>\n",
    "<li>acceleration Time to accelerate from 0 to 60 mph (sec.)</li>\n",
    "<li>year Model year (modulo 100)</li>\n",
    "<li>origin Origin of car (1. American, 2. European, 3. Japanese)</li>\n",
    "<li>name Vehicle name</ul>\n",
    "</ul>\n"
   ]
  },
  {
   "cell_type": "code",
   "execution_count": 1,
   "metadata": {},
   "outputs": [
    {
     "name": "stdout",
     "output_type": "stream",
     "text": [
      "<class 'pandas.core.frame.DataFrame'>\n",
      "RangeIndex: 397 entries, 0 to 396\n",
      "Data columns (total 8 columns):\n",
      " #   Column        Non-Null Count  Dtype  \n",
      "---  ------        --------------  -----  \n",
      " 0   mpg           397 non-null    float64\n",
      " 1   cylinders     397 non-null    int64  \n",
      " 2   displacement  397 non-null    float64\n",
      " 3   horsepower    392 non-null    float64\n",
      " 4   weight        397 non-null    int64  \n",
      " 5   acceleration  397 non-null    float64\n",
      " 6   year          397 non-null    int64  \n",
      " 7   origin        397 non-null    int64  \n",
      "dtypes: float64(4), int64(4)\n",
      "memory usage: 24.9 KB\n",
      "None\n"
     ]
    }
   ],
   "source": [
    "import pandas as pd\n",
    "from IPython.core.interactiveshell import InteractiveShell\n",
    "InteractiveShell.ast_node_interactivity = \"all\"\n",
    "pd.set_option(\"display.max_rows\", 101)\n",
    "import matplotlib.pyplot as plt\n",
    "import numpy as np\n",
    "import seaborn as sn\n",
    "%matplotlib inline\n",
    "np.random.seed(1)\n",
    "\n",
    "# Load the data\n",
    "auto = pd.read_csv('../data/auto.csv')\n",
    "print(auto.info())\n",
    "auto.head()\n",
    "\n",
    "pvals = pd.DataFrame(index=auto.columns)"
   ]
  },
  {
   "cell_type": "markdown",
   "metadata": {},
   "source": [
    "<h3>Q.1. Write a command that will calculate the number of missing values in this dataset</h3>"
   ]
  },
  {
   "cell_type": "code",
   "execution_count": 2,
   "metadata": {},
   "outputs": [
    {
     "name": "stdout",
     "output_type": "stream",
     "text": [
      "Dataset missing values: 5\n"
     ]
    }
   ],
   "source": [
    "# Command(s)\n",
    "print(f'Dataset missing values: {auto.isnull().sum().sum()}')"
   ]
  },
  {
   "cell_type": "markdown",
   "metadata": {},
   "source": [
    "<h3>Q.2. Write a command that will only show the rows with missing values. Can you comment on why the values might be missing (e.g. excessive prevalence of specific feature)?</h3>"
   ]
  },
  {
   "cell_type": "code",
   "execution_count": 3,
   "metadata": {},
   "outputs": [
    {
     "data": {
      "text/html": [
       "<div>\n",
       "<style scoped>\n",
       "    .dataframe tbody tr th:only-of-type {\n",
       "        vertical-align: middle;\n",
       "    }\n",
       "\n",
       "    .dataframe tbody tr th {\n",
       "        vertical-align: top;\n",
       "    }\n",
       "\n",
       "    .dataframe thead th {\n",
       "        text-align: right;\n",
       "    }\n",
       "</style>\n",
       "<table border=\"1\" class=\"dataframe\">\n",
       "  <thead>\n",
       "    <tr style=\"text-align: right;\">\n",
       "      <th></th>\n",
       "      <th>mpg</th>\n",
       "      <th>cylinders</th>\n",
       "      <th>displacement</th>\n",
       "      <th>horsepower</th>\n",
       "      <th>weight</th>\n",
       "      <th>acceleration</th>\n",
       "      <th>year</th>\n",
       "      <th>origin</th>\n",
       "    </tr>\n",
       "  </thead>\n",
       "  <tbody>\n",
       "    <tr>\n",
       "      <th>32</th>\n",
       "      <td>25.0</td>\n",
       "      <td>4</td>\n",
       "      <td>98.0</td>\n",
       "      <td>NaN</td>\n",
       "      <td>2046</td>\n",
       "      <td>19.0</td>\n",
       "      <td>71</td>\n",
       "      <td>1</td>\n",
       "    </tr>\n",
       "    <tr>\n",
       "      <th>126</th>\n",
       "      <td>21.0</td>\n",
       "      <td>6</td>\n",
       "      <td>200.0</td>\n",
       "      <td>NaN</td>\n",
       "      <td>2875</td>\n",
       "      <td>17.0</td>\n",
       "      <td>74</td>\n",
       "      <td>1</td>\n",
       "    </tr>\n",
       "    <tr>\n",
       "      <th>330</th>\n",
       "      <td>40.9</td>\n",
       "      <td>4</td>\n",
       "      <td>85.0</td>\n",
       "      <td>NaN</td>\n",
       "      <td>1835</td>\n",
       "      <td>17.3</td>\n",
       "      <td>80</td>\n",
       "      <td>2</td>\n",
       "    </tr>\n",
       "    <tr>\n",
       "      <th>336</th>\n",
       "      <td>23.6</td>\n",
       "      <td>4</td>\n",
       "      <td>140.0</td>\n",
       "      <td>NaN</td>\n",
       "      <td>2905</td>\n",
       "      <td>14.3</td>\n",
       "      <td>80</td>\n",
       "      <td>1</td>\n",
       "    </tr>\n",
       "    <tr>\n",
       "      <th>354</th>\n",
       "      <td>34.5</td>\n",
       "      <td>4</td>\n",
       "      <td>100.0</td>\n",
       "      <td>NaN</td>\n",
       "      <td>2320</td>\n",
       "      <td>15.8</td>\n",
       "      <td>81</td>\n",
       "      <td>2</td>\n",
       "    </tr>\n",
       "  </tbody>\n",
       "</table>\n",
       "</div>"
      ],
      "text/plain": [
       "      mpg  cylinders  displacement  horsepower  weight  acceleration  year  \\\n",
       "32   25.0          4          98.0         NaN    2046          19.0    71   \n",
       "126  21.0          6         200.0         NaN    2875          17.0    74   \n",
       "330  40.9          4          85.0         NaN    1835          17.3    80   \n",
       "336  23.6          4         140.0         NaN    2905          14.3    80   \n",
       "354  34.5          4         100.0         NaN    2320          15.8    81   \n",
       "\n",
       "     origin  \n",
       "32        1  \n",
       "126       1  \n",
       "330       2  \n",
       "336       1  \n",
       "354       2  "
      ]
     },
     "execution_count": 3,
     "metadata": {},
     "output_type": "execute_result"
    }
   ],
   "source": [
    "# Command:\n",
    "auto[auto.isnull().any(axis=1)]\n",
    "\n",
    "# Comment (One - two sentence)\n",
    "\n",
    "# All missing data comes from the horsepower feature. \n",
    "\n",
    "# It is likely that the data depends on the observed data, however I don't see any correlations  \n",
    "#      to the missing data."
   ]
  },
  {
   "cell_type": "code",
   "execution_count": 4,
   "metadata": {},
   "outputs": [
    {
     "data": {
      "text/html": [
       "<div>\n",
       "<style scoped>\n",
       "    .dataframe tbody tr th:only-of-type {\n",
       "        vertical-align: middle;\n",
       "    }\n",
       "\n",
       "    .dataframe tbody tr th {\n",
       "        vertical-align: top;\n",
       "    }\n",
       "\n",
       "    .dataframe thead th {\n",
       "        text-align: right;\n",
       "    }\n",
       "</style>\n",
       "<table border=\"1\" class=\"dataframe\">\n",
       "  <thead>\n",
       "    <tr style=\"text-align: right;\">\n",
       "      <th></th>\n",
       "      <th>mpg</th>\n",
       "      <th>cylinders</th>\n",
       "      <th>displacement</th>\n",
       "      <th>horsepower</th>\n",
       "      <th>weight</th>\n",
       "      <th>acceleration</th>\n",
       "      <th>year</th>\n",
       "      <th>origin</th>\n",
       "    </tr>\n",
       "  </thead>\n",
       "  <tbody>\n",
       "    <tr>\n",
       "      <th>count</th>\n",
       "      <td>397.000000</td>\n",
       "      <td>397.000000</td>\n",
       "      <td>397.000000</td>\n",
       "      <td>392.000000</td>\n",
       "      <td>397.000000</td>\n",
       "      <td>397.000000</td>\n",
       "      <td>397.000000</td>\n",
       "      <td>397.000000</td>\n",
       "    </tr>\n",
       "    <tr>\n",
       "      <th>mean</th>\n",
       "      <td>23.515869</td>\n",
       "      <td>5.458438</td>\n",
       "      <td>193.532746</td>\n",
       "      <td>104.469388</td>\n",
       "      <td>2970.261965</td>\n",
       "      <td>15.555668</td>\n",
       "      <td>75.994962</td>\n",
       "      <td>1.574307</td>\n",
       "    </tr>\n",
       "    <tr>\n",
       "      <th>std</th>\n",
       "      <td>7.825804</td>\n",
       "      <td>1.701577</td>\n",
       "      <td>104.379583</td>\n",
       "      <td>38.491160</td>\n",
       "      <td>847.904119</td>\n",
       "      <td>2.749995</td>\n",
       "      <td>3.690005</td>\n",
       "      <td>0.802549</td>\n",
       "    </tr>\n",
       "    <tr>\n",
       "      <th>min</th>\n",
       "      <td>9.000000</td>\n",
       "      <td>3.000000</td>\n",
       "      <td>68.000000</td>\n",
       "      <td>46.000000</td>\n",
       "      <td>1613.000000</td>\n",
       "      <td>8.000000</td>\n",
       "      <td>70.000000</td>\n",
       "      <td>1.000000</td>\n",
       "    </tr>\n",
       "    <tr>\n",
       "      <th>25%</th>\n",
       "      <td>17.500000</td>\n",
       "      <td>4.000000</td>\n",
       "      <td>104.000000</td>\n",
       "      <td>75.000000</td>\n",
       "      <td>2223.000000</td>\n",
       "      <td>13.800000</td>\n",
       "      <td>73.000000</td>\n",
       "      <td>1.000000</td>\n",
       "    </tr>\n",
       "    <tr>\n",
       "      <th>50%</th>\n",
       "      <td>23.000000</td>\n",
       "      <td>4.000000</td>\n",
       "      <td>146.000000</td>\n",
       "      <td>93.500000</td>\n",
       "      <td>2800.000000</td>\n",
       "      <td>15.500000</td>\n",
       "      <td>76.000000</td>\n",
       "      <td>1.000000</td>\n",
       "    </tr>\n",
       "    <tr>\n",
       "      <th>75%</th>\n",
       "      <td>29.000000</td>\n",
       "      <td>8.000000</td>\n",
       "      <td>262.000000</td>\n",
       "      <td>126.000000</td>\n",
       "      <td>3609.000000</td>\n",
       "      <td>17.100000</td>\n",
       "      <td>79.000000</td>\n",
       "      <td>2.000000</td>\n",
       "    </tr>\n",
       "    <tr>\n",
       "      <th>max</th>\n",
       "      <td>46.600000</td>\n",
       "      <td>8.000000</td>\n",
       "      <td>455.000000</td>\n",
       "      <td>230.000000</td>\n",
       "      <td>5140.000000</td>\n",
       "      <td>24.800000</td>\n",
       "      <td>82.000000</td>\n",
       "      <td>3.000000</td>\n",
       "    </tr>\n",
       "  </tbody>\n",
       "</table>\n",
       "</div>"
      ],
      "text/plain": [
       "              mpg   cylinders  displacement  horsepower       weight  \\\n",
       "count  397.000000  397.000000    397.000000  392.000000   397.000000   \n",
       "mean    23.515869    5.458438    193.532746  104.469388  2970.261965   \n",
       "std      7.825804    1.701577    104.379583   38.491160   847.904119   \n",
       "min      9.000000    3.000000     68.000000   46.000000  1613.000000   \n",
       "25%     17.500000    4.000000    104.000000   75.000000  2223.000000   \n",
       "50%     23.000000    4.000000    146.000000   93.500000  2800.000000   \n",
       "75%     29.000000    8.000000    262.000000  126.000000  3609.000000   \n",
       "max     46.600000    8.000000    455.000000  230.000000  5140.000000   \n",
       "\n",
       "       acceleration        year      origin  \n",
       "count    397.000000  397.000000  397.000000  \n",
       "mean      15.555668   75.994962    1.574307  \n",
       "std        2.749995    3.690005    0.802549  \n",
       "min        8.000000   70.000000    1.000000  \n",
       "25%       13.800000   73.000000    1.000000  \n",
       "50%       15.500000   76.000000    1.000000  \n",
       "75%       17.100000   79.000000    2.000000  \n",
       "max       24.800000   82.000000    3.000000  "
      ]
     },
     "execution_count": 4,
     "metadata": {},
     "output_type": "execute_result"
    }
   ],
   "source": [
    "auto.describe()"
   ]
  },
  {
   "cell_type": "code",
   "execution_count": 5,
   "metadata": {},
   "outputs": [
    {
     "data": {
      "image/png": "[encoded data removed]",
      "text/plain": [
       "<Figure size 576x576 with 2 Axes>"
      ]
     },
     "metadata": {
      "needs_background": "light"
     },
     "output_type": "display_data"
    }
   ],
   "source": [
    "plt.figure(figsize=(8,8))\n",
    "c= auto.corr()\n",
    "sn.heatmap(c,annot=True);\n",
    "\n",
    "#plt.figure()\n",
    "#sn.pairplot(auto);"
   ]
  },
  {
   "cell_type": "markdown",
   "metadata": {},
   "source": [
    "<h3>Q.3. Impute the missing values using median for the column. Given answer to Q.2, is this a good approach to fix the missing value problem?</h3>"
   ]
  },
  {
   "cell_type": "code",
   "execution_count": 6,
   "metadata": {},
   "outputs": [
    {
     "data": {
      "text/plain": [
       "count    392.000000\n",
       "mean     104.469388\n",
       "std       38.491160\n",
       "min       46.000000\n",
       "25%       75.000000\n",
       "50%       93.500000\n",
       "75%      126.000000\n",
       "max      230.000000\n",
       "Name: horsepower, dtype: float64"
      ]
     },
     "execution_count": 6,
     "metadata": {},
     "output_type": "execute_result"
    }
   ],
   "source": [
    "# Command(s):\n",
    "auto.horsepower.describe()\n",
    "m = auto.horsepower.median()\n",
    "auto.horsepower = auto.horsepower.fillna(m)\n",
    "\n",
    "# Comment (one sentence):\n",
    "# The horsepower distribution is skewed to the right, \n",
    "#   so the median provides a good reference for the center of the data."
   ]
  },
  {
   "cell_type": "code",
   "execution_count": 7,
   "metadata": {},
   "outputs": [
    {
     "data": {
      "image/png": "[encoded data removed]",
      "text/plain": [
       "<Figure size 432x288 with 1 Axes>"
      ]
     },
     "metadata": {
      "needs_background": "light"
     },
     "output_type": "display_data"
    }
   ],
   "source": [
    "counts, bins = np.histogram(auto.horsepower)\n",
    "plt.hist(bins[:-1], bins, weights=counts);"
   ]
  },
  {
   "cell_type": "markdown",
   "metadata": {},
   "source": [
    "<h3>Q.4. Develop a Linear Regression model that predicts mpg using all the available features in the data.frame. Summarize it and comment on its quality. </h3>"
   ]
  },
  {
   "cell_type": "code",
   "execution_count": 8,
   "metadata": {},
   "outputs": [
    {
     "name": "stdout",
     "output_type": "stream",
     "text": [
      "                            OLS Regression Results                            \n",
      "==============================================================================\n",
      "Dep. Variable:                    mpg   R-squared:                       0.815\n",
      "Model:                            OLS   Adj. R-squared:                  0.810\n",
      "Method:                 Least Squares   F-statistic:                     169.3\n",
      "Date:                Thu, 05 Nov 2020   Prob (F-statistic):           1.06e-94\n",
      "Time:                        11:59:46   Log-Likelihood:                -729.75\n",
      "No. Observations:                 277   AIC:                             1475.\n",
      "Df Residuals:                     269   BIC:                             1504.\n",
      "Df Model:                           7                                         \n",
      "Covariance Type:            nonrobust                                         \n",
      "================================================================================\n",
      "                   coef    std err          t      P>|t|      [0.025      0.975]\n",
      "--------------------------------------------------------------------------------\n",
      "const          -19.4223      5.586     -3.477      0.001     -30.421      -8.424\n",
      "cylinders       -0.3546      0.418     -0.848      0.397      -1.178       0.469\n",
      "displacement     0.0208      0.010      2.101      0.037       0.001       0.040\n",
      "horsepower      -0.0140      0.016     -0.861      0.390      -0.046       0.018\n",
      "weight          -0.0071      0.001     -8.462      0.000      -0.009      -0.005\n",
      "acceleration     0.0872      0.118      0.739      0.461      -0.145       0.320\n",
      "year             0.7922      0.062     12.801      0.000       0.670       0.914\n",
      "origin           1.1991      0.339      3.537      0.000       0.532       1.867\n",
      "==============================================================================\n",
      "Omnibus:                       21.404   Durbin-Watson:                   2.193\n",
      "Prob(Omnibus):                  0.000   Jarque-Bera (JB):               32.996\n",
      "Skew:                           0.500   Prob(JB):                     6.84e-08\n",
      "Kurtosis:                       4.363   Cond. No.                     8.36e+04\n",
      "==============================================================================\n",
      "\n",
      "Notes:\n",
      "[1] Standard Errors assume that the covariance matrix of the errors is correctly specified.\n",
      "[2] The condition number is large, 8.36e+04. This might indicate that there are\n",
      "strong multicollinearity or other numerical problems.\n",
      "year            1.280303e-29\n",
      "weight          1.710769e-15\n",
      "origin          4.762296e-04\n",
      "const           5.914986e-04\n",
      "displacement    3.656334e-02\n",
      "dtype: float64\n"
     ]
    }
   ],
   "source": [
    "# Develop the model \n",
    "from sklearn.model_selection import train_test_split\n",
    "import statsmodels.api as sm\n",
    "\n",
    "y = auto['mpg']\n",
    "X = auto.drop(['mpg'],axis=1)\n",
    "X_train, X_test, y_train, y_test = train_test_split(X, y, test_size=0.3)\n",
    "X_train_sm = sm.add_constant(X_train)\n",
    "statsModels = sm.OLS(y_train, X_train_sm).fit()\n",
    "print(statsModels.summary())\n",
    "print(statsModels.pvalues[statsModels.pvalues < 0.05].sort_values())\n",
    "pvals = pvals.join(pd.DataFrame(columns=['no_transform'],data=statsModels.pvalues))\n",
    "\n",
    "# Comment on its quality \n",
    "#  Many of the features are not relevant by looking at P values and confidence intervals. \n",
    "#  R^2 value of 0.815 means that the model is relatively well explained. \n",
    "#  Features: year, weight, origin, displacement are the most significant. "
   ]
  },
  {
   "cell_type": "markdown",
   "metadata": {},
   "source": [
    "<h3>Q.5. Show histogram of engine displacement to reveal its non-normal distribution.</h3>"
   ]
  },
  {
   "cell_type": "code",
   "execution_count": 9,
   "metadata": {},
   "outputs": [
    {
     "data": {
      "image/png": "[encoded data removed]",
      "text/plain": [
       "<Figure size 432x288 with 1 Axes>"
      ]
     },
     "metadata": {
      "needs_background": "light"
     },
     "output_type": "display_data"
    }
   ],
   "source": [
    "# Histogram of engine displacement\n",
    "counts, bins = np.histogram(auto.displacement)\n",
    "plt.hist(bins[:-1], bins, weights=counts);"
   ]
  },
  {
   "cell_type": "markdown",
   "metadata": {},
   "source": [
    "<h3>Q.6. Normalize this feature by either applying Box-Cox transformation or any normalization tool from Scikit-learn. Plot this new feature to see whether it is now normally distributed.</h3>"
   ]
  },
  {
   "cell_type": "code",
   "execution_count": 10,
   "metadata": {},
   "outputs": [
    {
     "data": {
      "image/png": "[encoded data removed]",
      "text/plain": [
       "<Figure size 432x288 with 1 Axes>"
      ]
     },
     "metadata": {
      "needs_background": "light"
     },
     "output_type": "display_data"
    }
   ],
   "source": [
    "# Plot histogram of this new feature to reveal normal-like distribution\n",
    "from sklearn.preprocessing import power_transform\n",
    "auto.displacement = power_transform(auto[['displacement']], method='box-cox')\n",
    "\n",
    "counts, bins = np.histogram(auto.displacement)\n",
    "plt.hist(bins[:-1], bins, weights=counts);"
   ]
  },
  {
   "cell_type": "markdown",
   "metadata": {},
   "source": [
    "<h3>Q.7. Recalculate the Linear Regression model to predict mpg with the new feature and comment on its performance in comparison to the original model.</h3>"
   ]
  },
  {
   "cell_type": "code",
   "execution_count": 11,
   "metadata": {},
   "outputs": [
    {
     "name": "stdout",
     "output_type": "stream",
     "text": [
      "                            OLS Regression Results                            \n",
      "==============================================================================\n",
      "Dep. Variable:                    mpg   R-squared:                       0.837\n",
      "Model:                            OLS   Adj. R-squared:                  0.833\n",
      "Method:                 Least Squares   F-statistic:                     197.3\n",
      "Date:                Thu, 05 Nov 2020   Prob (F-statistic):          4.73e-102\n",
      "Time:                        11:59:47   Log-Likelihood:                -717.51\n",
      "No. Observations:                 277   AIC:                             1451.\n",
      "Df Residuals:                     269   BIC:                             1480.\n",
      "Df Model:                           7                                         \n",
      "Covariance Type:            nonrobust                                         \n",
      "================================================================================\n",
      "                   coef    std err          t      P>|t|      [0.025      0.975]\n",
      "--------------------------------------------------------------------------------\n",
      "const          -32.2358      5.704     -5.651      0.000     -43.467     -21.005\n",
      "cylinders        1.2999      0.347      3.746      0.000       0.617       1.983\n",
      "displacement    -4.2399      0.796     -5.325      0.000      -5.807      -2.672\n",
      "horsepower       0.0056      0.015      0.373      0.709      -0.024       0.035\n",
      "weight          -0.0045      0.001     -5.586      0.000      -0.006      -0.003\n",
      "acceleration     0.0695      0.115      0.606      0.545      -0.156       0.295\n",
      "year             0.7858      0.061     12.847      0.000       0.665       0.906\n",
      "origin           0.3475      0.350      0.993      0.322      -0.342       1.037\n",
      "==============================================================================\n",
      "Omnibus:                       17.563   Durbin-Watson:                   1.933\n",
      "Prob(Omnibus):                  0.000   Jarque-Bera (JB):               33.344\n",
      "Skew:                           0.338   Prob(JB):                     5.75e-08\n",
      "Kurtosis:                       4.559   Cond. No.                     8.97e+04\n",
      "==============================================================================\n",
      "\n",
      "Notes:\n",
      "[1] Standard Errors assume that the covariance matrix of the errors is correctly specified.\n",
      "[2] The condition number is large, 8.97e+04. This might indicate that there are\n",
      "strong multicollinearity or other numerical problems.\n",
      "year            8.842332e-30\n",
      "const           4.061070e-08\n",
      "weight          5.681476e-08\n",
      "displacement    2.128166e-07\n",
      "cylinders       2.197407e-04\n",
      "dtype: float64\n"
     ]
    }
   ],
   "source": [
    "# Calculate then new model\n",
    "y = auto['mpg']\n",
    "X = auto.drop(['mpg'],axis=1)\n",
    "X_train, X_test, y_train, y_test = train_test_split(X, y, test_size=0.3)\n",
    "X_train_sm = sm.add_constant(X_train)\n",
    "statsModels = sm.OLS(y_train, X_train_sm).fit()\n",
    "print(statsModels.summary())\n",
    "print(statsModels.pvalues[statsModels.pvalues < 0.05].sort_values())\n",
    "pvals = pvals.join(pd.DataFrame(columns=['boxcox'],data=statsModels.pvalues))\n",
    "\n",
    "# Comment on its performance\n",
    "\n",
    "# The P value for displacement is on the order of e-7\n",
    "#   which is much smaller than the previous value meaning that it is more significant.\n",
    "\n",
    "# Also the R^2 value improved to 0.837.\n",
    "#   0.837 - 0.815 = 0.022 improvement."
   ]
  },
  {
   "cell_type": "markdown",
   "metadata": {},
   "source": [
    "<h3>Q.8. What is the mean and standard deviation for all the features?</h3>"
   ]
  },
  {
   "cell_type": "code",
   "execution_count": 12,
   "metadata": {},
   "outputs": [
    {
     "data": {
      "text/html": [
       "<div>\n",
       "<style scoped>\n",
       "    .dataframe tbody tr th:only-of-type {\n",
       "        vertical-align: middle;\n",
       "    }\n",
       "\n",
       "    .dataframe tbody tr th {\n",
       "        vertical-align: top;\n",
       "    }\n",
       "\n",
       "    .dataframe thead th {\n",
       "        text-align: right;\n",
       "    }\n",
       "</style>\n",
       "<table border=\"1\" class=\"dataframe\">\n",
       "  <thead>\n",
       "    <tr style=\"text-align: right;\">\n",
       "      <th></th>\n",
       "      <th>mean</th>\n",
       "      <th>std</th>\n",
       "    </tr>\n",
       "  </thead>\n",
       "  <tbody>\n",
       "    <tr>\n",
       "      <th>mpg</th>\n",
       "      <td>2.351587e+01</td>\n",
       "      <td>7.825804</td>\n",
       "    </tr>\n",
       "    <tr>\n",
       "      <th>cylinders</th>\n",
       "      <td>5.458438e+00</td>\n",
       "      <td>1.701577</td>\n",
       "    </tr>\n",
       "    <tr>\n",
       "      <th>displacement</th>\n",
       "      <td>2.526387e-15</td>\n",
       "      <td>1.001262</td>\n",
       "    </tr>\n",
       "    <tr>\n",
       "      <th>horsepower</th>\n",
       "      <td>1.043312e+02</td>\n",
       "      <td>38.266994</td>\n",
       "    </tr>\n",
       "    <tr>\n",
       "      <th>weight</th>\n",
       "      <td>2.970262e+03</td>\n",
       "      <td>847.904119</td>\n",
       "    </tr>\n",
       "    <tr>\n",
       "      <th>acceleration</th>\n",
       "      <td>1.555567e+01</td>\n",
       "      <td>2.749995</td>\n",
       "    </tr>\n",
       "    <tr>\n",
       "      <th>year</th>\n",
       "      <td>7.599496e+01</td>\n",
       "      <td>3.690005</td>\n",
       "    </tr>\n",
       "    <tr>\n",
       "      <th>origin</th>\n",
       "      <td>1.574307e+00</td>\n",
       "      <td>0.802549</td>\n",
       "    </tr>\n",
       "  </tbody>\n",
       "</table>\n",
       "</div>"
      ],
      "text/plain": [
       "                      mean         std\n",
       "mpg           2.351587e+01    7.825804\n",
       "cylinders     5.458438e+00    1.701577\n",
       "displacement  2.526387e-15    1.001262\n",
       "horsepower    1.043312e+02   38.266994\n",
       "weight        2.970262e+03  847.904119\n",
       "acceleration  1.555567e+01    2.749995\n",
       "year          7.599496e+01    3.690005\n",
       "origin        1.574307e+00    0.802549"
      ]
     },
     "execution_count": 12,
     "metadata": {},
     "output_type": "execute_result"
    }
   ],
   "source": [
    "pd.DataFrame(columns=['mean'], data=auto.mean()).join(\n",
    "    pd.DataFrame(columns=['std'], data=auto.std()\n",
    "))"
   ]
  },
  {
   "cell_type": "markdown",
   "metadata": {},
   "source": [
    "<h3>Q.9. Center all the features, so that their mean is 0 and scale them, so that their standard deviation is 1. Recalculate the Linear Regression model, comment on its performance.</h3>"
   ]
  },
  {
   "cell_type": "code",
   "execution_count": 13,
   "metadata": {},
   "outputs": [
    {
     "data": {
      "image/png": "[encoded data removed]",
      "text/plain": [
       "<Figure size 432x288 with 1 Axes>"
      ]
     },
     "metadata": {
      "needs_background": "light"
     },
     "output_type": "display_data"
    },
    {
     "name": "stdout",
     "output_type": "stream",
     "text": [
      "mean: 0.0, std: 1.0013\n"
     ]
    }
   ],
   "source": [
    "# Center and scale\n",
    "from sklearn import preprocessing\n",
    "auto = pd.read_csv('../data/auto.csv')\n",
    "auto.horsepower = auto.horsepower.fillna(auto.horsepower.median())\n",
    "auto = pd.DataFrame(columns=auto.columns,data=preprocessing.scale(auto))\n",
    "\n",
    "plt.figure()\n",
    "counts, bins = np.histogram(auto.displacement)\n",
    "plt.hist(bins[:-1], bins, weights=counts)\n",
    "plt.show()\n",
    "\n",
    "print(f'mean: {round(auto.displacement.mean(),4)}, std: {round(auto.displacement.std(),4)}');"
   ]
  },
  {
   "cell_type": "code",
   "execution_count": 14,
   "metadata": {},
   "outputs": [
    {
     "name": "stdout",
     "output_type": "stream",
     "text": [
      "                            OLS Regression Results                            \n",
      "==============================================================================\n",
      "Dep. Variable:                    mpg   R-squared:                       0.832\n",
      "Model:                            OLS   Adj. R-squared:                  0.828\n",
      "Method:                 Least Squares   F-statistic:                     190.4\n",
      "Date:                Thu, 05 Nov 2020   Prob (F-statistic):          2.53e-100\n",
      "Time:                        11:59:47   Log-Likelihood:                -152.61\n",
      "No. Observations:                 277   AIC:                             321.2\n",
      "Df Residuals:                     269   BIC:                             350.2\n",
      "Df Model:                           7                                         \n",
      "Covariance Type:            nonrobust                                         \n",
      "================================================================================\n",
      "                   coef    std err          t      P>|t|      [0.025      0.975]\n",
      "--------------------------------------------------------------------------------\n",
      "const            0.0081      0.026      0.316      0.752      -0.043       0.059\n",
      "cylinders       -0.0969      0.082     -1.179      0.239      -0.259       0.065\n",
      "displacement     0.2774      0.115      2.410      0.017       0.051       0.504\n",
      "horsepower      -0.0744      0.081     -0.916      0.361      -0.234       0.086\n",
      "weight          -0.7553      0.080     -9.399      0.000      -0.913      -0.597\n",
      "acceleration     0.0251      0.041      0.613      0.541      -0.055       0.106\n",
      "year             0.3505      0.029     12.188      0.000       0.294       0.407\n",
      "origin           0.1107      0.034      3.291      0.001       0.044       0.177\n",
      "==============================================================================\n",
      "Omnibus:                        9.954   Durbin-Watson:                   2.190\n",
      "Prob(Omnibus):                  0.007   Jarque-Bera (JB):               12.708\n",
      "Skew:                           0.298   Prob(JB):                      0.00174\n",
      "Kurtosis:                       3.863   Cond. No.                         11.5\n",
      "==============================================================================\n",
      "\n",
      "Notes:\n",
      "[1] Standard Errors assume that the covariance matrix of the errors is correctly specified.\n",
      "year            1.682749e-27\n",
      "weight          2.491623e-18\n",
      "origin          1.130035e-03\n",
      "displacement    1.660886e-02\n",
      "dtype: float64\n"
     ]
    }
   ],
   "source": [
    "# Recalculate the model\n",
    "y = auto['mpg']\n",
    "X = auto.drop(['mpg'],axis=1)\n",
    "X_train, X_test, y_train, y_test = train_test_split(X, y, test_size=0.3)\n",
    "X_train_sm = sm.add_constant(X_train)\n",
    "statsModels = sm.OLS(y_train, X_train_sm).fit()\n",
    "print(statsModels.summary())\n",
    "print(statsModels.pvalues[statsModels.pvalues < 0.05].sort_values())\n",
    "pvals = pvals.join(pd.DataFrame(columns=['scale'],data=statsModels.pvalues))"
   ]
  },
  {
   "cell_type": "code",
   "execution_count": 15,
   "metadata": {},
   "outputs": [
    {
     "data": {
      "text/html": [
       "<div>\n",
       "<style scoped>\n",
       "    .dataframe tbody tr th:only-of-type {\n",
       "        vertical-align: middle;\n",
       "    }\n",
       "\n",
       "    .dataframe tbody tr th {\n",
       "        vertical-align: top;\n",
       "    }\n",
       "\n",
       "    .dataframe thead th {\n",
       "        text-align: right;\n",
       "    }\n",
       "</style>\n",
       "<table border=\"1\" class=\"dataframe\">\n",
       "  <thead>\n",
       "    <tr style=\"text-align: right;\">\n",
       "      <th></th>\n",
       "      <th>no_transform</th>\n",
       "      <th>boxcox</th>\n",
       "      <th>scale</th>\n",
       "    </tr>\n",
       "  </thead>\n",
       "  <tbody>\n",
       "    <tr>\n",
       "      <th>year</th>\n",
       "      <td>1.280303e-29</td>\n",
       "      <td>8.842332e-30</td>\n",
       "      <td>1.682749e-27</td>\n",
       "    </tr>\n",
       "    <tr>\n",
       "      <th>weight</th>\n",
       "      <td>1.710769e-15</td>\n",
       "      <td>5.681476e-08</td>\n",
       "      <td>2.491623e-18</td>\n",
       "    </tr>\n",
       "    <tr>\n",
       "      <th>origin</th>\n",
       "      <td>4.762296e-04</td>\n",
       "      <td>3.217002e-01</td>\n",
       "      <td>1.130035e-03</td>\n",
       "    </tr>\n",
       "    <tr>\n",
       "      <th>displacement</th>\n",
       "      <td>3.656334e-02</td>\n",
       "      <td>2.128166e-07</td>\n",
       "      <td>1.660886e-02</td>\n",
       "    </tr>\n",
       "    <tr>\n",
       "      <th>horsepower</th>\n",
       "      <td>3.902340e-01</td>\n",
       "      <td>7.093347e-01</td>\n",
       "      <td>3.605631e-01</td>\n",
       "    </tr>\n",
       "    <tr>\n",
       "      <th>cylinders</th>\n",
       "      <td>3.974038e-01</td>\n",
       "      <td>2.197407e-04</td>\n",
       "      <td>2.394998e-01</td>\n",
       "    </tr>\n",
       "    <tr>\n",
       "      <th>acceleration</th>\n",
       "      <td>4.607504e-01</td>\n",
       "      <td>5.450955e-01</td>\n",
       "      <td>5.405046e-01</td>\n",
       "    </tr>\n",
       "    <tr>\n",
       "      <th>mpg</th>\n",
       "      <td>NaN</td>\n",
       "      <td>NaN</td>\n",
       "      <td>NaN</td>\n",
       "    </tr>\n",
       "  </tbody>\n",
       "</table>\n",
       "</div>"
      ],
      "text/plain": [
       "              no_transform        boxcox         scale\n",
       "year          1.280303e-29  8.842332e-30  1.682749e-27\n",
       "weight        1.710769e-15  5.681476e-08  2.491623e-18\n",
       "origin        4.762296e-04  3.217002e-01  1.130035e-03\n",
       "displacement  3.656334e-02  2.128166e-07  1.660886e-02\n",
       "horsepower    3.902340e-01  7.093347e-01  3.605631e-01\n",
       "cylinders     3.974038e-01  2.197407e-04  2.394998e-01\n",
       "acceleration  4.607504e-01  5.450955e-01  5.405046e-01\n",
       "mpg                    NaN           NaN           NaN"
      ]
     },
     "execution_count": 15,
     "metadata": {},
     "output_type": "execute_result"
    }
   ],
   "source": [
    "pvals = pvals.sort_values(['no_transform'])\n",
    "pvals"
   ]
  },
  {
   "cell_type": "code",
   "execution_count": 16,
   "metadata": {},
   "outputs": [],
   "source": [
    "# Comment on its performance\n",
    "\n",
    "# The R^2 value dropped slightly which means that the preprocessing \n",
    "#  didn't help the model. Slightly less data is explained.\n",
    "\n",
    "# In fact, forcing the data into a normal Gaussian distrbution\n",
    "#  can take away information.\n",
    "\n",
    "# The displacement P value is on the order e-2 which means\n",
    "#  it is less significant than the box-cox transformation."
   ]
  },
  {
   "cell_type": "markdown",
   "metadata": {},
   "source": [
    "<h3>Q.10. Create a new text cell in your Notebook: Complete a 50-100 word summary \n",
    "    (or short description of your thinking in applying this week's learning to the solution) \n",
    "     of your experience in this assignment. Include:\n",
    "<br>                                                                       \n",
    "What was your incoming experience with this model, if any?\n",
    "what steps you took, what obstacles you encountered.\n",
    "how you link this exercise to real-world, machine learning problem-solving. (What steps were missing? What else do you need to learn?)\n",
    "This summary allows your instructor to know how you are doing and allot points for your effort in thinking and planning, and making connections to real-world work.\n",
    "</h3>"
   ]
  },
  {
   "cell_type": "markdown",
   "metadata": {},
   "source": [
    "<p>\n",
    "<b> enter summery here</b>\n",
    "\n",
    "I have some experience with data transformations. In my electrical engineering class, I often look at the log of my values. I enjoyed learning the other common transformations and how to visualize them. The most important lesson was understanding missing data and how to fill missing values without changing the information.\n",
    "</p>"
   ]
  },
  {
   "cell_type": "code",
   "execution_count": null,
   "metadata": {},
   "outputs": [],
   "source": []
  }
 ],
 "metadata": {
  "kernelspec": {
   "display_name": "Python 3",
   "language": "python",
   "name": "python3"
  },
  "language_info": {
   "codemirror_mode": {
    "name": "ipython",
    "version": 3
   },
   "file_extension": ".py",
   "mimetype": "text/x-python",
   "name": "python",
   "nbconvert_exporter": "python",
   "pygments_lexer": "ipython3",
   "version": "3.7.4"
  }
 },
 "nbformat": 4,
 "nbformat_minor": 2
}
